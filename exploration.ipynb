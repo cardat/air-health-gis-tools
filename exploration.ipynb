{
 "cells": [
  {
   "cell_type": "code",
   "execution_count": 12,
   "id": "8ed24b6e",
   "metadata": {},
   "outputs": [],
   "source": [
    "#Geo libraries\n",
    "import rasterio\n",
    "import geopandas as gpd\n",
    "from osgeo import gdal\n",
    "from osgeo import osr\n",
    "from osgeo import ogr \n",
    "import shapefile\n",
    "import rasterstats as rs\n",
    "\n",
    "#Standard libraries\n",
    "import pandas as pd\n",
    "import numpy as np\n",
    "import matplotlib.pyplot as plt\n",
    "\n",
    "#Python base libraries\n",
    "import re\n",
    "import glob\n",
    "import multiprocessing as mp\n",
    "\n",
    "import numba\n",
    "from numba import jit\n",
    "\n",
    "import swifter\n",
    "from numba import cuda\n",
    "\n",
    "import dask.dataframe as dd\n",
    "from dask.multiprocessing import get\n",
    "import dask.bag as db\n",
    "\n",
    "from scipy import signal\n",
    "import scipy"
   ]
  },
  {
   "cell_type": "code",
   "execution_count": 48,
   "id": "308c833b",
   "metadata": {},
   "outputs": [
    {
     "name": "stdout",
     "output_type": "stream",
     "text": [
      "Wall time: 12.9 s\n"
     ]
    }
   ],
   "source": [
    "%%time\n",
    "pointsfile=\"AUS_points_5km.shp\"\n",
    "sjer_plots_points = gpd.read_file(pointsfile)\n",
    "#sjer_plots_points=sjer_plots_points.iloc[::10, :]\n",
    "# Create a buffered polygon layer from your plot location points\n",
    "#sjer_plots_poly = sjer_plots_points.copy()\n",
    "# Buffer each point using a 700 meter circle radius\n",
    "# and replace the point geometry with the new buffered geometry\n",
    "#sjer_plots_poly[\"geometry\"] = sjer_plots_points.geometry.buffer(700)\n",
    "#sjer_plots_poly.head()"
   ]
  },
  {
   "cell_type": "code",
   "execution_count": 3,
   "id": "ef49b585",
   "metadata": {},
   "outputs": [],
   "source": [
    "#sjer_plots_points=sjer_plots_points.iloc[::100, :]"
   ]
  },
  {
   "cell_type": "code",
   "execution_count": 35,
   "id": "75e0150b",
   "metadata": {},
   "outputs": [
    {
     "data": {
      "text/plain": [
       "<AxesSubplot:>"
      ]
     },
     "execution_count": 35,
     "metadata": {},
     "output_type": "execute_result"
    },
    {
     "data": {
      "image/png": "[encoded data removed]",
      "text/plain": [
       "<Figure size 432x288 with 1 Axes>"
      ]
     },
     "metadata": {
      "needs_background": "light"
     },
     "output_type": "display_data"
    }
   ],
   "source": [
    "sjer_plots_points.plot()"
   ]
  },
  {
   "cell_type": "code",
   "execution_count": 3,
   "id": "e1b2ba0a",
   "metadata": {},
   "outputs": [],
   "source": [
    "folder=\"ABS1x1km_Aus_Pop_Grid_2006_2020/data_provided/\"\n",
    "tiffile=\"apg06e_f_001_20210512.tif\""
   ]
  },
  {
   "cell_type": "code",
   "execution_count": 5,
   "id": "0402c0ed",
   "metadata": {},
   "outputs": [],
   "source": [
    "# %%time\n",
    "# ##RASTERIO\n",
    "# src = rasterio.open(folder+tiffile)\n",
    "# array_rasterio = src.read(1)\n",
    "# nodataval= src.nodatavals\n",
    "\n",
    "# if np.any(array_rasterio == nodataval):\n",
    "#     array_rasterio[array_rasterio == nodataval] = np.nan\n",
    "    \n",
    "# print(np.shape(array_rasterio))"
   ]
  },
  {
   "cell_type": "code",
   "execution_count": 6,
   "id": "6c756c91",
   "metadata": {},
   "outputs": [],
   "source": [
    "# plt.imshow(array_rasterio,vmin=0,vmax=1)\n",
    "# plt.show()"
   ]
  },
  {
   "cell_type": "code",
   "execution_count": 11,
   "id": "6ed4beff",
   "metadata": {},
   "outputs": [
    {
     "name": "stdout",
     "output_type": "stream",
     "text": [
      "(4100, 7401)\n",
      "Wall time: 887 ms\n"
     ]
    }
   ],
   "source": [
    "%%time\n",
    "##GDAL\n",
    "gdal_data = gdal.Open(folder+tiffile)\n",
    "gdal_band = gdal_data.GetRasterBand(1)\n",
    "nodataval = gdal_band.GetNoDataValue()\n",
    "array_gdal = gdal_data.ReadAsArray().astype(np.float)\n",
    "gt = gdal_data.GetGeoTransform()\n",
    "\n",
    "if np.any(array_gdal == nodataval):\n",
    "    array_gdal[array_gdal == nodataval] = np.nan\n",
    "    \n",
    "print(np.shape(array_gdal))"
   ]
  },
  {
   "cell_type": "code",
   "execution_count": 46,
   "id": "3e8c3266",
   "metadata": {},
   "outputs": [
    {
     "name": "stdout",
     "output_type": "stream",
     "text": [
      "\n",
      "Execution times for \"large\" array:\n",
      "    generic filter: 1182.552415 s\n",
      "    convolve2d: 17.357236 s\n"
     ]
    }
   ],
   "source": [
    "import numpy as np\n",
    "from scipy.signal import convolve2d\n",
    "from scipy.ndimage import generic_filter\n",
    "import time\n",
    "\n",
    "\n",
    "def buffer_neighbor_average_generic_filter(x,buffer):\n",
    "    footprint = create_buffer(buffer)\n",
    "\n",
    "    result = generic_filter(\n",
    "        x.astype('float'), np.nanmean, footprint=footprint,\n",
    "        mode='constant', cval=np.nan)\n",
    "\n",
    "    return result\n",
    "\n",
    "def buffer_convolve2d(x,buffer):\n",
    "    kernel = create_buffer(buffer)\n",
    "\n",
    "    neighbor_sum = convolve2d(\n",
    "        x, kernel, mode='same',\n",
    "        boundary='fill', fillvalue=0)\n",
    "\n",
    "    num_neighbor = convolve2d(\n",
    "        np.ones(x.shape), kernel, mode='same',\n",
    "        boundary='fill', fillvalue=0)\n",
    "\n",
    "    return neighbor_sum / num_neighbor\n",
    "\n",
    "\n",
    "if __name__ == '__main__':\n",
    "   \n",
    "    #t0 = time.time()\n",
    "    #y1_large = buffer_neighbor_average_generic_filter(array_gdal,10)\n",
    "    #t_generic_filter = time.time() - t0\n",
    "\n",
    "    t0 = time.time()\n",
    "    y2_large = buffer_convolve2d(array_gdal,10)\n",
    "    t_convolve2d = time.time() - t0\n",
    "\n",
    "    print('\\nExecution times for \"large\" array:')\n",
    "    print('    generic filter: %f s' % t_generic_filter)\n",
    "    print('    convolve2d: %f s' % t_convolve2d)"
   ]
  },
  {
   "cell_type": "code",
   "execution_count": 112,
   "id": "2e331f7e",
   "metadata": {},
   "outputs": [
    {
     "name": "stdout",
     "output_type": "stream",
     "text": [
      "1000.0\n"
     ]
    }
   ],
   "source": [
    "buff=10000\n",
    "print(gt[1])"
   ]
  },
  {
   "cell_type": "code",
   "execution_count": 113,
   "id": "ed2d22bf",
   "metadata": {},
   "outputs": [
    {
     "name": "stdout",
     "output_type": "stream",
     "text": [
      "10\n",
      "[[1. 1. 1. 1. 1. 1. 1. 1. 1. 1.]\n",
      " [1. 1. 1. 1. 1. 1. 1. 1. 1. 1.]\n",
      " [1. 1. 1. 1. 1. 1. 1. 1. 1. 1.]\n",
      " [1. 1. 1. 1. 1. 1. 1. 1. 1. 1.]\n",
      " [1. 1. 1. 1. 1. 1. 1. 1. 1. 1.]\n",
      " [1. 1. 1. 1. 1. 1. 1. 1. 1. 1.]\n",
      " [1. 1. 1. 1. 1. 1. 1. 1. 1. 1.]\n",
      " [1. 1. 1. 1. 1. 1. 1. 1. 1. 1.]\n",
      " [1. 1. 1. 1. 1. 1. 1. 1. 1. 1.]\n",
      " [1. 1. 1. 1. 1. 1. 1. 1. 1. 1.]]\n"
     ]
    }
   ],
   "source": [
    "b=int(np.ceil(buff/gt[1]))\n",
    "print(b)\n",
    "z=np.ones((b,b))\n",
    "\n",
    "z\n",
    "print(z)\n",
    "#x2+y2=r\n",
    "#dist_from_center = np.sqrt((X)**2 + (Y-center[1])**2)\n",
    "\n",
    "#    mask = dist_from_center <= radius"
   ]
  },
  {
   "cell_type": "code",
   "execution_count": 121,
   "id": "3f4a7fb0",
   "metadata": {},
   "outputs": [],
   "source": [
    "z[0]=np.nan\n",
    "z[4,5]=np.nan\n",
    "from scipy.ndimage import convolve"
   ]
  },
  {
   "cell_type": "code",
   "execution_count": 122,
   "id": "8b912e9f",
   "metadata": {},
   "outputs": [
    {
     "name": "stdout",
     "output_type": "stream",
     "text": [
      "[[1. 1.]\n",
      " [1. 1.]]\n"
     ]
    }
   ],
   "source": [
    "kernel=np.ones((2,2))\n",
    "print(kernel)"
   ]
  },
  {
   "cell_type": "code",
   "execution_count": 123,
   "id": "db084b23",
   "metadata": {},
   "outputs": [
    {
     "data": {
      "text/plain": [
       "array([[nan, nan, nan, nan, nan, nan, nan, nan, nan, nan],\n",
       "       [ 1.,  1.,  1.,  1.,  1.,  1.,  1.,  1.,  1.,  1.],\n",
       "       [ 1.,  1.,  1.,  1.,  1.,  1.,  1.,  1.,  1.,  1.],\n",
       "       [ 1.,  1.,  1.,  1.,  1.,  1.,  1.,  1.,  1.,  1.],\n",
       "       [ 1.,  1.,  1.,  1.,  1., nan,  1.,  1.,  1.,  1.],\n",
       "       [ 1.,  1.,  1.,  1.,  1.,  1.,  1.,  1.,  1.,  1.],\n",
       "       [ 1.,  1.,  1.,  1.,  1.,  1.,  1.,  1.,  1.,  1.],\n",
       "       [ 1.,  1.,  1.,  1.,  1.,  1.,  1.,  1.,  1.,  1.],\n",
       "       [ 1.,  1.,  1.,  1.,  1.,  1.,  1.,  1.,  1.,  1.],\n",
       "       [ 1.,  1.,  1.,  1.,  1.,  1.,  1.,  1.,  1.,  1.]])"
      ]
     },
     "execution_count": 123,
     "metadata": {},
     "output_type": "execute_result"
    }
   ],
   "source": [
    "z"
   ]
  },
  {
   "cell_type": "code",
   "execution_count": 125,
   "id": "24e94388",
   "metadata": {},
   "outputs": [
    {
     "data": {
      "text/plain": [
       "array([[4., 4., 4., 4., 4., 4., 4., 4., 4., 4.],\n",
       "       [4., 4., 4., 4., 4., 4., 4., 4., 4., 4.],\n",
       "       [4., 4., 4., 4., 4., 4., 4., 4., 4., 4.],\n",
       "       [4., 4., 4., 4., 4., 4., 4., 4., 4., 4.],\n",
       "       [4., 4., 4., 4., 4., 4., 4., 4., 4., 4.],\n",
       "       [4., 4., 4., 4., 4., 4., 4., 4., 4., 4.],\n",
       "       [4., 4., 4., 4., 4., 4., 4., 4., 4., 4.],\n",
       "       [4., 4., 4., 4., 4., 4., 4., 4., 4., 4.],\n",
       "       [4., 4., 4., 4., 4., 4., 4., 4., 4., 4.],\n",
       "       [4., 4., 4., 4., 4., 4., 4., 4., 4., 4.]])"
      ]
     },
     "execution_count": 125,
     "metadata": {},
     "output_type": "execute_result"
    }
   ],
   "source": [
    "convolve(np.ones(z.shape), kernel, mode='reflect', cval=0)"
   ]
  },
  {
   "cell_type": "code",
   "execution_count": 128,
   "id": "05266f6f",
   "metadata": {},
   "outputs": [
    {
     "data": {
      "text/plain": [
       "array([[1., 2., 2., 2., 2., 2., 2., 2., 2., 2.],\n",
       "       [2., 4., 4., 4., 4., 4., 4., 4., 4., 4.],\n",
       "       [2., 4., 4., 4., 4., 4., 4., 4., 4., 4.],\n",
       "       [2., 4., 4., 4., 4., 4., 4., 4., 4., 4.],\n",
       "       [2., 4., 4., 4., 4., 4., 4., 4., 4., 4.],\n",
       "       [2., 4., 4., 4., 4., 4., 4., 4., 4., 4.],\n",
       "       [2., 4., 4., 4., 4., 4., 4., 4., 4., 4.],\n",
       "       [2., 4., 4., 4., 4., 4., 4., 4., 4., 4.],\n",
       "       [2., 4., 4., 4., 4., 4., 4., 4., 4., 4.],\n",
       "       [2., 4., 4., 4., 4., 4., 4., 4., 4., 4.]])"
      ]
     },
     "execution_count": 128,
     "metadata": {},
     "output_type": "execute_result"
    }
   ],
   "source": [
    "scipy.signal.convolve2d(np.ones(z.shape), kernel, mode='same')"
   ]
  },
  {
   "cell_type": "code",
   "execution_count": 47,
   "id": "4ae14678",
   "metadata": {},
   "outputs": [
    {
     "name": "stdout",
     "output_type": "stream",
     "text": [
      "17.7 s ± 423 ms per loop (mean ± std. dev. of 7 runs, 1 loop each)\n"
     ]
    }
   ],
   "source": [
    "%%time\n",
    "y2_large = buffer_convolve2d(array_gdal,10)"
   ]
  },
  {
   "cell_type": "code",
   "execution_count": 51,
   "id": "9783784a",
   "metadata": {},
   "outputs": [
    {
     "name": "stdout",
     "output_type": "stream",
     "text": [
      "Wall time: 49.8 s\n"
     ]
    }
   ],
   "source": [
    "%%time\n",
    "sjer_plots_points[\"ind\"] = sjer_plots_points.apply(lambda x: get_coords_at_point(gt, x.geometry.x, x.geometry.y), axis=1)"
   ]
  },
  {
   "cell_type": "code",
   "execution_count": 55,
   "id": "00e820ce",
   "metadata": {},
   "outputs": [
    {
     "data": {
      "text/plain": [
       "0           (12, 5052)\n",
       "1           (12, 5057)\n",
       "2           (17, 5057)\n",
       "3           (17, 5062)\n",
       "4           (32, 5102)\n",
       "              ...     \n",
       "307499    (3832, 5127)\n",
       "307500    (3832, 5132)\n",
       "307501    (3832, 5137)\n",
       "307502    (3832, 5142)\n",
       "307503    (3837, 5142)\n",
       "Name: ind, Length: 307504, dtype: object"
      ]
     },
     "execution_count": 55,
     "metadata": {},
     "output_type": "execute_result"
    }
   ],
   "source": [
    "sjer_plots_points[\"ind\"]"
   ]
  },
  {
   "cell_type": "code",
   "execution_count": 77,
   "id": "f1fe3eef",
   "metadata": {},
   "outputs": [
    {
     "data": {
      "text/plain": [
       "array([nan, nan])"
      ]
     },
     "execution_count": 77,
     "metadata": {},
     "output_type": "execute_result"
    }
   ],
   "source": [
    "#np.take(y2_large,(12, 5057))\n",
    "sjer_plots_points.ind.loc[287914]\n",
    "np.take(array_gdal,2832, 5662)"
   ]
  },
  {
   "cell_type": "code",
   "execution_count": 78,
   "id": "0f9af718",
   "metadata": {},
   "outputs": [
    {
     "data": {
      "text/plain": [
       "2113.18603515625"
      ]
     },
     "execution_count": 78,
     "metadata": {},
     "output_type": "execute_result"
    }
   ],
   "source": [
    "array_gdal[2832,5662]"
   ]
  },
  {
   "cell_type": "code",
   "execution_count": 79,
   "id": "24666573",
   "metadata": {},
   "outputs": [],
   "source": [
    "sjer_plots_points['Raster'] = [y2_large[x] for x in sjer_plots_points[\"ind\"]]"
   ]
  },
  {
   "cell_type": "code",
   "execution_count": 83,
   "id": "62647687",
   "metadata": {},
   "outputs": [
    {
     "data": {
      "text/plain": [
       "array([nan, nan, nan, ..., nan, nan, nan])"
      ]
     },
     "execution_count": 83,
     "metadata": {},
     "output_type": "execute_result"
    }
   ],
   "source": [
    "sjer_plots_points['Raster'].values"
   ]
  },
  {
   "cell_type": "code",
   "execution_count": null,
   "id": "130f3a62",
   "metadata": {},
   "outputs": [],
   "source": [
    "For each buffer\n",
    "Run convolve\n",
    "For each point querey ocnvolution\n",
    "Get index for each point and querey point"
   ]
  },
  {
   "cell_type": "code",
   "execution_count": 45,
   "id": "5e7106f0",
   "metadata": {},
   "outputs": [],
   "source": [
    "def create_buffer(r, center=None, radius=None):\n",
    "\n",
    "    if center is None: # use the middle of the image\n",
    "        center = (int(r/2), int(r/2))\n",
    "    if radius is None: # use the smallest distance between the center and image walls\n",
    "        radius = min(center[0], center[1], r-center[0], r-center[1])\n",
    "\n",
    "    Y, X = np.ogrid[:r, :r]\n",
    "    dist_from_center = np.sqrt((X - center[0])**2 + (Y-center[1])**2)\n",
    "\n",
    "    mask = dist_from_center <= radius\n",
    "    return mask*1.0"
   ]
  },
  {
   "cell_type": "code",
   "execution_count": null,
   "id": "a13248d9",
   "metadata": {},
   "outputs": [],
   "source": []
  },
  {
   "cell_type": "code",
   "execution_count": 21,
   "id": "0b50bc90",
   "metadata": {},
   "outputs": [],
   "source": [
    "buff=create_buffer(10)"
   ]
  },
  {
   "cell_type": "code",
   "execution_count": 23,
   "id": "62bf8d9f",
   "metadata": {},
   "outputs": [
    {
     "ename": "RuntimeError",
     "evalue": "filter weights array has incorrect shape.",
     "output_type": "error",
     "traceback": [
      "\u001b[1;31m---------------------------------------------------------------------------\u001b[0m",
      "\u001b[1;31mRuntimeError\u001b[0m                              Traceback (most recent call last)",
      "\u001b[1;32m<ipython-input-23-0607a9e1f7b2>\u001b[0m in \u001b[0;36m<module>\u001b[1;34m\u001b[0m\n\u001b[1;32m----> 1\u001b[1;33m \u001b[0mgdal_buffed\u001b[0m\u001b[1;33m=\u001b[0m\u001b[0mscipy\u001b[0m\u001b[1;33m.\u001b[0m\u001b[0mndimage\u001b[0m\u001b[1;33m.\u001b[0m\u001b[0mconvolve\u001b[0m\u001b[1;33m(\u001b[0m\u001b[0mgdal_data\u001b[0m\u001b[1;33m,\u001b[0m \u001b[0mbuff\u001b[0m\u001b[1;33m,\u001b[0m \u001b[0mmode\u001b[0m\u001b[1;33m=\u001b[0m\u001b[1;34m'constant'\u001b[0m\u001b[1;33m,\u001b[0m \u001b[0mcval\u001b[0m\u001b[1;33m=\u001b[0m\u001b[1;36m0.0\u001b[0m\u001b[1;33m)\u001b[0m\u001b[1;33m\u001b[0m\u001b[1;33m\u001b[0m\u001b[0m\n\u001b[0m",
      "\u001b[1;32mc:\\users\\nbutter\\miniconda3\\envs\\geopy\\lib\\site-packages\\scipy\\ndimage\\filters.py\u001b[0m in \u001b[0;36mconvolve\u001b[1;34m(input, weights, output, mode, cval, origin)\u001b[0m\n\u001b[0;32m    753\u001b[0m     \"\"\"\n\u001b[0;32m    754\u001b[0m     return _correlate_or_convolve(input, weights, output, mode, cval,\n\u001b[1;32m--> 755\u001b[1;33m                                   origin, True)\n\u001b[0m\u001b[0;32m    756\u001b[0m \u001b[1;33m\u001b[0m\u001b[0m\n\u001b[0;32m    757\u001b[0m \u001b[1;33m\u001b[0m\u001b[0m\n",
      "\u001b[1;32mc:\\users\\nbutter\\miniconda3\\envs\\geopy\\lib\\site-packages\\scipy\\ndimage\\filters.py\u001b[0m in \u001b[0;36m_correlate_or_convolve\u001b[1;34m(input, weights, output, mode, cval, origin, convolution)\u001b[0m\n\u001b[0;32m    603\u001b[0m     \u001b[0mwshape\u001b[0m \u001b[1;33m=\u001b[0m \u001b[1;33m[\u001b[0m\u001b[0mii\u001b[0m \u001b[1;32mfor\u001b[0m \u001b[0mii\u001b[0m \u001b[1;32min\u001b[0m \u001b[0mweights\u001b[0m\u001b[1;33m.\u001b[0m\u001b[0mshape\u001b[0m \u001b[1;32mif\u001b[0m \u001b[0mii\u001b[0m \u001b[1;33m>\u001b[0m \u001b[1;36m0\u001b[0m\u001b[1;33m]\u001b[0m\u001b[1;33m\u001b[0m\u001b[1;33m\u001b[0m\u001b[0m\n\u001b[0;32m    604\u001b[0m     \u001b[1;32mif\u001b[0m \u001b[0mlen\u001b[0m\u001b[1;33m(\u001b[0m\u001b[0mwshape\u001b[0m\u001b[1;33m)\u001b[0m \u001b[1;33m!=\u001b[0m \u001b[0minput\u001b[0m\u001b[1;33m.\u001b[0m\u001b[0mndim\u001b[0m\u001b[1;33m:\u001b[0m\u001b[1;33m\u001b[0m\u001b[1;33m\u001b[0m\u001b[0m\n\u001b[1;32m--> 605\u001b[1;33m         \u001b[1;32mraise\u001b[0m \u001b[0mRuntimeError\u001b[0m\u001b[1;33m(\u001b[0m\u001b[1;34m'filter weights array has incorrect shape.'\u001b[0m\u001b[1;33m)\u001b[0m\u001b[1;33m\u001b[0m\u001b[1;33m\u001b[0m\u001b[0m\n\u001b[0m\u001b[0;32m    606\u001b[0m     \u001b[1;32mif\u001b[0m \u001b[0mconvolution\u001b[0m\u001b[1;33m:\u001b[0m\u001b[1;33m\u001b[0m\u001b[1;33m\u001b[0m\u001b[0m\n\u001b[0;32m    607\u001b[0m         \u001b[0mweights\u001b[0m \u001b[1;33m=\u001b[0m \u001b[0mweights\u001b[0m\u001b[1;33m[\u001b[0m\u001b[0mtuple\u001b[0m\u001b[1;33m(\u001b[0m\u001b[1;33m[\u001b[0m\u001b[0mslice\u001b[0m\u001b[1;33m(\u001b[0m\u001b[1;32mNone\u001b[0m\u001b[1;33m,\u001b[0m \u001b[1;32mNone\u001b[0m\u001b[1;33m,\u001b[0m \u001b[1;33m-\u001b[0m\u001b[1;36m1\u001b[0m\u001b[1;33m)\u001b[0m\u001b[1;33m]\u001b[0m \u001b[1;33m*\u001b[0m \u001b[0mweights\u001b[0m\u001b[1;33m.\u001b[0m\u001b[0mndim\u001b[0m\u001b[1;33m)\u001b[0m\u001b[1;33m]\u001b[0m\u001b[1;33m\u001b[0m\u001b[1;33m\u001b[0m\u001b[0m\n",
      "\u001b[1;31mRuntimeError\u001b[0m: filter weights array has incorrect shape."
     ]
    }
   ],
   "source": [
    "gdal_buffed=scipy.ndimage.convolve(gdal_data, buff, mode='constant', cval=0.0)"
   ]
  },
  {
   "cell_type": "code",
   "execution_count": 9,
   "id": "a0b1569c",
   "metadata": {},
   "outputs": [],
   "source": [
    "gdal_data.GetMetadata_List(\"LAYERS\")"
   ]
  },
  {
   "cell_type": "code",
   "execution_count": 5,
   "id": "50b00b08",
   "metadata": {},
   "outputs": [
    {
     "data": {
      "image/png": "[encoded data removed]",
      "text/plain": [
       "<Figure size 432x288 with 1 Axes>"
      ]
     },
     "metadata": {
      "needs_background": "light"
     },
     "output_type": "display_data"
    }
   ],
   "source": [
    "plt.imshow(array_gdal,vmin=0,vmax=1)\n",
    "plt.show()"
   ]
  },
  {
   "cell_type": "code",
   "execution_count": 12,
   "id": "c663cf2b",
   "metadata": {},
   "outputs": [],
   "source": [
    "# %%time\n",
    "# def returnValuePoints(x, y):\n",
    "#     point = (x, y)\n",
    "#     col = int((point[0] - -3901000.0) /1000.0)\n",
    "#     row = int((point[1] - -1000000.0) / -1000.0)\n",
    "#     return (row, col)\n",
    "\n",
    "# sjer_plots_points[\"ind\"] = sjer_plots_points.apply(lambda x: returnValuePoints(x.geometry.x, x.geometry.y), axis=1)"
   ]
  },
  {
   "cell_type": "code",
   "execution_count": 91,
   "id": "29d14891",
   "metadata": {},
   "outputs": [],
   "source": [
    "def coregPoint(point,data,region):\n",
    "    '''\n",
    "    Finds the nearest neighbour to a point from a bunch of other points\n",
    "    point - array([longitude,latitude])\n",
    "    data - array\n",
    "    region - integer, same units as data\n",
    "    '''\n",
    "    tree = scipy.spatial.cKDTree(data)\n",
    "    dists, indexes = tree.query(point,k=1,distance_upper_bound=region) \n",
    "\n",
    "    if indexes==len(data):\n",
    "        return 'inf'\n",
    "    else:\n",
    "        return (indexes,dists)\n",
    "    \n",
    "\n",
    "@jit(nopython=True)\n",
    "def points_in_circle(circle, arr):\n",
    "    '''\n",
    "    A generator to return all points whose indices are within given circle.\n",
    "    Inspired from http://stackoverflow.com/a/2774284\n",
    "    Global raster warning: If a point is near the the edges of the raster it will not loop \n",
    "    around to the other side of the raster!\n",
    "    '''\n",
    "    i0,j0,r = circle\n",
    "    \n",
    "    def intceil(x):\n",
    "        return int(np.ceil(x))\n",
    "    \n",
    "    for i in range(intceil(i0-r),intceil(i0+r)):\n",
    "        ri = np.sqrt(r**2-(i-i0)**2)\n",
    "        for j in range(intceil(j0-ri),intceil(j0+ri)):\n",
    "            if (i >= 0 and i < len(arr[:,0])) and (j>=0 and j < len(arr[0,:])):               \n",
    "                yield arr[i][j]\n",
    "\n",
    "# \n",
    "def coregRaster(j0,i0,data,region):\n",
    "    '''\n",
    "    Finds the mean value of a raster, around a point with a specified radius.\n",
    "    point - array([longitude,latitude])\n",
    "    data - array\n",
    "    region - integer in index units\n",
    "    '''\n",
    "    pts_iterator = points_in_circle((i0,j0,region), data)\n",
    "    pts = np.array(list(pts_iterator))   \n",
    "    squares= np.count_nonzero(~np.isnan(pts))\n",
    "\n",
    "    #return(scipy.stats.nanmean(pts)) #deprecated from scipy 0.15\n",
    "    return(np.nansum(pts),squares)\n",
    "\n",
    "@jit(nopython=True)\n",
    "def coregRasterSquare(j0,i0,data,region):\n",
    "    '''\n",
    "    Finds the mean value of a raster, around a point with a specified radius.\n",
    "    point - array([longitude,latitude])\n",
    "    data - array\n",
    "    region - integer in index units\n",
    "    '''\n",
    "    minx=j0-region\n",
    "    maxx=j0+region\n",
    "    miny=i0-region\n",
    "    maxy=i0+region\n",
    "    \n",
    "    arrshp = np.shape(data)\n",
    "    \n",
    "    if minx < 0:\n",
    "        minx = 0\n",
    "    if maxx > arrshp[0]:\n",
    "        maxx = arrshp[0]\n",
    "    if miny < 0:\n",
    "        miny = 0\n",
    "    if maxy > arrshp[1]:\n",
    "        maxy = arrshp[1]\n",
    "        \n",
    "    pts=data[minx:maxx,miny:maxy] \n",
    "    squares= np.count_nonzero(~np.isnan(pts))\n",
    "\n",
    "    return(np.nansum(pts),squares)\n",
    "\n",
    "  \n",
    "\n",
    "#############\n",
    "@cuda.jit\n",
    "def coregRasterCUDA(j0,i0,r):\n",
    "    '''\n",
    "    Finds the mean value of a raster, around a point with a specified radius.\n",
    "    point - array([longitude,latitude])\n",
    "    data - array\n",
    "    r - integer in index units\n",
    "    '''\n",
    "    \n",
    "    def intceil(x):\n",
    "        return int(np.ceil(x))\n",
    "    \n",
    "    def points_in_circle(i0,j0,r):\n",
    "        for i in range(intceil(i0-r),intceil(i0+r)):\n",
    "            ri = np.sqrt(r**2-(i-i0)**2)\n",
    "            for j in range(intceil(j0-ri),intceil(j0+ri)):\n",
    "                if (i >= 0 and i < len(cudarr[:,0])) and (j>=0 and j < len(cudarr[0,:])):               \n",
    "                    return cudarr[i][j]\n",
    "                \n",
    "    pts_iterator = points_in_circle(i0,j0,r)\n",
    "    \n",
    "    pts = np.array(list(pts_iterator)) \n",
    "    \n",
    "    squares= np.count_nonzero(~np.isnan(pts))\n",
    "\n",
    "    #return(scipy.stats.nanmean(pts)) #deprecated from scipy 0.15\n",
    "    return(np.nansum(pts),squares)\n",
    "\n",
    "\n",
    "\n",
    "\n",
    "@jit(nopython=True)\n",
    "def get_coords_at_point(gt, lon, lat):\n",
    "    row = int((lon - gt[0])/gt[1])\n",
    "    col = int((lat - gt[3])/gt[5])\n",
    "    return (col, row)"
   ]
  },
  {
   "cell_type": "code",
   "execution_count": 75,
   "id": "d320bfa8",
   "metadata": {},
   "outputs": [],
   "source": [
    "cudarr = cuda.to_device(sjer_plots_points)"
   ]
  },
  {
   "cell_type": "code",
   "execution_count": 20,
   "id": "0458dc5a",
   "metadata": {},
   "outputs": [
    {
     "name": "stdout",
     "output_type": "stream",
     "text": [
      "Wall time: 0 ns\n"
     ]
    }
   ],
   "source": [
    "%%time\n",
    "\n",
    "#threadsperblock = 32\n",
    "#blockspergrid = (sjer_plots_points.size + (threadsperblock - 1)) // threadsperblock\n",
    "\n",
    "#pop_area = sjer_plots_points.apply(lambda x: coregRasterCUDA[blockspergrid, threadsperblock](x.ind[0], x.ind[1],7), axis=1)"
   ]
  },
  {
   "cell_type": "code",
   "execution_count": 61,
   "id": "c4e70ad1",
   "metadata": {},
   "outputs": [
    {
     "name": "stdout",
     "output_type": "stream",
     "text": [
      "Wall time: 50.4 s\n"
     ]
    }
   ],
   "source": [
    "%%time\n",
    "sjer_plots_points[\"ind\"] = sjer_plots_points.apply(lambda x: get_coords_at_point(gt, x.geometry.x, x.geometry.y), axis=1)"
   ]
  },
  {
   "cell_type": "code",
   "execution_count": null,
   "id": "2a1ebfe3",
   "metadata": {},
   "outputs": [],
   "source": [
    "# %%time\n",
    "# for row in sjer_plots_points.itertuples():\n",
    "# sjer_plots_points[\"ind\"] = sjer_plots_points.apply(lambda x: get_coords_at_point(gt, x.geometry.x, x.geometry.y), axis=1)"
   ]
  },
  {
   "cell_type": "code",
   "execution_count": 37,
   "id": "5febe602",
   "metadata": {},
   "outputs": [
    {
     "name": "stdout",
     "output_type": "stream",
     "text": [
      "Wall time: 6.08 s\n"
     ]
    }
   ],
   "source": [
    "%%time\n",
    "pop_area = sjer_plots_points.apply(lambda x: coregRaster(x.ind[0], x.ind[1],array_gdal,7), axis=1)"
   ]
  },
  {
   "cell_type": "code",
   "execution_count": 38,
   "id": "2024ae7b",
   "metadata": {},
   "outputs": [
    {
     "name": "stdout",
     "output_type": "stream",
     "text": [
      "Wall time: 4.12 s\n"
     ]
    }
   ],
   "source": [
    "%%time\n",
    "pop_area = sjer_plots_points.apply(lambda x: coregRasterSquare(x.ind[0], x.ind[1],array_gdal,7), axis=1)"
   ]
  },
  {
   "cell_type": "code",
   "execution_count": 53,
   "id": "edb167e5",
   "metadata": {},
   "outputs": [
    {
     "data": {
      "text/plain": [
       "102"
      ]
     },
     "execution_count": 53,
     "metadata": {},
     "output_type": "execute_result"
    }
   ],
   "source": [
    "sjer_plots_points.ind[10][0]"
   ]
  },
  {
   "cell_type": "code",
   "execution_count": 64,
   "id": "cce214b3",
   "metadata": {},
   "outputs": [
    {
     "data": {
      "text/plain": [
       "(307504, 3)"
      ]
     },
     "execution_count": 64,
     "metadata": {},
     "output_type": "execute_result"
    }
   ],
   "source": [
    "np.shape(sjer_plots_points)"
   ]
  },
  {
   "cell_type": "code",
   "execution_count": 62,
   "id": "3950eafb",
   "metadata": {},
   "outputs": [
    {
     "name": "stdout",
     "output_type": "stream",
     "text": [
      "Wall time: 1.47 s\n"
     ]
    }
   ],
   "source": [
    "%%time\n",
    "for row in sjer_plots_points.itertuples():\n",
    "    pop_area = coregRasterSquare(row.ind[0], row.ind[1],array_gdal,7)"
   ]
  },
  {
   "cell_type": "code",
   "execution_count": 63,
   "id": "ce10ebc3",
   "metadata": {},
   "outputs": [
    {
     "name": "stdout",
     "output_type": "stream",
     "text": [
      "Wall time: 11.5 s\n"
     ]
    }
   ],
   "source": [
    "%%time\n",
    "for row in sjer_plots_points.itertuples():\n",
    "    pop_area = coregRaster(row.ind[0], row.ind[1],array_gdal,7)"
   ]
  },
  {
   "cell_type": "code",
   "execution_count": 49,
   "id": "ec3f1588",
   "metadata": {},
   "outputs": [
    {
     "data": {
      "application/vnd.jupyter.widget-view+json": {
       "model_id": "8c6bb1b65e43446cb19b9af429a2a0cb",
       "version_major": 2,
       "version_minor": 0
      },
      "text/plain": [
       "Dask Apply:   0%|          | 0/16 [00:00<?, ?it/s]"
      ]
     },
     "metadata": {},
     "output_type": "display_data"
    },
    {
     "name": "stdout",
     "output_type": "stream",
     "text": [
      "Wall time: 1min 44s\n"
     ]
    }
   ],
   "source": [
    "%%time\n",
    "pop_area = sjer_plots_points.swifter.set_npartitions(16).apply(lambda x: coregRaster(x.ind[0], x.ind[1],array_gdal,7), axis=1)"
   ]
  },
  {
   "cell_type": "code",
   "execution_count": 12,
   "id": "774c2196",
   "metadata": {},
   "outputs": [
    {
     "data": {
      "text/plain": [
       "[<matplotlib.lines.Line2D at 0x27e90a273c8>]"
      ]
     },
     "execution_count": 12,
     "metadata": {},
     "output_type": "execute_result"
    },
    {
     "data": {
      "image/png": "[encoded data removed]",
      "text/plain": [
       "<Figure size 432x288 with 1 Axes>"
      ]
     },
     "metadata": {
      "needs_background": "light"
     },
     "output_type": "display_data"
    }
   ],
   "source": [
    "sjer_plots_points[['pop', 'area']] = pd.DataFrame(pop_area.tolist(), index=pop_area.index)\n",
    "sjer_plots_points[\"pop_density\"]=sjer_plots_points[\"pop\"]/(sjer_plots_points[\"area\"]*5000**2)\n",
    "plt.plot(sjer_plots_points[\"pop_density\"])"
   ]
  },
  {
   "cell_type": "code",
   "execution_count": 13,
   "id": "ff307955",
   "metadata": {},
   "outputs": [
    {
     "data": {
      "text/plain": [
       "307504"
      ]
     },
     "execution_count": 13,
     "metadata": {},
     "output_type": "execute_result"
    }
   ],
   "source": [
    "len(sjer_plots_points)"
   ]
  },
  {
   "cell_type": "code",
   "execution_count": 41,
   "id": "4cb4cead",
   "metadata": {},
   "outputs": [
    {
     "name": "stdout",
     "output_type": "stream",
     "text": [
      "8\n"
     ]
    }
   ],
   "source": [
    "cpus = mp.cpu_count()\n",
    "print(cpus)\n",
    "#pool = mp.Pool(processes=cpus)"
   ]
  },
  {
   "cell_type": "code",
   "execution_count": 13,
   "id": "16d9b7d6",
   "metadata": {},
   "outputs": [],
   "source": [
    "def neighbour_distance(gdf_chunk):\n",
    "    gdf_chunk.apply(lambda x: coregRaster(x.ind[0], x.ind[1],array_gdal,7), axis=1)"
   ]
  },
  {
   "cell_type": "code",
   "execution_count": 43,
   "id": "e87183f7",
   "metadata": {},
   "outputs": [],
   "source": [
    "#intersection_chunks = np.array_split(sjer_plots_points, cpus)\n",
    "#intersection_chunks = np.array_split(sjer_plots_points.ind, cpus)\n",
    "ddata = dd.from_pandas(sjer_plots_points, npartitions=cpus)"
   ]
  },
  {
   "cell_type": "code",
   "execution_count": 37,
   "id": "1b5ab387",
   "metadata": {},
   "outputs": [],
   "source": []
  },
  {
   "cell_type": "code",
   "execution_count": 38,
   "id": "ce6ec01b",
   "metadata": {},
   "outputs": [],
   "source": []
  },
  {
   "cell_type": "code",
   "execution_count": 44,
   "id": "d54b5e83",
   "metadata": {},
   "outputs": [
    {
     "ename": "ValueError",
     "evalue": "Metadata inference failed in `lambda`.\n\nYou have supplied a custom function and Dask is unable to \ndetermine the type of output that that function returns. \n\nTo resolve this please provide a meta= keyword.\nThe docstring of the Dask function you ran should have more information.\n\nOriginal error is below:\n------------------------\nTypeError('data type not understood')\n\nTraceback:\n---------\n  File \"c:\\users\\nbutter\\miniconda3\\envs\\geopy\\lib\\site-packages\\dask\\dataframe\\utils.py\", line 176, in raise_on_meta_error\n    yield\n  File \"c:\\users\\nbutter\\miniconda3\\envs\\geopy\\lib\\site-packages\\dask\\dataframe\\core.py\", line 5580, in _emulate\n    return func(*_extract_meta(args, True), **_extract_meta(kwargs, True))\n  File \"c:\\users\\nbutter\\miniconda3\\envs\\geopy\\lib\\site-packages\\dask\\dataframe\\core.py\", line 5560, in _extract_meta\n    return tuple([_extract_meta(_x, nonempty) for _x in x])\n  File \"c:\\users\\nbutter\\miniconda3\\envs\\geopy\\lib\\site-packages\\dask\\dataframe\\core.py\", line 5560, in <listcomp>\n    return tuple([_extract_meta(_x, nonempty) for _x in x])\n  File \"c:\\users\\nbutter\\miniconda3\\envs\\geopy\\lib\\site-packages\\dask\\dataframe\\core.py\", line 5556, in _extract_meta\n    return x._meta_nonempty if nonempty else x._meta\n  File \"c:\\users\\nbutter\\miniconda3\\envs\\geopy\\lib\\site-packages\\dask\\dataframe\\core.py\", line 379, in _meta_nonempty\n    return meta_nonempty(self._meta)\n  File \"c:\\users\\nbutter\\miniconda3\\envs\\geopy\\lib\\site-packages\\dask\\utils.py\", line 512, in __call__\n    return meth(arg, *args, **kwargs)\n  File \"c:\\users\\nbutter\\miniconda3\\envs\\geopy\\lib\\site-packages\\dask\\dataframe\\backends.py\", line 172, in meta_nonempty_dataframe\n    dt_s_dict[dt] = _nonempty_series(x.iloc[:, i], idx=idx)\n  File \"c:\\users\\nbutter\\miniconda3\\envs\\geopy\\lib\\site-packages\\dask\\dataframe\\backends.py\", line 287, in _nonempty_series\n    data = np.array([entry, entry], dtype=dtype)\n",
     "output_type": "error",
     "traceback": [
      "\u001b[1;31m---------------------------------------------------------------------------\u001b[0m",
      "\u001b[1;31mTypeError\u001b[0m                                 Traceback (most recent call last)",
      "\u001b[1;32mc:\\users\\nbutter\\miniconda3\\envs\\geopy\\lib\\site-packages\\dask\\dataframe\\utils.py\u001b[0m in \u001b[0;36mraise_on_meta_error\u001b[1;34m(funcname, udf)\u001b[0m\n\u001b[0;32m    175\u001b[0m     \u001b[1;32mtry\u001b[0m\u001b[1;33m:\u001b[0m\u001b[1;33m\u001b[0m\u001b[1;33m\u001b[0m\u001b[0m\n\u001b[1;32m--> 176\u001b[1;33m         \u001b[1;32myield\u001b[0m\u001b[1;33m\u001b[0m\u001b[1;33m\u001b[0m\u001b[0m\n\u001b[0m\u001b[0;32m    177\u001b[0m     \u001b[1;32mexcept\u001b[0m \u001b[0mException\u001b[0m \u001b[1;32mas\u001b[0m \u001b[0me\u001b[0m\u001b[1;33m:\u001b[0m\u001b[1;33m\u001b[0m\u001b[1;33m\u001b[0m\u001b[0m\n",
      "\u001b[1;32mc:\\users\\nbutter\\miniconda3\\envs\\geopy\\lib\\site-packages\\dask\\dataframe\\core.py\u001b[0m in \u001b[0;36m_emulate\u001b[1;34m(func, *args, **kwargs)\u001b[0m\n\u001b[0;32m   5579\u001b[0m     \u001b[1;32mwith\u001b[0m \u001b[0mraise_on_meta_error\u001b[0m\u001b[1;33m(\u001b[0m\u001b[0mfuncname\u001b[0m\u001b[1;33m(\u001b[0m\u001b[0mfunc\u001b[0m\u001b[1;33m)\u001b[0m\u001b[1;33m,\u001b[0m \u001b[0mudf\u001b[0m\u001b[1;33m=\u001b[0m\u001b[0mkwargs\u001b[0m\u001b[1;33m.\u001b[0m\u001b[0mpop\u001b[0m\u001b[1;33m(\u001b[0m\u001b[1;34m\"udf\"\u001b[0m\u001b[1;33m,\u001b[0m \u001b[1;32mFalse\u001b[0m\u001b[1;33m)\u001b[0m\u001b[1;33m)\u001b[0m\u001b[1;33m:\u001b[0m\u001b[1;33m\u001b[0m\u001b[1;33m\u001b[0m\u001b[0m\n\u001b[1;32m-> 5580\u001b[1;33m         \u001b[1;32mreturn\u001b[0m \u001b[0mfunc\u001b[0m\u001b[1;33m(\u001b[0m\u001b[1;33m*\u001b[0m\u001b[0m_extract_meta\u001b[0m\u001b[1;33m(\u001b[0m\u001b[0margs\u001b[0m\u001b[1;33m,\u001b[0m \u001b[1;32mTrue\u001b[0m\u001b[1;33m)\u001b[0m\u001b[1;33m,\u001b[0m \u001b[1;33m**\u001b[0m\u001b[0m_extract_meta\u001b[0m\u001b[1;33m(\u001b[0m\u001b[0mkwargs\u001b[0m\u001b[1;33m,\u001b[0m \u001b[1;32mTrue\u001b[0m\u001b[1;33m)\u001b[0m\u001b[1;33m)\u001b[0m\u001b[1;33m\u001b[0m\u001b[1;33m\u001b[0m\u001b[0m\n\u001b[0m\u001b[0;32m   5581\u001b[0m \u001b[1;33m\u001b[0m\u001b[0m\n",
      "\u001b[1;32mc:\\users\\nbutter\\miniconda3\\envs\\geopy\\lib\\site-packages\\dask\\dataframe\\core.py\u001b[0m in \u001b[0;36m_extract_meta\u001b[1;34m(x, nonempty)\u001b[0m\n\u001b[0;32m   5559\u001b[0m     \u001b[1;32melif\u001b[0m \u001b[0misinstance\u001b[0m\u001b[1;33m(\u001b[0m\u001b[0mx\u001b[0m\u001b[1;33m,\u001b[0m \u001b[0mtuple\u001b[0m\u001b[1;33m)\u001b[0m\u001b[1;33m:\u001b[0m\u001b[1;33m\u001b[0m\u001b[1;33m\u001b[0m\u001b[0m\n\u001b[1;32m-> 5560\u001b[1;33m         \u001b[1;32mreturn\u001b[0m \u001b[0mtuple\u001b[0m\u001b[1;33m(\u001b[0m\u001b[1;33m[\u001b[0m\u001b[0m_extract_meta\u001b[0m\u001b[1;33m(\u001b[0m\u001b[0m_x\u001b[0m\u001b[1;33m,\u001b[0m \u001b[0mnonempty\u001b[0m\u001b[1;33m)\u001b[0m \u001b[1;32mfor\u001b[0m \u001b[0m_x\u001b[0m \u001b[1;32min\u001b[0m \u001b[0mx\u001b[0m\u001b[1;33m]\u001b[0m\u001b[1;33m)\u001b[0m\u001b[1;33m\u001b[0m\u001b[1;33m\u001b[0m\u001b[0m\n\u001b[0m\u001b[0;32m   5561\u001b[0m     \u001b[1;32melif\u001b[0m \u001b[0misinstance\u001b[0m\u001b[1;33m(\u001b[0m\u001b[0mx\u001b[0m\u001b[1;33m,\u001b[0m \u001b[0mdict\u001b[0m\u001b[1;33m)\u001b[0m\u001b[1;33m:\u001b[0m\u001b[1;33m\u001b[0m\u001b[1;33m\u001b[0m\u001b[0m\n",
      "\u001b[1;32mc:\\users\\nbutter\\miniconda3\\envs\\geopy\\lib\\site-packages\\dask\\dataframe\\core.py\u001b[0m in \u001b[0;36m<listcomp>\u001b[1;34m(.0)\u001b[0m\n\u001b[0;32m   5559\u001b[0m     \u001b[1;32melif\u001b[0m \u001b[0misinstance\u001b[0m\u001b[1;33m(\u001b[0m\u001b[0mx\u001b[0m\u001b[1;33m,\u001b[0m \u001b[0mtuple\u001b[0m\u001b[1;33m)\u001b[0m\u001b[1;33m:\u001b[0m\u001b[1;33m\u001b[0m\u001b[1;33m\u001b[0m\u001b[0m\n\u001b[1;32m-> 5560\u001b[1;33m         \u001b[1;32mreturn\u001b[0m \u001b[0mtuple\u001b[0m\u001b[1;33m(\u001b[0m\u001b[1;33m[\u001b[0m\u001b[0m_extract_meta\u001b[0m\u001b[1;33m(\u001b[0m\u001b[0m_x\u001b[0m\u001b[1;33m,\u001b[0m \u001b[0mnonempty\u001b[0m\u001b[1;33m)\u001b[0m \u001b[1;32mfor\u001b[0m \u001b[0m_x\u001b[0m \u001b[1;32min\u001b[0m \u001b[0mx\u001b[0m\u001b[1;33m]\u001b[0m\u001b[1;33m)\u001b[0m\u001b[1;33m\u001b[0m\u001b[1;33m\u001b[0m\u001b[0m\n\u001b[0m\u001b[0;32m   5561\u001b[0m     \u001b[1;32melif\u001b[0m \u001b[0misinstance\u001b[0m\u001b[1;33m(\u001b[0m\u001b[0mx\u001b[0m\u001b[1;33m,\u001b[0m \u001b[0mdict\u001b[0m\u001b[1;33m)\u001b[0m\u001b[1;33m:\u001b[0m\u001b[1;33m\u001b[0m\u001b[1;33m\u001b[0m\u001b[0m\n",
      "\u001b[1;32mc:\\users\\nbutter\\miniconda3\\envs\\geopy\\lib\\site-packages\\dask\\dataframe\\core.py\u001b[0m in \u001b[0;36m_extract_meta\u001b[1;34m(x, nonempty)\u001b[0m\n\u001b[0;32m   5555\u001b[0m     \u001b[1;32mif\u001b[0m \u001b[0misinstance\u001b[0m\u001b[1;33m(\u001b[0m\u001b[0mx\u001b[0m\u001b[1;33m,\u001b[0m \u001b[1;33m(\u001b[0m\u001b[0mScalar\u001b[0m\u001b[1;33m,\u001b[0m \u001b[0m_Frame\u001b[0m\u001b[1;33m)\u001b[0m\u001b[1;33m)\u001b[0m\u001b[1;33m:\u001b[0m\u001b[1;33m\u001b[0m\u001b[1;33m\u001b[0m\u001b[0m\n\u001b[1;32m-> 5556\u001b[1;33m         \u001b[1;32mreturn\u001b[0m \u001b[0mx\u001b[0m\u001b[1;33m.\u001b[0m\u001b[0m_meta_nonempty\u001b[0m \u001b[1;32mif\u001b[0m \u001b[0mnonempty\u001b[0m \u001b[1;32melse\u001b[0m \u001b[0mx\u001b[0m\u001b[1;33m.\u001b[0m\u001b[0m_meta\u001b[0m\u001b[1;33m\u001b[0m\u001b[1;33m\u001b[0m\u001b[0m\n\u001b[0m\u001b[0;32m   5557\u001b[0m     \u001b[1;32melif\u001b[0m \u001b[0misinstance\u001b[0m\u001b[1;33m(\u001b[0m\u001b[0mx\u001b[0m\u001b[1;33m,\u001b[0m \u001b[0mlist\u001b[0m\u001b[1;33m)\u001b[0m\u001b[1;33m:\u001b[0m\u001b[1;33m\u001b[0m\u001b[1;33m\u001b[0m\u001b[0m\n",
      "\u001b[1;32mc:\\users\\nbutter\\miniconda3\\envs\\geopy\\lib\\site-packages\\dask\\dataframe\\core.py\u001b[0m in \u001b[0;36m_meta_nonempty\u001b[1;34m(self)\u001b[0m\n\u001b[0;32m    378\u001b[0m         \u001b[1;34m\"\"\"A non-empty version of `_meta` with fake data.\"\"\"\u001b[0m\u001b[1;33m\u001b[0m\u001b[1;33m\u001b[0m\u001b[0m\n\u001b[1;32m--> 379\u001b[1;33m         \u001b[1;32mreturn\u001b[0m \u001b[0mmeta_nonempty\u001b[0m\u001b[1;33m(\u001b[0m\u001b[0mself\u001b[0m\u001b[1;33m.\u001b[0m\u001b[0m_meta\u001b[0m\u001b[1;33m)\u001b[0m\u001b[1;33m\u001b[0m\u001b[1;33m\u001b[0m\u001b[0m\n\u001b[0m\u001b[0;32m    380\u001b[0m \u001b[1;33m\u001b[0m\u001b[0m\n",
      "\u001b[1;32mc:\\users\\nbutter\\miniconda3\\envs\\geopy\\lib\\site-packages\\dask\\utils.py\u001b[0m in \u001b[0;36m__call__\u001b[1;34m(self, arg, *args, **kwargs)\u001b[0m\n\u001b[0;32m    511\u001b[0m         \u001b[0mmeth\u001b[0m \u001b[1;33m=\u001b[0m \u001b[0mself\u001b[0m\u001b[1;33m.\u001b[0m\u001b[0mdispatch\u001b[0m\u001b[1;33m(\u001b[0m\u001b[0mtype\u001b[0m\u001b[1;33m(\u001b[0m\u001b[0marg\u001b[0m\u001b[1;33m)\u001b[0m\u001b[1;33m)\u001b[0m\u001b[1;33m\u001b[0m\u001b[1;33m\u001b[0m\u001b[0m\n\u001b[1;32m--> 512\u001b[1;33m         \u001b[1;32mreturn\u001b[0m \u001b[0mmeth\u001b[0m\u001b[1;33m(\u001b[0m\u001b[0marg\u001b[0m\u001b[1;33m,\u001b[0m \u001b[1;33m*\u001b[0m\u001b[0margs\u001b[0m\u001b[1;33m,\u001b[0m \u001b[1;33m**\u001b[0m\u001b[0mkwargs\u001b[0m\u001b[1;33m)\u001b[0m\u001b[1;33m\u001b[0m\u001b[1;33m\u001b[0m\u001b[0m\n\u001b[0m\u001b[0;32m    513\u001b[0m \u001b[1;33m\u001b[0m\u001b[0m\n",
      "\u001b[1;32mc:\\users\\nbutter\\miniconda3\\envs\\geopy\\lib\\site-packages\\dask\\dataframe\\backends.py\u001b[0m in \u001b[0;36mmeta_nonempty_dataframe\u001b[1;34m(x)\u001b[0m\n\u001b[0;32m    171\u001b[0m         \u001b[1;32mif\u001b[0m \u001b[0mdt\u001b[0m \u001b[1;32mnot\u001b[0m \u001b[1;32min\u001b[0m \u001b[0mdt_s_dict\u001b[0m\u001b[1;33m:\u001b[0m\u001b[1;33m\u001b[0m\u001b[1;33m\u001b[0m\u001b[0m\n\u001b[1;32m--> 172\u001b[1;33m             \u001b[0mdt_s_dict\u001b[0m\u001b[1;33m[\u001b[0m\u001b[0mdt\u001b[0m\u001b[1;33m]\u001b[0m \u001b[1;33m=\u001b[0m \u001b[0m_nonempty_series\u001b[0m\u001b[1;33m(\u001b[0m\u001b[0mx\u001b[0m\u001b[1;33m.\u001b[0m\u001b[0miloc\u001b[0m\u001b[1;33m[\u001b[0m\u001b[1;33m:\u001b[0m\u001b[1;33m,\u001b[0m \u001b[0mi\u001b[0m\u001b[1;33m]\u001b[0m\u001b[1;33m,\u001b[0m \u001b[0midx\u001b[0m\u001b[1;33m=\u001b[0m\u001b[0midx\u001b[0m\u001b[1;33m)\u001b[0m\u001b[1;33m\u001b[0m\u001b[1;33m\u001b[0m\u001b[0m\n\u001b[0m\u001b[0;32m    173\u001b[0m         \u001b[0mdata\u001b[0m\u001b[1;33m[\u001b[0m\u001b[0mi\u001b[0m\u001b[1;33m]\u001b[0m \u001b[1;33m=\u001b[0m \u001b[0mdt_s_dict\u001b[0m\u001b[1;33m[\u001b[0m\u001b[0mdt\u001b[0m\u001b[1;33m]\u001b[0m\u001b[1;33m\u001b[0m\u001b[1;33m\u001b[0m\u001b[0m\n",
      "\u001b[1;32mc:\\users\\nbutter\\miniconda3\\envs\\geopy\\lib\\site-packages\\dask\\dataframe\\backends.py\u001b[0m in \u001b[0;36m_nonempty_series\u001b[1;34m(s, idx)\u001b[0m\n\u001b[0;32m    286\u001b[0m         \u001b[0mentry\u001b[0m \u001b[1;33m=\u001b[0m \u001b[0m_scalar_from_dtype\u001b[0m\u001b[1;33m(\u001b[0m\u001b[0mdtype\u001b[0m\u001b[1;33m)\u001b[0m\u001b[1;33m\u001b[0m\u001b[1;33m\u001b[0m\u001b[0m\n\u001b[1;32m--> 287\u001b[1;33m         \u001b[0mdata\u001b[0m \u001b[1;33m=\u001b[0m \u001b[0mnp\u001b[0m\u001b[1;33m.\u001b[0m\u001b[0marray\u001b[0m\u001b[1;33m(\u001b[0m\u001b[1;33m[\u001b[0m\u001b[0mentry\u001b[0m\u001b[1;33m,\u001b[0m \u001b[0mentry\u001b[0m\u001b[1;33m]\u001b[0m\u001b[1;33m,\u001b[0m \u001b[0mdtype\u001b[0m\u001b[1;33m=\u001b[0m\u001b[0mdtype\u001b[0m\u001b[1;33m)\u001b[0m\u001b[1;33m\u001b[0m\u001b[1;33m\u001b[0m\u001b[0m\n\u001b[0m\u001b[0;32m    288\u001b[0m \u001b[1;33m\u001b[0m\u001b[0m\n",
      "\u001b[1;31mTypeError\u001b[0m: data type not understood",
      "\nThe above exception was the direct cause of the following exception:\n",
      "\u001b[1;31mValueError\u001b[0m                                Traceback (most recent call last)",
      "\u001b[1;32m<ipython-input-44-afa6f64a628d>\u001b[0m in \u001b[0;36m<module>\u001b[1;34m\u001b[0m\n\u001b[1;32m----> 1\u001b[1;33m \u001b[0mres\u001b[0m \u001b[1;33m=\u001b[0m \u001b[0mddata\u001b[0m\u001b[1;33m.\u001b[0m\u001b[0mmap_partitions\u001b[0m\u001b[1;33m(\u001b[0m\u001b[1;32mlambda\u001b[0m \u001b[0mx\u001b[0m\u001b[1;33m:\u001b[0m \u001b[0mx\u001b[0m\u001b[1;33m.\u001b[0m\u001b[0mapply\u001b[0m\u001b[1;33m(\u001b[0m\u001b[1;32mlambda\u001b[0m \u001b[0mx\u001b[0m\u001b[1;33m:\u001b[0m \u001b[0mcoregRaster\u001b[0m\u001b[1;33m(\u001b[0m\u001b[0mx\u001b[0m\u001b[1;33m.\u001b[0m\u001b[0mind\u001b[0m\u001b[1;33m[\u001b[0m\u001b[1;36m0\u001b[0m\u001b[1;33m]\u001b[0m\u001b[1;33m,\u001b[0m \u001b[0mx\u001b[0m\u001b[1;33m.\u001b[0m\u001b[0mind\u001b[0m\u001b[1;33m[\u001b[0m\u001b[1;36m1\u001b[0m\u001b[1;33m]\u001b[0m\u001b[1;33m,\u001b[0m\u001b[0marray_gdal\u001b[0m\u001b[1;33m,\u001b[0m\u001b[1;36m7\u001b[0m\u001b[1;33m)\u001b[0m\u001b[1;33m,\u001b[0m \u001b[0maxis\u001b[0m\u001b[1;33m=\u001b[0m\u001b[1;36m1\u001b[0m\u001b[1;33m)\u001b[0m\u001b[1;33m)\u001b[0m\u001b[1;33m.\u001b[0m\u001b[0mcompute\u001b[0m\u001b[1;33m(\u001b[0m\u001b[0mget\u001b[0m\u001b[1;33m=\u001b[0m\u001b[0mget\u001b[0m\u001b[1;33m)\u001b[0m\u001b[1;33m\u001b[0m\u001b[1;33m\u001b[0m\u001b[0m\n\u001b[0m",
      "\u001b[1;32mc:\\users\\nbutter\\miniconda3\\envs\\geopy\\lib\\site-packages\\dask\\dataframe\\core.py\u001b[0m in \u001b[0;36mmap_partitions\u001b[1;34m(self, func, *args, **kwargs)\u001b[0m\n\u001b[0;32m    689\u001b[0m         \u001b[1;32mNone\u001b[0m \u001b[1;32mas\u001b[0m \u001b[0mthe\u001b[0m \u001b[0mdivision\u001b[0m\u001b[1;33m.\u001b[0m\u001b[1;33m\u001b[0m\u001b[1;33m\u001b[0m\u001b[0m\n\u001b[0;32m    690\u001b[0m         \"\"\"\n\u001b[1;32m--> 691\u001b[1;33m         \u001b[1;32mreturn\u001b[0m \u001b[0mmap_partitions\u001b[0m\u001b[1;33m(\u001b[0m\u001b[0mfunc\u001b[0m\u001b[1;33m,\u001b[0m \u001b[0mself\u001b[0m\u001b[1;33m,\u001b[0m \u001b[1;33m*\u001b[0m\u001b[0margs\u001b[0m\u001b[1;33m,\u001b[0m \u001b[1;33m**\u001b[0m\u001b[0mkwargs\u001b[0m\u001b[1;33m)\u001b[0m\u001b[1;33m\u001b[0m\u001b[1;33m\u001b[0m\u001b[0m\n\u001b[0m\u001b[0;32m    692\u001b[0m \u001b[1;33m\u001b[0m\u001b[0m\n\u001b[0;32m    693\u001b[0m     \u001b[1;33m@\u001b[0m\u001b[0minsert_meta_param_description\u001b[0m\u001b[1;33m(\u001b[0m\u001b[0mpad\u001b[0m\u001b[1;33m=\u001b[0m\u001b[1;36m12\u001b[0m\u001b[1;33m)\u001b[0m\u001b[1;33m\u001b[0m\u001b[1;33m\u001b[0m\u001b[0m\n",
      "\u001b[1;32mc:\\users\\nbutter\\miniconda3\\envs\\geopy\\lib\\site-packages\\dask\\dataframe\\core.py\u001b[0m in \u001b[0;36mmap_partitions\u001b[1;34m(func, meta, enforce_metadata, transform_divisions, *args, **kwargs)\u001b[0m\n\u001b[0;32m   5634\u001b[0m         \u001b[1;31m# Use non-normalized kwargs here, as we want the real values (not\u001b[0m\u001b[1;33m\u001b[0m\u001b[1;33m\u001b[0m\u001b[1;33m\u001b[0m\u001b[0m\n\u001b[0;32m   5635\u001b[0m         \u001b[1;31m# delayed values)\u001b[0m\u001b[1;33m\u001b[0m\u001b[1;33m\u001b[0m\u001b[1;33m\u001b[0m\u001b[0m\n\u001b[1;32m-> 5636\u001b[1;33m         \u001b[0mmeta\u001b[0m \u001b[1;33m=\u001b[0m \u001b[0m_emulate\u001b[0m\u001b[1;33m(\u001b[0m\u001b[0mfunc\u001b[0m\u001b[1;33m,\u001b[0m \u001b[1;33m*\u001b[0m\u001b[0margs\u001b[0m\u001b[1;33m,\u001b[0m \u001b[0mudf\u001b[0m\u001b[1;33m=\u001b[0m\u001b[1;32mTrue\u001b[0m\u001b[1;33m,\u001b[0m \u001b[1;33m**\u001b[0m\u001b[0mkwargs\u001b[0m\u001b[1;33m)\u001b[0m\u001b[1;33m\u001b[0m\u001b[1;33m\u001b[0m\u001b[0m\n\u001b[0m\u001b[0;32m   5637\u001b[0m     \u001b[1;32melse\u001b[0m\u001b[1;33m:\u001b[0m\u001b[1;33m\u001b[0m\u001b[1;33m\u001b[0m\u001b[0m\n\u001b[0;32m   5638\u001b[0m         \u001b[0mmeta\u001b[0m \u001b[1;33m=\u001b[0m \u001b[0mmake_meta\u001b[0m\u001b[1;33m(\u001b[0m\u001b[0mmeta\u001b[0m\u001b[1;33m,\u001b[0m \u001b[0mindex\u001b[0m\u001b[1;33m=\u001b[0m\u001b[0mmeta_index\u001b[0m\u001b[1;33m,\u001b[0m \u001b[0mparent_meta\u001b[0m\u001b[1;33m=\u001b[0m\u001b[0mparent_meta\u001b[0m\u001b[1;33m)\u001b[0m\u001b[1;33m\u001b[0m\u001b[1;33m\u001b[0m\u001b[0m\n",
      "\u001b[1;32mc:\\users\\nbutter\\miniconda3\\envs\\geopy\\lib\\site-packages\\dask\\dataframe\\core.py\u001b[0m in \u001b[0;36m_emulate\u001b[1;34m(func, *args, **kwargs)\u001b[0m\n\u001b[0;32m   5578\u001b[0m     \"\"\"\n\u001b[0;32m   5579\u001b[0m     \u001b[1;32mwith\u001b[0m \u001b[0mraise_on_meta_error\u001b[0m\u001b[1;33m(\u001b[0m\u001b[0mfuncname\u001b[0m\u001b[1;33m(\u001b[0m\u001b[0mfunc\u001b[0m\u001b[1;33m)\u001b[0m\u001b[1;33m,\u001b[0m \u001b[0mudf\u001b[0m\u001b[1;33m=\u001b[0m\u001b[0mkwargs\u001b[0m\u001b[1;33m.\u001b[0m\u001b[0mpop\u001b[0m\u001b[1;33m(\u001b[0m\u001b[1;34m\"udf\"\u001b[0m\u001b[1;33m,\u001b[0m \u001b[1;32mFalse\u001b[0m\u001b[1;33m)\u001b[0m\u001b[1;33m)\u001b[0m\u001b[1;33m:\u001b[0m\u001b[1;33m\u001b[0m\u001b[1;33m\u001b[0m\u001b[0m\n\u001b[1;32m-> 5580\u001b[1;33m         \u001b[1;32mreturn\u001b[0m \u001b[0mfunc\u001b[0m\u001b[1;33m(\u001b[0m\u001b[1;33m*\u001b[0m\u001b[0m_extract_meta\u001b[0m\u001b[1;33m(\u001b[0m\u001b[0margs\u001b[0m\u001b[1;33m,\u001b[0m \u001b[1;32mTrue\u001b[0m\u001b[1;33m)\u001b[0m\u001b[1;33m,\u001b[0m \u001b[1;33m**\u001b[0m\u001b[0m_extract_meta\u001b[0m\u001b[1;33m(\u001b[0m\u001b[0mkwargs\u001b[0m\u001b[1;33m,\u001b[0m \u001b[1;32mTrue\u001b[0m\u001b[1;33m)\u001b[0m\u001b[1;33m)\u001b[0m\u001b[1;33m\u001b[0m\u001b[1;33m\u001b[0m\u001b[0m\n\u001b[0m\u001b[0;32m   5581\u001b[0m \u001b[1;33m\u001b[0m\u001b[0m\n\u001b[0;32m   5582\u001b[0m \u001b[1;33m\u001b[0m\u001b[0m\n",
      "\u001b[1;32mc:\\users\\nbutter\\miniconda3\\envs\\geopy\\lib\\contextlib.py\u001b[0m in \u001b[0;36m__exit__\u001b[1;34m(self, type, value, traceback)\u001b[0m\n\u001b[0;32m    128\u001b[0m                 \u001b[0mvalue\u001b[0m \u001b[1;33m=\u001b[0m \u001b[0mtype\u001b[0m\u001b[1;33m(\u001b[0m\u001b[1;33m)\u001b[0m\u001b[1;33m\u001b[0m\u001b[1;33m\u001b[0m\u001b[0m\n\u001b[0;32m    129\u001b[0m             \u001b[1;32mtry\u001b[0m\u001b[1;33m:\u001b[0m\u001b[1;33m\u001b[0m\u001b[1;33m\u001b[0m\u001b[0m\n\u001b[1;32m--> 130\u001b[1;33m                 \u001b[0mself\u001b[0m\u001b[1;33m.\u001b[0m\u001b[0mgen\u001b[0m\u001b[1;33m.\u001b[0m\u001b[0mthrow\u001b[0m\u001b[1;33m(\u001b[0m\u001b[0mtype\u001b[0m\u001b[1;33m,\u001b[0m \u001b[0mvalue\u001b[0m\u001b[1;33m,\u001b[0m \u001b[0mtraceback\u001b[0m\u001b[1;33m)\u001b[0m\u001b[1;33m\u001b[0m\u001b[1;33m\u001b[0m\u001b[0m\n\u001b[0m\u001b[0;32m    131\u001b[0m             \u001b[1;32mexcept\u001b[0m \u001b[0mStopIteration\u001b[0m \u001b[1;32mas\u001b[0m \u001b[0mexc\u001b[0m\u001b[1;33m:\u001b[0m\u001b[1;33m\u001b[0m\u001b[1;33m\u001b[0m\u001b[0m\n\u001b[0;32m    132\u001b[0m                 \u001b[1;31m# Suppress StopIteration *unless* it's the same exception that\u001b[0m\u001b[1;33m\u001b[0m\u001b[1;33m\u001b[0m\u001b[1;33m\u001b[0m\u001b[0m\n",
      "\u001b[1;32mc:\\users\\nbutter\\miniconda3\\envs\\geopy\\lib\\site-packages\\dask\\dataframe\\utils.py\u001b[0m in \u001b[0;36mraise_on_meta_error\u001b[1;34m(funcname, udf)\u001b[0m\n\u001b[0;32m    195\u001b[0m         )\n\u001b[0;32m    196\u001b[0m         \u001b[0mmsg\u001b[0m \u001b[1;33m=\u001b[0m \u001b[0mmsg\u001b[0m\u001b[1;33m.\u001b[0m\u001b[0mformat\u001b[0m\u001b[1;33m(\u001b[0m\u001b[1;34m\" in `{0}`\"\u001b[0m\u001b[1;33m.\u001b[0m\u001b[0mformat\u001b[0m\u001b[1;33m(\u001b[0m\u001b[0mfuncname\u001b[0m\u001b[1;33m)\u001b[0m \u001b[1;32mif\u001b[0m \u001b[0mfuncname\u001b[0m \u001b[1;32melse\u001b[0m \u001b[1;34m\"\"\u001b[0m\u001b[1;33m,\u001b[0m \u001b[0mrepr\u001b[0m\u001b[1;33m(\u001b[0m\u001b[0me\u001b[0m\u001b[1;33m)\u001b[0m\u001b[1;33m,\u001b[0m \u001b[0mtb\u001b[0m\u001b[1;33m)\u001b[0m\u001b[1;33m\u001b[0m\u001b[1;33m\u001b[0m\u001b[0m\n\u001b[1;32m--> 197\u001b[1;33m         \u001b[1;32mraise\u001b[0m \u001b[0mValueError\u001b[0m\u001b[1;33m(\u001b[0m\u001b[0mmsg\u001b[0m\u001b[1;33m)\u001b[0m \u001b[1;32mfrom\u001b[0m \u001b[0me\u001b[0m\u001b[1;33m\u001b[0m\u001b[1;33m\u001b[0m\u001b[0m\n\u001b[0m\u001b[0;32m    198\u001b[0m \u001b[1;33m\u001b[0m\u001b[0m\n\u001b[0;32m    199\u001b[0m \u001b[1;33m\u001b[0m\u001b[0m\n",
      "\u001b[1;31mValueError\u001b[0m: Metadata inference failed in `lambda`.\n\nYou have supplied a custom function and Dask is unable to \ndetermine the type of output that that function returns. \n\nTo resolve this please provide a meta= keyword.\nThe docstring of the Dask function you ran should have more information.\n\nOriginal error is below:\n------------------------\nTypeError('data type not understood')\n\nTraceback:\n---------\n  File \"c:\\users\\nbutter\\miniconda3\\envs\\geopy\\lib\\site-packages\\dask\\dataframe\\utils.py\", line 176, in raise_on_meta_error\n    yield\n  File \"c:\\users\\nbutter\\miniconda3\\envs\\geopy\\lib\\site-packages\\dask\\dataframe\\core.py\", line 5580, in _emulate\n    return func(*_extract_meta(args, True), **_extract_meta(kwargs, True))\n  File \"c:\\users\\nbutter\\miniconda3\\envs\\geopy\\lib\\site-packages\\dask\\dataframe\\core.py\", line 5560, in _extract_meta\n    return tuple([_extract_meta(_x, nonempty) for _x in x])\n  File \"c:\\users\\nbutter\\miniconda3\\envs\\geopy\\lib\\site-packages\\dask\\dataframe\\core.py\", line 5560, in <listcomp>\n    return tuple([_extract_meta(_x, nonempty) for _x in x])\n  File \"c:\\users\\nbutter\\miniconda3\\envs\\geopy\\lib\\site-packages\\dask\\dataframe\\core.py\", line 5556, in _extract_meta\n    return x._meta_nonempty if nonempty else x._meta\n  File \"c:\\users\\nbutter\\miniconda3\\envs\\geopy\\lib\\site-packages\\dask\\dataframe\\core.py\", line 379, in _meta_nonempty\n    return meta_nonempty(self._meta)\n  File \"c:\\users\\nbutter\\miniconda3\\envs\\geopy\\lib\\site-packages\\dask\\utils.py\", line 512, in __call__\n    return meth(arg, *args, **kwargs)\n  File \"c:\\users\\nbutter\\miniconda3\\envs\\geopy\\lib\\site-packages\\dask\\dataframe\\backends.py\", line 172, in meta_nonempty_dataframe\n    dt_s_dict[dt] = _nonempty_series(x.iloc[:, i], idx=idx)\n  File \"c:\\users\\nbutter\\miniconda3\\envs\\geopy\\lib\\site-packages\\dask\\dataframe\\backends.py\", line 287, in _nonempty_series\n    data = np.array([entry, entry], dtype=dtype)\n"
     ]
    }
   ],
   "source": [
    "res = ddata.map_partitions(lambda x: x.apply(lambda x: coregRaster(x.ind[0], x.ind[1],array_gdal,7), axis=1)).compute(get=get)  "
   ]
  },
  {
   "cell_type": "code",
   "execution_count": 17,
   "id": "b725da9f",
   "metadata": {},
   "outputs": [],
   "source": [
    "intersection_chunks = np.array_split(sjer_plots_points.ind, cpus)"
   ]
  },
  {
   "cell_type": "code",
   "execution_count": 18,
   "id": "a29a896e",
   "metadata": {},
   "outputs": [
    {
     "data": {
      "text/plain": [
       "(38438,)"
      ]
     },
     "execution_count": 18,
     "metadata": {},
     "output_type": "execute_result"
    }
   ],
   "source": [
    "np.shape(intersection_chunks[0])"
   ]
  },
  {
   "cell_type": "code",
   "execution_count": 22,
   "id": "e25ae165",
   "metadata": {},
   "outputs": [
    {
     "data": {
      "text/plain": [
       "pandas.core.series.Series"
      ]
     },
     "execution_count": 22,
     "metadata": {},
     "output_type": "execute_result"
    }
   ],
   "source": [
    "type(intersection_chunks[0])"
   ]
  },
  {
   "cell_type": "code",
   "execution_count": 40,
   "id": "1624ec1a",
   "metadata": {},
   "outputs": [],
   "source": [
    "pool = mp.Pool(processes=cpus)\n",
    "chunk_processes=[pool.apply_async(neighbour_distance, args=(intersection_chunks)) for chunk in intersection_chunks]"
   ]
  },
  {
   "cell_type": "code",
   "execution_count": null,
   "id": "a28f7305",
   "metadata": {},
   "outputs": [],
   "source": [
    "intersection_results = [chunk.get() for chunk in chunk_processes]"
   ]
  },
  {
   "cell_type": "code",
   "execution_count": null,
   "id": "2cb13ba5",
   "metadata": {},
   "outputs": [],
   "source": [
    "\n",
    "    \n",
    "    \n",
    "    chunk_processes = [pool.apply_async(neighbour_distance, args=(intersection_chunks)) for chunk in intersection_chunks]\n",
    "    \n",
    "    intersection_results = [chunk.get() for chunk in chunk_processes]\n",
    "    \n",
    "#intersections_dist = gpd.GeoDataFrame(pd.concat(intersection_results), crs=sjer_plots_points.crs)\n",
    "#return intersection_results"
   ]
  },
  {
   "cell_type": "code",
   "execution_count": null,
   "id": "4338db9a",
   "metadata": {},
   "outputs": [],
   "source": [
    "%%time\n",
    "intersection_results = parallelize()"
   ]
  },
  {
   "cell_type": "code",
   "execution_count": 60,
   "id": "4f360852",
   "metadata": {},
   "outputs": [],
   "source": [
    "x=sjer_plots_points.geometry.x[500]\n",
    "y=sjer_plots_points.geometry.y[500]\n"
   ]
  },
  {
   "cell_type": "code",
   "execution_count": 83,
   "id": "3018d1d0",
   "metadata": {},
   "outputs": [],
   "source": [
    "proj = osr.SpatialReference(wkt=gdal_data.GetProjection())"
   ]
  },
  {
   "cell_type": "code",
   "execution_count": 79,
   "id": "6edcc1b1",
   "metadata": {},
   "outputs": [
    {
     "data": {
      "text/plain": [
       "(-3901000.0, 1000.0, 0.0, -1000000.0, 0.0, -1000.0)"
      ]
     },
     "execution_count": 79,
     "metadata": {},
     "output_type": "execute_result"
    }
   ],
   "source": [
    "gt"
   ]
  },
  {
   "cell_type": "code",
   "execution_count": 74,
   "id": "b3150c4d",
   "metadata": {},
   "outputs": [
    {
     "name": "stdout",
     "output_type": "stream",
     "text": [
      "Wall time: 0 ns\n"
     ]
    }
   ],
   "source": [
    "%%time\n",
    "#val = df.apply(lambda x: coregRaster(sjer_plots_points.geometry.x, sjer_plots_points.geometry.y,700,array), axis=1)\n",
    "\n",
    "radius = 7\n",
    "\n",
    "col,row = get_coords_at_point(gt, x,y)\n",
    "buff_arr = coregRaster(row, col,array_gdal,radius)"
   ]
  },
  {
   "cell_type": "code",
   "execution_count": 90,
   "id": "f588c462",
   "metadata": {},
   "outputs": [
    {
     "name": "stdout",
     "output_type": "stream",
     "text": [
      "7690678\n",
      "50.0\n"
     ]
    }
   ],
   "source": [
    "print(np.count_nonzero(~np.isnan(array_gdal)))\n",
    "\n",
    "print(area)"
   ]
  },
  {
   "cell_type": "code",
   "execution_count": 86,
   "id": "723f4fe6",
   "metadata": {},
   "outputs": [
    {
     "name": "stdout",
     "output_type": "stream",
     "text": [
      "PROJCS[\"GDA_1994_Albers\",GEOGCS[\"GDA94\",DATUM[\"Geocentric_Datum_of_Australia_1994\",SPHEROID[\"GRS 1980\",6378137,298.257222101,AUTHORITY[\"EPSG\",\"7019\"]],AUTHORITY[\"EPSG\",\"6283\"]],PRIMEM[\"Greenwich\",0],UNIT[\"degree\",0.0174532925199433,AUTHORITY[\"EPSG\",\"9122\"]]],PROJECTION[\"Albers_Conic_Equal_Area\"],PARAMETER[\"latitude_of_center\",0],PARAMETER[\"longitude_of_center\",132],PARAMETER[\"standard_parallel_1\",-18],PARAMETER[\"standard_parallel_2\",-36],PARAMETER[\"false_easting\",0],PARAMETER[\"false_northing\",0],UNIT[\"metre\",1,AUTHORITY[\"EPSG\",\"9001\"]],AXIS[\"Easting\",EAST],AXIS[\"Northing\",NORTH]]\n"
     ]
    }
   ],
   "source": [
    "prj = gdal_data.GetProjection()\n",
    "print(prj)"
   ]
  },
  {
   "cell_type": "code",
   "execution_count": 99,
   "id": "3d937591",
   "metadata": {},
   "outputs": [],
   "source": [
    "coords=shapes[0].points[0]\n",
    "\n",
    "def get_coords_at_point(rasterfile, pos):\n",
    "    gdata = gdal.Open(rasterfile)\n",
    "    gt = gdata.GetGeoTransform()\n",
    "    data = gdata.ReadAsArray().astype(np.float)\n",
    "    row = int((pos[1] - gt[0])/gt[1])\n",
    "    col = int((pos[0] - gt[3])/gt[5])\n",
    "    return col, row\n",
    "\n",
    "radius = 700 # in units of pixels\n",
    "\n",
    "row, col = get_coords_at_point(tiffile, pos = coords) \n",
    "circle = (row, col, radius)"
   ]
  },
  {
   "cell_type": "code",
   "execution_count": 100,
   "id": "8cc62fc4",
   "metadata": {},
   "outputs": [
    {
     "data": {
      "text/plain": [
       "(-2151, 2888, 700)"
      ]
     },
     "execution_count": 100,
     "metadata": {},
     "output_type": "execute_result"
    }
   ],
   "source": [
    "circle"
   ]
  },
  {
   "cell_type": "code",
   "execution_count": 101,
   "id": "e17cf4df",
   "metadata": {},
   "outputs": [],
   "source": [
    "def points_in_circle(circle, arr):\n",
    "    buffer_points = []\n",
    "    i0, j0, r = circle\n",
    "    \n",
    "    def int_ceiling(x):\n",
    "        return int(np.ceil(x))\n",
    "    \n",
    "    for i in range(int_ceiling(i0 - r), int_ceiling(i0 + r)):\n",
    "        ri = np.sqrt(r**2 - (i - i0)**2)\n",
    "        \n",
    "        for j in range(int_ceiling(j0 - ri), int_ceiling(j0 + ri)):\n",
    "            buffer_points.append(arr[i][j])\n",
    "            arr[i][j] = np.nan\n",
    "    \n",
    "    return buffer_points\n",
    "\n",
    "buffer_points = points_in_circle(circle, data_array)"
   ]
  },
  {
   "cell_type": "code",
   "execution_count": 113,
   "id": "63e48e37",
   "metadata": {},
   "outputs": [
    {
     "data": {
      "image/png": "[encoded data removed]",
      "text/plain": [
       "<Figure size 576x576 with 1 Axes>"
      ]
     },
     "metadata": {
      "needs_background": "light"
     },
     "output_type": "display_data"
    }
   ],
   "source": [
    "fig = plt.figure(figsize = (8, 8))\n",
    "ax = fig.add_subplot(111)\n",
    "#plt.axis(\"off\")\n",
    "plt.imshow(data_array, cmap = \"viridis\",vmin=0,vmax=10)\n",
    "#plt.plot(coords[0],coords[1],'kx')\n",
    "plt.show()"
   ]
  },
  {
   "cell_type": "code",
   "execution_count": 114,
   "id": "279af75a",
   "metadata": {},
   "outputs": [],
   "source": [
    "mean = np.nanmean(buffer_points)\n",
    "std = np.nanstd(buffer_points)\n",
    "variance = np.nanvar(buffer_points)\n",
    "summ = np.nansum(buffer_points)"
   ]
  },
  {
   "cell_type": "code",
   "execution_count": 117,
   "id": "2af6ab8e",
   "metadata": {},
   "outputs": [
    {
     "data": {
      "text/plain": [
       "32.05252805112663"
      ]
     },
     "execution_count": 117,
     "metadata": {},
     "output_type": "execute_result"
    }
   ],
   "source": [
    "variance"
   ]
  },
  {
   "cell_type": "code",
   "execution_count": null,
   "id": "7c5471bd",
   "metadata": {},
   "outputs": [],
   "source": []
  },
  {
   "cell_type": "code",
   "execution_count": 25,
   "id": "186f5003",
   "metadata": {},
   "outputs": [
    {
     "name": "stdout",
     "output_type": "stream",
     "text": [
      "Wall time: 27.8 s\n"
     ]
    }
   ],
   "source": [
    "%%time\n",
    "\n",
    "\n",
    "## Read in population rasters\n",
    "poprasts = glob.glob('ABS1x1km_Aus_Pop_Grid_2006_2020/' +\n",
    "                     'data_provided/apg07e_f_001_20210512.tif')\n",
    "\n",
    "grid = gpd.read_file('AUS_points_5km.shp')\n",
    "\n",
    "## Add an FID in there - if one doesn't already exist\n",
    "grid.insert(0, 'FID', range(1, len(grid) + 1))\n",
    "\n",
    "\n",
    "## To see how long it takes"
   ]
  },
  {
   "cell_type": "code",
   "execution_count": 26,
   "id": "5a36f75b",
   "metadata": {},
   "outputs": [],
   "source": [
    "## Define a 'sumna' function that removes missing, and any negative values\n",
    "def sumna(x):\n",
    "    return np.nansum(x[x>0])\n",
    "\n",
    "## Function for one year's extract\n",
    "def popbuff(buff):\n",
    "    b = grid.geometry.buffer(buff)\n",
    "    pop = rs.zonal_stats(b,\n",
    "                         poprast.read(1),\n",
    "                         nodata = 0,\n",
    "                         affine = poprast.transform,\n",
    "                         stats = 'sum',\n",
    "                         add_stats = {'sumna' : sumna})\n",
    "    out = gpd.GeoDataFrame(pop)['sumna']\n",
    "    out = out/(b.area/1e6)\n",
    "    return out\n",
    "\n",
    "buffs = [700] #, 1000, 1500, 2000, 3000, 5000, 10000]"
   ]
  },
  {
   "cell_type": "code",
   "execution_count": 32,
   "id": "1b28bffa",
   "metadata": {
    "scrolled": true
   },
   "outputs": [
    {
     "name": "stdout",
     "output_type": "stream",
     "text": [
      "2007\n"
     ]
    },
    {
     "ename": "KeyboardInterrupt",
     "evalue": "",
     "output_type": "error",
     "traceback": [
      "\u001b[1;31m---------------------------------------------------------------------------\u001b[0m",
      "\u001b[1;31mTypeError\u001b[0m                                 Traceback (most recent call last)",
      "\u001b[1;32mc:\\users\\nbutter\\miniconda3\\envs\\geopy\\lib\\site-packages\\rasterstats\\main.py\u001b[0m in \u001b[0;36mgen_zonal_stats\u001b[1;34m(vectors, raster, layer, band, nodata, affine, stats, all_touched, categorical, category_map, add_stats, zone_func, raster_out, prefix, geojson_out, **kwargs)\u001b[0m\n\u001b[0;32m    266\u001b[0m                     \u001b[1;32mtry\u001b[0m\u001b[1;33m:\u001b[0m\u001b[1;33m\u001b[0m\u001b[1;33m\u001b[0m\u001b[0m\n\u001b[1;32m--> 267\u001b[1;33m                         \u001b[0mfeature_stats\u001b[0m\u001b[1;33m[\u001b[0m\u001b[0mstat_name\u001b[0m\u001b[1;33m]\u001b[0m \u001b[1;33m=\u001b[0m \u001b[0mstat_func\u001b[0m\u001b[1;33m(\u001b[0m\u001b[0mmasked\u001b[0m\u001b[1;33m,\u001b[0m \u001b[0mfeat\u001b[0m\u001b[1;33m[\u001b[0m\u001b[1;34m'properties'\u001b[0m\u001b[1;33m]\u001b[0m\u001b[1;33m)\u001b[0m\u001b[1;33m\u001b[0m\u001b[1;33m\u001b[0m\u001b[0m\n\u001b[0m\u001b[0;32m    268\u001b[0m                     \u001b[1;32mexcept\u001b[0m \u001b[0mTypeError\u001b[0m\u001b[1;33m:\u001b[0m\u001b[1;33m\u001b[0m\u001b[1;33m\u001b[0m\u001b[0m\n",
      "\u001b[1;31mTypeError\u001b[0m: sumna() takes 1 positional argument but 2 were given",
      "\nDuring handling of the above exception, another exception occurred:\n",
      "\u001b[1;31mKeyboardInterrupt\u001b[0m                         Traceback (most recent call last)",
      "\u001b[1;32m<ipython-input-32-28eb41a3f99e>\u001b[0m in \u001b[0;36m<module>\u001b[1;34m\u001b[0m\n\u001b[0;32m      2\u001b[0m         \u001b[0myr\u001b[0m \u001b[1;33m=\u001b[0m \u001b[0mstr\u001b[0m\u001b[1;33m(\u001b[0m\u001b[1;36m20\u001b[0m\u001b[1;33m)\u001b[0m \u001b[1;33m+\u001b[0m \u001b[0mre\u001b[0m\u001b[1;33m.\u001b[0m\u001b[0msub\u001b[0m\u001b[1;33m(\u001b[0m\u001b[1;34m\".*(apg|APG)(\\\\d{2}).*\"\u001b[0m\u001b[1;33m,\u001b[0m \u001b[1;34m\"\\\\2\"\u001b[0m\u001b[1;33m,\u001b[0m \u001b[0mpoprasts\u001b[0m\u001b[1;33m[\u001b[0m\u001b[1;36m0\u001b[0m\u001b[1;33m]\u001b[0m\u001b[1;33m)\u001b[0m\u001b[1;33m\u001b[0m\u001b[1;33m\u001b[0m\u001b[0m\n\u001b[0;32m      3\u001b[0m         \u001b[0mprint\u001b[0m\u001b[1;33m(\u001b[0m\u001b[0myr\u001b[0m\u001b[1;33m)\u001b[0m\u001b[1;33m\u001b[0m\u001b[1;33m\u001b[0m\u001b[0m\n\u001b[1;32m----> 4\u001b[1;33m         \u001b[0mpopdf\u001b[0m \u001b[1;33m=\u001b[0m \u001b[0mlist\u001b[0m\u001b[1;33m(\u001b[0m\u001b[0mmap\u001b[0m\u001b[1;33m(\u001b[0m\u001b[0mpopbuff\u001b[0m\u001b[1;33m,\u001b[0m \u001b[0mbuffs\u001b[0m\u001b[1;33m)\u001b[0m\u001b[1;33m)\u001b[0m\u001b[1;33m\u001b[0m\u001b[1;33m\u001b[0m\u001b[0m\n\u001b[0m",
      "\u001b[1;32m<ipython-input-26-02bf90227f78>\u001b[0m in \u001b[0;36mpopbuff\u001b[1;34m(buff)\u001b[0m\n\u001b[0;32m     11\u001b[0m                          \u001b[0maffine\u001b[0m \u001b[1;33m=\u001b[0m \u001b[0mpoprast\u001b[0m\u001b[1;33m.\u001b[0m\u001b[0mtransform\u001b[0m\u001b[1;33m,\u001b[0m\u001b[1;33m\u001b[0m\u001b[1;33m\u001b[0m\u001b[0m\n\u001b[0;32m     12\u001b[0m                          \u001b[0mstats\u001b[0m \u001b[1;33m=\u001b[0m \u001b[1;34m'sum'\u001b[0m\u001b[1;33m,\u001b[0m\u001b[1;33m\u001b[0m\u001b[1;33m\u001b[0m\u001b[0m\n\u001b[1;32m---> 13\u001b[1;33m                          add_stats = {'sumna' : sumna})\n\u001b[0m\u001b[0;32m     14\u001b[0m     \u001b[0mout\u001b[0m \u001b[1;33m=\u001b[0m \u001b[0mgpd\u001b[0m\u001b[1;33m.\u001b[0m\u001b[0mGeoDataFrame\u001b[0m\u001b[1;33m(\u001b[0m\u001b[0mpop\u001b[0m\u001b[1;33m)\u001b[0m\u001b[1;33m[\u001b[0m\u001b[1;34m'sumna'\u001b[0m\u001b[1;33m]\u001b[0m\u001b[1;33m\u001b[0m\u001b[1;33m\u001b[0m\u001b[0m\n\u001b[0;32m     15\u001b[0m     \u001b[0mout\u001b[0m \u001b[1;33m=\u001b[0m \u001b[0mout\u001b[0m\u001b[1;33m/\u001b[0m\u001b[1;33m(\u001b[0m\u001b[0mb\u001b[0m\u001b[1;33m.\u001b[0m\u001b[0marea\u001b[0m\u001b[1;33m/\u001b[0m\u001b[1;36m1e6\u001b[0m\u001b[1;33m)\u001b[0m\u001b[1;33m\u001b[0m\u001b[1;33m\u001b[0m\u001b[0m\n",
      "\u001b[1;32mc:\\users\\nbutter\\miniconda3\\envs\\geopy\\lib\\site-packages\\rasterstats\\main.py\u001b[0m in \u001b[0;36mzonal_stats\u001b[1;34m(*args, **kwargs)\u001b[0m\n\u001b[0;32m     29\u001b[0m     \u001b[0mThe\u001b[0m \u001b[0monly\u001b[0m \u001b[0mdifference\u001b[0m \u001b[1;32mis\u001b[0m \u001b[0mthat\u001b[0m\u001b[0;31m \u001b[0m\u001b[0;31m`\u001b[0m\u001b[0;31m`\u001b[0m\u001b[0mzonal_stats\u001b[0m\u001b[0;31m`\u001b[0m\u001b[0;31m`\u001b[0m \u001b[0mwill\u001b[0m\u001b[1;33m\u001b[0m\u001b[1;33m\u001b[0m\u001b[0m\n\u001b[0;32m     30\u001b[0m     return a list rather than a generator.\"\"\"\n\u001b[1;32m---> 31\u001b[1;33m     \u001b[1;32mreturn\u001b[0m \u001b[0mlist\u001b[0m\u001b[1;33m(\u001b[0m\u001b[0mgen_zonal_stats\u001b[0m\u001b[1;33m(\u001b[0m\u001b[1;33m*\u001b[0m\u001b[0margs\u001b[0m\u001b[1;33m,\u001b[0m \u001b[1;33m**\u001b[0m\u001b[0mkwargs\u001b[0m\u001b[1;33m)\u001b[0m\u001b[1;33m)\u001b[0m\u001b[1;33m\u001b[0m\u001b[1;33m\u001b[0m\u001b[0m\n\u001b[0m\u001b[0;32m     32\u001b[0m \u001b[1;33m\u001b[0m\u001b[0m\n\u001b[0;32m     33\u001b[0m \u001b[1;33m\u001b[0m\u001b[0m\n",
      "\u001b[1;32mc:\\users\\nbutter\\miniconda3\\envs\\geopy\\lib\\site-packages\\rasterstats\\main.py\u001b[0m in \u001b[0;36mgen_zonal_stats\u001b[1;34m(vectors, raster, layer, band, nodata, affine, stats, all_touched, categorical, category_map, add_stats, zone_func, raster_out, prefix, geojson_out, **kwargs)\u001b[0m\n\u001b[0;32m    268\u001b[0m                     \u001b[1;32mexcept\u001b[0m \u001b[0mTypeError\u001b[0m\u001b[1;33m:\u001b[0m\u001b[1;33m\u001b[0m\u001b[1;33m\u001b[0m\u001b[0m\n\u001b[0;32m    269\u001b[0m                         \u001b[1;31m# backwards compatible with single-argument function\u001b[0m\u001b[1;33m\u001b[0m\u001b[1;33m\u001b[0m\u001b[1;33m\u001b[0m\u001b[0m\n\u001b[1;32m--> 270\u001b[1;33m                         \u001b[0mfeature_stats\u001b[0m\u001b[1;33m[\u001b[0m\u001b[0mstat_name\u001b[0m\u001b[1;33m]\u001b[0m \u001b[1;33m=\u001b[0m \u001b[0mstat_func\u001b[0m\u001b[1;33m(\u001b[0m\u001b[0mmasked\u001b[0m\u001b[1;33m)\u001b[0m\u001b[1;33m\u001b[0m\u001b[1;33m\u001b[0m\u001b[0m\n\u001b[0m\u001b[0;32m    271\u001b[0m \u001b[1;33m\u001b[0m\u001b[0m\n\u001b[0;32m    272\u001b[0m             \u001b[1;32mif\u001b[0m \u001b[0mraster_out\u001b[0m\u001b[1;33m:\u001b[0m\u001b[1;33m\u001b[0m\u001b[1;33m\u001b[0m\u001b[0m\n",
      "\u001b[1;32m<ipython-input-26-02bf90227f78>\u001b[0m in \u001b[0;36msumna\u001b[1;34m(x)\u001b[0m\n\u001b[0;32m      1\u001b[0m \u001b[1;31m## Define a 'sumna' function that removes missing, and any negative values\u001b[0m\u001b[1;33m\u001b[0m\u001b[1;33m\u001b[0m\u001b[1;33m\u001b[0m\u001b[0m\n\u001b[0;32m      2\u001b[0m \u001b[1;32mdef\u001b[0m \u001b[0msumna\u001b[0m\u001b[1;33m(\u001b[0m\u001b[0mx\u001b[0m\u001b[1;33m)\u001b[0m\u001b[1;33m:\u001b[0m\u001b[1;33m\u001b[0m\u001b[1;33m\u001b[0m\u001b[0m\n\u001b[1;32m----> 3\u001b[1;33m     \u001b[1;32mreturn\u001b[0m \u001b[0mnp\u001b[0m\u001b[1;33m.\u001b[0m\u001b[0mnansum\u001b[0m\u001b[1;33m(\u001b[0m\u001b[0mx\u001b[0m\u001b[1;33m[\u001b[0m\u001b[0mx\u001b[0m\u001b[1;33m>\u001b[0m\u001b[1;36m0\u001b[0m\u001b[1;33m]\u001b[0m\u001b[1;33m)\u001b[0m\u001b[1;33m\u001b[0m\u001b[1;33m\u001b[0m\u001b[0m\n\u001b[0m\u001b[0;32m      4\u001b[0m \u001b[1;33m\u001b[0m\u001b[0m\n\u001b[0;32m      5\u001b[0m \u001b[1;31m## Function for one year's extract\u001b[0m\u001b[1;33m\u001b[0m\u001b[1;33m\u001b[0m\u001b[1;33m\u001b[0m\u001b[0m\n",
      "\u001b[1;32m<__array_function__ internals>\u001b[0m in \u001b[0;36mnansum\u001b[1;34m(*args, **kwargs)\u001b[0m\n",
      "\u001b[1;32mc:\\users\\nbutter\\miniconda3\\envs\\geopy\\lib\\site-packages\\numpy\\lib\\nanfunctions.py\u001b[0m in \u001b[0;36mnansum\u001b[1;34m(a, axis, dtype, out, keepdims)\u001b[0m\n\u001b[0;32m    647\u001b[0m \u001b[1;33m\u001b[0m\u001b[0m\n\u001b[0;32m    648\u001b[0m     \"\"\"\n\u001b[1;32m--> 649\u001b[1;33m     \u001b[0ma\u001b[0m\u001b[1;33m,\u001b[0m \u001b[0mmask\u001b[0m \u001b[1;33m=\u001b[0m \u001b[0m_replace_nan\u001b[0m\u001b[1;33m(\u001b[0m\u001b[0ma\u001b[0m\u001b[1;33m,\u001b[0m \u001b[1;36m0\u001b[0m\u001b[1;33m)\u001b[0m\u001b[1;33m\u001b[0m\u001b[1;33m\u001b[0m\u001b[0m\n\u001b[0m\u001b[0;32m    650\u001b[0m     \u001b[1;32mreturn\u001b[0m \u001b[0mnp\u001b[0m\u001b[1;33m.\u001b[0m\u001b[0msum\u001b[0m\u001b[1;33m(\u001b[0m\u001b[0ma\u001b[0m\u001b[1;33m,\u001b[0m \u001b[0maxis\u001b[0m\u001b[1;33m=\u001b[0m\u001b[0maxis\u001b[0m\u001b[1;33m,\u001b[0m \u001b[0mdtype\u001b[0m\u001b[1;33m=\u001b[0m\u001b[0mdtype\u001b[0m\u001b[1;33m,\u001b[0m \u001b[0mout\u001b[0m\u001b[1;33m=\u001b[0m\u001b[0mout\u001b[0m\u001b[1;33m,\u001b[0m \u001b[0mkeepdims\u001b[0m\u001b[1;33m=\u001b[0m\u001b[0mkeepdims\u001b[0m\u001b[1;33m)\u001b[0m\u001b[1;33m\u001b[0m\u001b[1;33m\u001b[0m\u001b[0m\n\u001b[0;32m    651\u001b[0m \u001b[1;33m\u001b[0m\u001b[0m\n",
      "\u001b[1;32mc:\\users\\nbutter\\miniconda3\\envs\\geopy\\lib\\site-packages\\numpy\\lib\\nanfunctions.py\u001b[0m in \u001b[0;36m_replace_nan\u001b[1;34m(a, val)\u001b[0m\n\u001b[0;32m    107\u001b[0m \u001b[1;33m\u001b[0m\u001b[0m\n\u001b[0;32m    108\u001b[0m     \u001b[1;32mif\u001b[0m \u001b[0mmask\u001b[0m \u001b[1;32mis\u001b[0m \u001b[1;32mnot\u001b[0m \u001b[1;32mNone\u001b[0m\u001b[1;33m:\u001b[0m\u001b[1;33m\u001b[0m\u001b[1;33m\u001b[0m\u001b[0m\n\u001b[1;32m--> 109\u001b[1;33m         \u001b[0ma\u001b[0m \u001b[1;33m=\u001b[0m \u001b[0mnp\u001b[0m\u001b[1;33m.\u001b[0m\u001b[0marray\u001b[0m\u001b[1;33m(\u001b[0m\u001b[0ma\u001b[0m\u001b[1;33m,\u001b[0m \u001b[0msubok\u001b[0m\u001b[1;33m=\u001b[0m\u001b[1;32mTrue\u001b[0m\u001b[1;33m,\u001b[0m \u001b[0mcopy\u001b[0m\u001b[1;33m=\u001b[0m\u001b[1;32mTrue\u001b[0m\u001b[1;33m)\u001b[0m\u001b[1;33m\u001b[0m\u001b[1;33m\u001b[0m\u001b[0m\n\u001b[0m\u001b[0;32m    110\u001b[0m         \u001b[0mnp\u001b[0m\u001b[1;33m.\u001b[0m\u001b[0mcopyto\u001b[0m\u001b[1;33m(\u001b[0m\u001b[0ma\u001b[0m\u001b[1;33m,\u001b[0m \u001b[0mval\u001b[0m\u001b[1;33m,\u001b[0m \u001b[0mwhere\u001b[0m\u001b[1;33m=\u001b[0m\u001b[0mmask\u001b[0m\u001b[1;33m)\u001b[0m\u001b[1;33m\u001b[0m\u001b[1;33m\u001b[0m\u001b[0m\n\u001b[0;32m    111\u001b[0m \u001b[1;33m\u001b[0m\u001b[0m\n",
      "\u001b[1;31mKeyboardInterrupt\u001b[0m: "
     ]
    }
   ],
   "source": [
    "with rasterio.open(poprasts[0]) as poprast:\n",
    "        yr = str(20) + re.sub(\".*(apg|APG)(\\\\d{2}).*\", \"\\\\2\", poprasts[0])\n",
    "        print(yr)\n",
    "        popdf = list(map(popbuff, buffs))"
   ]
  },
  {
   "cell_type": "code",
   "execution_count": 36,
   "id": "cbb3b0aa",
   "metadata": {},
   "outputs": [
    {
     "name": "stdout",
     "output_type": "stream",
     "text": [
      "<open DatasetReader name='ABS1x1km_Aus_Pop_Grid_2006_2020/data_provided/apg07e_f_001_20210512.tif' mode='r'>\n",
      "[[-3.402823e+38 -3.402823e+38 -3.402823e+38 ... -3.402823e+38\n",
      "  -3.402823e+38 -3.402823e+38]\n",
      " [-3.402823e+38 -3.402823e+38 -3.402823e+38 ... -3.402823e+38\n",
      "  -3.402823e+38 -3.402823e+38]\n",
      " [-3.402823e+38 -3.402823e+38 -3.402823e+38 ... -3.402823e+38\n",
      "  -3.402823e+38 -3.402823e+38]\n",
      " ...\n",
      " [-3.402823e+38 -3.402823e+38 -3.402823e+38 ... -3.402823e+38\n",
      "  -3.402823e+38 -3.402823e+38]\n",
      " [-3.402823e+38 -3.402823e+38 -3.402823e+38 ... -3.402823e+38\n",
      "  -3.402823e+38 -3.402823e+38]\n",
      " [-3.402823e+38 -3.402823e+38 -3.402823e+38 ... -3.402823e+38\n",
      "  -3.402823e+38 -3.402823e+38]]\n"
     ]
    }
   ],
   "source": [
    "with rasterio.open(poprasts[0]) as poprast:\n",
    "    print(poprast)\n",
    "    print(poprast.read(1))"
   ]
  },
  {
   "cell_type": "code",
   "execution_count": 56,
   "id": "5395ca5e",
   "metadata": {},
   "outputs": [
    {
     "name": "stdout",
     "output_type": "stream",
     "text": [
      "<Managed Device 0>\n"
     ]
    }
   ],
   "source": [
    "\n",
    "print(cuda.gpus)"
   ]
  },
  {
   "cell_type": "code",
   "execution_count": 55,
   "id": "9a6aa0c5",
   "metadata": {},
   "outputs": [],
   "source": [
    "import xrspatial"
   ]
  },
  {
   "cell_type": "code",
   "execution_count": null,
   "id": "31d41852",
   "metadata": {},
   "outputs": [],
   "source": [
    "from xrspatial import zonal_stats\n",
    "zones_agg.values = np.nan_to_num(zones_agg.values, copy=False).astype(int)\n",
    "zonal_stats(zones_agg, terrain)"
   ]
  },
  {
   "cell_type": "code",
   "execution_count": 65,
   "id": "e31c19a5",
   "metadata": {},
   "outputs": [],
   "source": [
    "poprasts = glob.glob('ABS1x1km_Aus_Pop_Grid_2006_2020/' +\n",
    "                     'data_provided/apg07e_f_001_20210512.tif')"
   ]
  },
  {
   "cell_type": "code",
   "execution_count": 67,
   "id": "cfc0b608",
   "metadata": {},
   "outputs": [
    {
     "ename": "TypeError",
     "evalue": "'int' object is not iterable",
     "output_type": "error",
     "traceback": [
      "\u001b[1;31m---------------------------------------------------------------------------\u001b[0m",
      "\u001b[1;31mTypeError\u001b[0m                                 Traceback (most recent call last)",
      "\u001b[1;32m<ipython-input-67-25206040d669>\u001b[0m in \u001b[0;36m<module>\u001b[1;34m\u001b[0m\n\u001b[0;32m      5\u001b[0m         \u001b[0myr\u001b[0m \u001b[1;33m=\u001b[0m \u001b[0mstr\u001b[0m\u001b[1;33m(\u001b[0m\u001b[1;36m20\u001b[0m\u001b[1;33m)\u001b[0m \u001b[1;33m+\u001b[0m \u001b[0mre\u001b[0m\u001b[1;33m.\u001b[0m\u001b[0msub\u001b[0m\u001b[1;33m(\u001b[0m\u001b[1;34m\".*(apg|APG)(\\\\d{2}).*\"\u001b[0m\u001b[1;33m,\u001b[0m \u001b[1;34m\"\\\\2\"\u001b[0m\u001b[1;33m,\u001b[0m \u001b[0mpth\u001b[0m\u001b[1;33m)\u001b[0m\u001b[1;33m\u001b[0m\u001b[1;33m\u001b[0m\u001b[0m\n\u001b[0;32m      6\u001b[0m         \u001b[0mpopdf\u001b[0m \u001b[1;33m=\u001b[0m \u001b[1;36m0\u001b[0m\u001b[1;33m\u001b[0m\u001b[1;33m\u001b[0m\u001b[0m\n\u001b[1;32m----> 7\u001b[1;33m         \u001b[0mpopdf\u001b[0m \u001b[1;33m=\u001b[0m \u001b[0mgpd\u001b[0m\u001b[1;33m.\u001b[0m\u001b[0mGeoDataFrame\u001b[0m\u001b[1;33m(\u001b[0m\u001b[0mpopdf\u001b[0m\u001b[1;33m,\u001b[0m \u001b[0mindex\u001b[0m \u001b[1;33m=\u001b[0m \u001b[1;33m[\u001b[0m\u001b[1;34m\"popdens\"\u001b[0m \u001b[1;33m+\u001b[0m \u001b[0mstr\u001b[0m\u001b[1;33m(\u001b[0m\u001b[0mb\u001b[0m\u001b[1;33m)\u001b[0m \u001b[1;32mfor\u001b[0m \u001b[0mb\u001b[0m \u001b[1;32min\u001b[0m \u001b[0mbuffs\u001b[0m\u001b[1;33m]\u001b[0m\u001b[1;33m)\u001b[0m\u001b[1;33m.\u001b[0m\u001b[0mT\u001b[0m\u001b[1;33m\u001b[0m\u001b[1;33m\u001b[0m\u001b[0m\n\u001b[0m\u001b[0;32m      8\u001b[0m         \u001b[0mpopdf\u001b[0m\u001b[1;33m.\u001b[0m\u001b[0minsert\u001b[0m\u001b[1;33m(\u001b[0m\u001b[1;36m0\u001b[0m\u001b[1;33m,\u001b[0m \u001b[1;34m'FID'\u001b[0m\u001b[1;33m,\u001b[0m \u001b[0mgrid\u001b[0m\u001b[1;33m.\u001b[0m\u001b[0mFID\u001b[0m\u001b[1;33m)\u001b[0m\u001b[1;33m\u001b[0m\u001b[1;33m\u001b[0m\u001b[0m\n\u001b[0;32m      9\u001b[0m         \u001b[0mpopdf\u001b[0m\u001b[1;33m.\u001b[0m\u001b[0minsert\u001b[0m\u001b[1;33m(\u001b[0m\u001b[1;36m0\u001b[0m\u001b[1;33m,\u001b[0m \u001b[1;34m'year'\u001b[0m\u001b[1;33m,\u001b[0m \u001b[0myr\u001b[0m\u001b[1;33m)\u001b[0m\u001b[1;33m\u001b[0m\u001b[1;33m\u001b[0m\u001b[0m\n",
      "\u001b[1;31mTypeError\u001b[0m: 'int' object is not iterable"
     ]
    }
   ],
   "source": [
    "buffs=700\n",
    "\n",
    "for pth in poprasts:\n",
    "    with rasterio.open(pth) as poprast:\n",
    "        yr = str(20) + re.sub(\".*(apg|APG)(\\\\d{2}).*\", \"\\\\2\", pth)\n",
    "        popdf = \n",
    "        popdf = gpd.GeoDataFrame(popdf, index = [\"popdens\" + str(b) for b in buffs]).T\n",
    "        popdf.insert(0, 'FID', grid.FID)\n",
    "        popdf.insert(0, 'year', yr)\n",
    "        t.append(popdf)"
   ]
  },
  {
   "cell_type": "code",
   "execution_count": 49,
   "id": "a7768d0e",
   "metadata": {},
   "outputs": [],
   "source": [
    "@jit(nopython=True)\n",
    "def get_coords_at_point(gt, lon, lat):\n",
    "\t'''\n",
    "\tGiven a point in some coordinate reference (e.g. lat/lon)\n",
    "\tFind the closest point to that in an array (e.g. a raster)\n",
    "\tand return the index location of that point in the raster.\n",
    "\t\n",
    "\tINPUTS\n",
    "\tgt: output from \"gdal_data.GetGeoTransform()\"\n",
    "\tlon: x/row-coordinate of interest\n",
    "\tlat: y/column-coordinate of interest\n",
    "\n",
    "\tRETURNS\n",
    "\tcol: y index value from the raster\n",
    "\trow: x index value from the raster\n",
    "\t'''\n",
    "\n",
    "\trow = int((lon - gt[0])/gt[1])\n",
    "\tcol = int((lat - gt[3])/gt[5])\n",
    "\treturn (col, row)\n",
    "\n",
    "\n",
    "@jit(nopython=True)\n",
    "def points_in_circle(circle, arr):\n",
    "\t'''\n",
    "\tA generator to return all points whose indices are within a given circle.\n",
    "\thttp://stackoverflow.com/a/2774284\n",
    "\tWarning: If a point is near the the edges of the raster it will not loop \n",
    "\taround to the other side of the raster!\n",
    "\t'''\n",
    "\ti0,j0,r = circle\n",
    "\t\n",
    "\tdef intceil(x):\n",
    "\t\treturn int(np.ceil(x))  \n",
    "\n",
    "\tfor i in range(intceil(i0-r),intceil(i0+r)):\n",
    "\t\tri = np.sqrt(r**2-(i-i0)**2)\n",
    "\t\tfor j in range(intceil(j0-ri),intceil(j0+ri)):\n",
    "\t\t\tif (i >= 0 and i < len(arr[:,0])) and (j>=0 and j < len(arr[0,:])):               \n",
    "\t\t\t\tyield arr[i][j]        \n",
    "\t\t\t\t\t\t\t\t\t\t  \n",
    "\n",
    "#\n",
    "def coregRaster(i0,j0,data,region):\n",
    "\t'''\n",
    "\tCoregisters a point with a buffer region of a raster. \n",
    "\n",
    "\tINPUTS\n",
    "\ti0: x/row-index of point of interest\n",
    "\tj0: y/column-index of point of interest\n",
    "\tdata: two-dimensional numpy array (raster)\n",
    "\tregion: integer, same units as data resolution\n",
    "\n",
    "\tRETURNS\n",
    "\tpts: all values from array within region\n",
    "\n",
    "\n",
    "\t'''\n",
    "\tpts_iterator = points_in_circle((i0,j0,region), data)\n",
    "\tpts = np.array(list(pts_iterator))\n",
    "\n",
    "\t#Count area that contributed to calc\n",
    "\tsquares= np.count_nonzero(~np.isnan(pts))\n",
    "\n",
    "\treturn(np.nansum(pts)/squares)"
   ]
  },
  {
   "cell_type": "code",
   "execution_count": 82,
   "id": "15964611",
   "metadata": {},
   "outputs": [],
   "source": [
    "x=sjer_plots_points.geometry.x[5000]\n",
    "y=sjer_plots_points.geometry.y[2000]"
   ]
  },
  {
   "cell_type": "code",
   "execution_count": 85,
   "id": "ceabf82c",
   "metadata": {},
   "outputs": [
    {
     "name": "stdout",
     "output_type": "stream",
     "text": [
      "26500.0 -1312500.0\n"
     ]
    }
   ],
   "source": [
    "print(x,y)"
   ]
  },
  {
   "cell_type": "code",
   "execution_count": 99,
   "id": "2381b060",
   "metadata": {},
   "outputs": [
    {
     "data": {
      "image/png": "[encoded data removed]",
      "text/plain": [
       "<Figure size 432x288 with 1 Axes>"
      ]
     },
     "metadata": {
      "needs_background": "light"
     },
     "output_type": "display_data"
    }
   ],
   "source": [
    "sjer_plots_points.plot(marker='*', color='green', markersize=5);"
   ]
  },
  {
   "cell_type": "code",
   "execution_count": 100,
   "id": "4f63b11e",
   "metadata": {},
   "outputs": [
    {
     "name": "stdout",
     "output_type": "stream",
     "text": [
      "             minx       miny       maxx       maxy\n",
      "0       1151500.0 -1012500.0  1151500.0 -1012500.0\n",
      "1       1156500.0 -1012500.0  1156500.0 -1012500.0\n",
      "2       1156500.0 -1017500.0  1156500.0 -1017500.0\n",
      "3       1161500.0 -1017500.0  1161500.0 -1017500.0\n",
      "4       1201500.0 -1032500.0  1201500.0 -1032500.0\n",
      "...           ...        ...        ...        ...\n",
      "307499  1226500.0 -4832500.0  1226500.0 -4832500.0\n",
      "307500  1231500.0 -4832500.0  1231500.0 -4832500.0\n",
      "307501  1236500.0 -4832500.0  1236500.0 -4832500.0\n",
      "307502  1241500.0 -4832500.0  1241500.0 -4832500.0\n",
      "307503  1241500.0 -4837500.0  1241500.0 -4837500.0\n",
      "\n",
      "[307504 rows x 4 columns]\n",
      "(4100, 7401)\n"
     ]
    }
   ],
   "source": [
    "print(sjer_plots_points.geometry.bounds)\n",
    "#print(sjer_plots_points.geometry.min())\n",
    "print(np.shape(array_gdal))"
   ]
  },
  {
   "cell_type": "code",
   "execution_count": 73,
   "id": "175eee66",
   "metadata": {},
   "outputs": [
    {
     "name": "stdout",
     "output_type": "stream",
     "text": [
      "VALUE                              1\n",
      "geometry    POINT (1711500 -3812500)\n",
      "ind                     (2812, 5612)\n",
      "Name: 286607, dtype: object\n"
     ]
    }
   ],
   "source": [
    "print(sjer_plots_points.loc[286607])\n",
    "y=sjer_plots_points.geometry.y[286607]\n",
    "x=sjer_plots_points.geometry.x[286607]"
   ]
  },
  {
   "cell_type": "code",
   "execution_count": 74,
   "id": "8789183e",
   "metadata": {},
   "outputs": [
    {
     "name": "stdout",
     "output_type": "stream",
     "text": [
      "1.0\n"
     ]
    }
   ],
   "source": [
    "buff=700\n",
    "b=np.ceil(buff/gt[1])\n",
    "print(b)"
   ]
  },
  {
   "cell_type": "code",
   "execution_count": 75,
   "id": "e2bdbebd",
   "metadata": {},
   "outputs": [
    {
     "name": "stdout",
     "output_type": "stream",
     "text": [
      "(2812, 5612)\n"
     ]
    }
   ],
   "source": [
    "ind=get_coords_at_point(gt,x,y)\n",
    "print(ind)"
   ]
  },
  {
   "cell_type": "code",
   "execution_count": 93,
   "id": "27dfd96b",
   "metadata": {},
   "outputs": [
    {
     "name": "stdout",
     "output_type": "stream",
     "text": [
      "The slowest run took 10.64 times longer than the fastest. This could mean that an intermediate result is being cached.\n",
      "2.79 µs ± 3.64 µs per loop (mean ± std. dev. of 7 runs, 1 loop each)\n"
     ]
    }
   ],
   "source": [
    "%%timeit\n",
    "coregRasterSquare(ind[0], ind[1],array_gdal,b)"
   ]
  },
  {
   "cell_type": "code",
   "execution_count": 88,
   "id": "e7806163",
   "metadata": {},
   "outputs": [
    {
     "name": "stdout",
     "output_type": "stream",
     "text": [
      "43.9 µs ± 2.1 µs per loop (mean ± std. dev. of 7 runs, 10000 loops each)\n"
     ]
    }
   ],
   "source": [
    "%%timeit\n",
    "coregRaster(ind[0],ind[1],array_gdal,b)"
   ]
  },
  {
   "cell_type": "code",
   "execution_count": 50,
   "id": "09b64b74",
   "metadata": {},
   "outputs": [
    {
     "name": "stdout",
     "output_type": "stream",
     "text": [
      "Wall time: 49.2 s\n"
     ]
    }
   ],
   "source": [
    "%%time\n",
    "sjer_plots_points[\"ind\"] = sjer_plots_points.apply(lambda x: get_coords_at_point(gt, x.geometry.x, x.geometry.y), axis=1)"
   ]
  },
  {
   "cell_type": "code",
   "execution_count": 42,
   "id": "a38a28b6",
   "metadata": {},
   "outputs": [
    {
     "data": {
      "text/plain": [
       "4022"
      ]
     },
     "execution_count": 42,
     "metadata": {},
     "output_type": "execute_result"
    }
   ],
   "source": [
    "sjer_plots_points.loc[286607,\"ind\"] #\"ind\"]\n",
    "#df.loc[0,['A', 'B']]\n",
    "#sjer_plots_points.iloc[::10, :]\n",
    "\n",
    "sjer_plots_points.loc[999,\"ind\"][1]"
   ]
  },
  {
   "cell_type": "code",
   "execution_count": 38,
   "id": "f1e6a194",
   "metadata": {},
   "outputs": [
    {
     "data": {
      "text/plain": [
       "1711500.0"
      ]
     },
     "execution_count": 38,
     "metadata": {},
     "output_type": "execute_result"
    }
   ],
   "source": [
    "sjer_plots_points.loc[286607].geometry.x"
   ]
  },
  {
   "cell_type": "code",
   "execution_count": 46,
   "id": "2c7f62e0",
   "metadata": {},
   "outputs": [],
   "source": [
    "pop=np.empty(len(sjer_plots_points))\n",
    "pop[:] = np.NaN"
   ]
  },
  {
   "cell_type": "code",
   "execution_count": 43,
   "id": "3eb5a537",
   "metadata": {},
   "outputs": [
    {
     "name": "stdout",
     "output_type": "stream",
     "text": [
      "Wall time: 8.58 s\n"
     ]
    }
   ],
   "source": [
    "%%time\n",
    "for i,row in enumerate(sjer_plots_points.itertuples()):\n",
    "\tind=get_coords_at_point(gt, row.geometry.x, row.geometry.y)"
   ]
  },
  {
   "cell_type": "code",
   "execution_count": 52,
   "id": "34cb1fda",
   "metadata": {},
   "outputs": [
    {
     "name": "stdout",
     "output_type": "stream",
     "text": [
      "Wall time: 49.6 s\n"
     ]
    }
   ],
   "source": [
    "%%time\n",
    "ind = sjer_plots_points.apply(lambda x: get_coords_at_point(gt, x.geometry.x, x.geometry.y), axis=1)"
   ]
  },
  {
   "cell_type": "code",
   "execution_count": 63,
   "id": "a07a63a7",
   "metadata": {},
   "outputs": [
    {
     "name": "stdout",
     "output_type": "stream",
     "text": [
      "Wall time: 1min 39s\n"
     ]
    }
   ],
   "source": [
    "%%time\n",
    "bag=db.from_sequence(ind)\n",
    "val = bag.map(lambda x: coregRaster(x[0], x[1],array_gdal,b)).compute()"
   ]
  },
  {
   "cell_type": "code",
   "execution_count": 65,
   "id": "6fa2a95b",
   "metadata": {},
   "outputs": [
    {
     "name": "stderr",
     "output_type": "stream",
     "text": [
      "c:\\users\\nbutter\\miniconda3\\envs\\geopy\\lib\\site-packages\\ipykernel_launcher.py:65: RuntimeWarning: invalid value encountered in double_scalars\n"
     ]
    },
    {
     "name": "stdout",
     "output_type": "stream",
     "text": [
      "Wall time: 17.5 s\n"
     ]
    }
   ],
   "source": [
    "%%time\n",
    "for i,row in enumerate(sjer_plots_points.itertuples()):\n",
    "\t\tind=get_coords_at_point(gt, row.geometry.x, row.geometry.y)\n",
    "\t\tpop[i]=coregRaster(ind[0], ind[1], array_gdal,b)"
   ]
  },
  {
   "cell_type": "code",
   "execution_count": 68,
   "id": "64fcfb57",
   "metadata": {},
   "outputs": [
    {
     "name": "stdout",
     "output_type": "stream",
     "text": [
      "Origin = (1692000.0, -3803000.0)\n",
      "Pixel Size = (1000.0, -1000.0)\n"
     ]
    },
    {
     "data": {
      "image/png": "[encoded data removed]",
      "text/plain": [
       "<Figure size 432x288 with 1 Axes>"
      ]
     },
     "metadata": {
      "needs_background": "light"
     },
     "output_type": "display_data"
    }
   ],
   "source": [
    "folder1=\"\"\n",
    "tiffile1=\"buffed.tif\"\n",
    "\n",
    "gdal_data1 = gdal.Open(folder1+tiffile1)\n",
    "\n",
    "gdal_band1 = gdal_data1.GetRasterBand(1)\n",
    "nodataval1 = gdal_band1.GetNoDataValue()\n",
    "array_gdal1 = gdal_data1.ReadAsArray().astype(np.float)\n",
    "gt1 = gdal_data1.GetGeoTransform()\n",
    "\n",
    "plt.imshow(array_gdal1,vmin=0,vmax=1)\n",
    "\n",
    "print(\"Origin = ({}, {})\".format(gt1[0], gt1[3]))\n",
    "print(\"Pixel Size = ({}, {})\".format(gt1[1], gt1[5]))"
   ]
  },
  {
   "cell_type": "code",
   "execution_count": 69,
   "id": "af858d99",
   "metadata": {},
   "outputs": [
    {
     "data": {
      "text/plain": [
       "1000000"
      ]
     },
     "execution_count": 69,
     "metadata": {},
     "output_type": "execute_result"
    }
   ],
   "source": [
    "1*1000*1000"
   ]
  },
  {
   "cell_type": "code",
   "execution_count": 70,
   "id": "98633648",
   "metadata": {},
   "outputs": [
    {
     "data": {
      "text/plain": [
       "1000000.0"
      ]
     },
     "execution_count": 70,
     "metadata": {},
     "output_type": "execute_result"
    }
   ],
   "source": [
    "1e6"
   ]
  },
  {
   "cell_type": "code",
   "execution_count": 101,
   "id": "f966200f",
   "metadata": {},
   "outputs": [],
   "source": [
    "popdens1=np.array([0.0147165,0.01632864,0.01413821,0.00955494,0.00906516])"
   ]
  },
  {
   "cell_type": "code",
   "execution_count": 104,
   "id": "cbc3f030",
   "metadata": {},
   "outputs": [],
   "source": [
    "popdens2=np.array([0.,0,0.,0.,0.])"
   ]
  },
  {
   "cell_type": "code",
   "execution_count": 105,
   "id": "19f6ae0e",
   "metadata": {},
   "outputs": [
    {
     "name": "stdout",
     "output_type": "stream",
     "text": [
      "[0.0147165, 0.01632864, 0.01413821, 0.00955494, 0.00906516]\n"
     ]
    }
   ],
   "source": [
    "print(popdens1.tolist())"
   ]
  },
  {
   "cell_type": "code",
   "execution_count": 98,
   "id": "2ee07ad1",
   "metadata": {},
   "outputs": [],
   "source": [
    "pop=np.empty(5)"
   ]
  },
  {
   "cell_type": "code",
   "execution_count": 100,
   "id": "29639cbd",
   "metadata": {},
   "outputs": [
    {
     "name": "stdout",
     "output_type": "stream",
     "text": [
      "[17.2 17.2 17.2 17.2 24.2]\n"
     ]
    }
   ],
   "source": [
    "print(pop)"
   ]
  },
  {
   "cell_type": "code",
   "execution_count": null,
   "id": "697cb255",
   "metadata": {},
   "outputs": [],
   "source": []
  }
 ],
 "metadata": {
  "kernelspec": {
   "display_name": "Python 3",
   "language": "python",
   "name": "python3"
  },
  "language_info": {
   "codemirror_mode": {
    "name": "ipython",
    "version": 3
   },
   "file_extension": ".py",
   "mimetype": "text/x-python",
   "name": "python",
   "nbconvert_exporter": "python",
   "pygments_lexer": "ipython3",
   "version": "3.7.10"
  }
 },
 "nbformat": 4,
 "nbformat_minor": 5
}
