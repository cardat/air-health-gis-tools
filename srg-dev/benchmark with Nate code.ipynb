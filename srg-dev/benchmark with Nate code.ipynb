{
 "cells": [
  {
   "cell_type": "code",
   "execution_count": 1,
   "id": "869fd48d-bfa1-4a76-b212-efeced58f1d8",
   "metadata": {},
   "outputs": [],
   "source": [
    "%load_ext memory_profiler"
   ]
  },
  {
   "cell_type": "markdown",
   "id": "0d7995f2-600c-42e1-9d84-3597b4892afc",
   "metadata": {},
   "source": [
    "## Run benchmark with\n",
    "\n",
    "From repo root/base folder\n",
    "\n",
    "```bash\n",
    "mprof run python extract_point_from_raster_buffer.py -f srg-dev/test-data/pop_density/pop_density/*.tif -g srg-dev/test-data/1000_testing_points.rds\n",
    "```"
   ]
  },
  {
   "cell_type": "markdown",
   "id": "8af3a15d-5894-42cb-b46c-dbe8d42885a4",
   "metadata": {},
   "source": [
    "## Run all the cells below to record peak memory and time"
   ]
  },
  {
   "cell_type": "code",
   "execution_count": 2,
   "id": "4f04d1a4-569d-4956-a59f-74c6dcbbde68",
   "metadata": {},
   "outputs": [],
   "source": [
    "import pandas as pd\n",
    "# import geopandas as gpd\n",
    "import rioxarray as riox\n",
    "\n",
    "from pyproj import Transformer\n",
    "from shapely.geometry import mapping, Point\n",
    "\n",
    "start = pd.Timestamp('now')\n",
    "buffer_value = 10_000"
   ]
  },
  {
   "cell_type": "markdown",
   "id": "b46dd4ca-a166-4a0c-abf8-79e34265c615",
   "metadata": {},
   "source": [
    "## Run the analysis in a scalable way"
   ]
  },
  {
   "cell_type": "markdown",
   "id": "594b4e7e-efb6-47a5-b42a-29984dd466c4",
   "metadata": {},
   "source": [
    "load the raster and fill NaNs with 0"
   ]
  },
  {
   "cell_type": "code",
   "execution_count": 3,
   "id": "9e26807c-949c-4068-bba9-00f348a16789",
   "metadata": {
    "tags": []
   },
   "outputs": [],
   "source": [
    "myraster = (\n",
    "    riox.open_rasterio('test-data/pop_density/pop_density/apg18e_1_0_0_20210512.tif')\n",
    "    .sel(band=1)\n",
    ")"
   ]
  },
  {
   "cell_type": "code",
   "execution_count": 4,
   "id": "4a493294-6367-474b-a00a-bded391fc1b3",
   "metadata": {},
   "outputs": [],
   "source": [
    "myraster = myraster.where(myraster != myraster.rio.nodata, drop=True)"
   ]
  },
  {
   "cell_type": "code",
   "execution_count": 5,
   "id": "b5834c85-8401-43c5-a2d3-8c3a1a352c95",
   "metadata": {},
   "outputs": [
    {
     "data": {
      "text/plain": [
       "'15,138,272'"
      ]
     },
     "execution_count": 5,
     "metadata": {},
     "output_type": "execute_result"
    }
   ],
   "source": [
    "\"{:,}\".format(myraster.data.shape[0] * myraster.data.shape[1])"
   ]
  },
  {
   "cell_type": "markdown",
   "id": "d7209287-aa5a-481f-996e-467abd518657",
   "metadata": {},
   "source": [
    "Load points for data extraction and create buffers"
   ]
  },
  {
   "cell_type": "code",
   "execution_count": 6,
   "id": "fbdb14b4-50a5-47e4-8d5c-8aa3f2271c26",
   "metadata": {},
   "outputs": [],
   "source": [
    "transformer = Transformer.from_crs(\"EPSG:3577\", myraster.rio.crs, always_xy=True)"
   ]
  },
  {
   "cell_type": "code",
   "execution_count": 7,
   "id": "73c4144a-2e0d-4dbb-911b-0852373440ca",
   "metadata": {},
   "outputs": [],
   "source": [
    "points = (\n",
    "    pd.read_csv('test-data/100k_testing_points.csv')\n",
    "    .rename(columns={'X': 'x', 'Y': 'y'})\n",
    "    .assign(\n",
    "        lat_lon_tuple = lambda columns: columns[['x', 'y']].apply(lambda row: transformer.transform(row['x'], row['y']), axis=1),\n",
    "        lat = lambda columns: columns['lat_lon_tuple'].apply(lambda el: el[0]),\n",
    "        lon = lambda columns: columns['lat_lon_tuple'].apply(lambda el: el[1]),\n",
    "        points = lambda columns: columns['lat_lon_tuple'].apply(Point),\n",
    "        points_buffer = lambda columns: columns['points'].apply(lambda x: x.buffer(buffer_value))\n",
    "    )\n",
    ")"
   ]
  },
  {
   "cell_type": "markdown",
   "id": "8e6d0566-b2f6-49d1-bf4d-d48ed0cfe55d",
   "metadata": {},
   "source": [
    "Memory of dataframe in MB"
   ]
  },
  {
   "cell_type": "code",
   "execution_count": 8,
   "id": "0d897435-e1b2-4c14-b313-0de5d379f193",
   "metadata": {},
   "outputs": [],
   "source": [
    "def extract_mean_from_buffer(raster, geom):\n",
    "    data_points = pd.Series(geom.exterior.coords)\n",
    "    values_from_raster = data_points.apply(lambda row: raster.sel(x=row[0], y=row[1], method=\"nearest\").item()).values\n",
    "    return values_from_raster.mean()"
   ]
  },
  {
   "cell_type": "code",
   "execution_count": null,
   "id": "89e5efd8-dcd9-4861-9a9b-7a209e815e4a",
   "metadata": {},
   "outputs": [],
   "source": [
    "%%memit\n",
    "points['extracted_mean'] = points['points_buffer'].apply(\n",
    "    lambda x: extract_mean_from_buffer(myraster, x)\n",
    ") * myraster.attrs['scale_factor'] + myraster.attrs['add_offset']"
   ]
  },
  {
   "cell_type": "code",
   "execution_count": null,
   "id": "81395f76-e27c-4f88-a9c6-798a85c8e01f",
   "metadata": {},
   "outputs": [],
   "source": [
    "print(f\"running time: {pd.Timestamp('now') - start}\")"
   ]
  },
  {
   "cell_type": "code",
   "execution_count": null,
   "id": "411cedfb-0c3a-430e-b69e-1baea2d33185",
   "metadata": {},
   "outputs": [],
   "source": [
    "points.sample(20)"
   ]
  }
 ],
 "metadata": {
  "kernelspec": {
   "display_name": "Python 3 (ipykernel)",
   "language": "python",
   "name": "python3"
  },
  "language_info": {
   "codemirror_mode": {
    "name": "ipython",
    "version": 3
   },
   "file_extension": ".py",
   "mimetype": "text/x-python",
   "name": "python",
   "nbconvert_exporter": "python",
   "pygments_lexer": "ipython3",
   "version": "3.9.7"
  }
 },
 "nbformat": 4,
 "nbformat_minor": 5
}
