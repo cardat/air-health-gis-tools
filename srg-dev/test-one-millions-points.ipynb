{
 "cells": [
  {
   "cell_type": "code",
   "execution_count": 1,
   "id": "869fd48d-bfa1-4a76-b212-efeced58f1d8",
   "metadata": {},
   "outputs": [],
   "source": [
    "%load_ext memory_profiler"
   ]
  },
  {
   "cell_type": "code",
   "execution_count": 2,
   "id": "4f04d1a4-569d-4956-a59f-74c6dcbbde68",
   "metadata": {},
   "outputs": [],
   "source": [
    "import pandas as pd\n",
    "import rioxarray as riox\n",
    "\n",
    "from pyproj import Transformer\n",
    "from shapely.geometry import mapping, Point"
   ]
  },
  {
   "cell_type": "markdown",
   "id": "b46dd4ca-a166-4a0c-abf8-79e34265c615",
   "metadata": {},
   "source": [
    "## Run the analysis in a scalable way"
   ]
  },
  {
   "cell_type": "markdown",
   "id": "594b4e7e-efb6-47a5-b42a-29984dd466c4",
   "metadata": {},
   "source": [
    "load the raster and fill NaNs with 0"
   ]
  },
  {
   "cell_type": "code",
   "execution_count": 3,
   "id": "9e26807c-949c-4068-bba9-00f348a16789",
   "metadata": {
    "tags": []
   },
   "outputs": [],
   "source": [
    "myraster = (\n",
    "    riox.open_rasterio('test-data/Impervious_Surface_NOAA_Satellite_2010/Impervious_Surface_NOAA_Satellite_2010/data_provided/impsa_2010_20210519.tif')\n",
    "    .sel(band=1)\n",
    ")"
   ]
  },
  {
   "cell_type": "code",
   "execution_count": 4,
   "id": "4a493294-6367-474b-a00a-bded391fc1b3",
   "metadata": {},
   "outputs": [],
   "source": [
    "myraster = myraster.where(myraster != myraster.rio.nodata, 0)"
   ]
  },
  {
   "cell_type": "markdown",
   "id": "d7209287-aa5a-481f-996e-467abd518657",
   "metadata": {},
   "source": [
    "Load points for data extraction and create buffers"
   ]
  },
  {
   "cell_type": "code",
   "execution_count": 5,
   "id": "fbdb14b4-50a5-47e4-8d5c-8aa3f2271c26",
   "metadata": {},
   "outputs": [],
   "source": [
    "transformer = Transformer.from_crs(\"EPSG:3577\", myraster.rio.crs, always_xy=True)"
   ]
  },
  {
   "cell_type": "code",
   "execution_count": 6,
   "id": "73c4144a-2e0d-4dbb-911b-0852373440ca",
   "metadata": {},
   "outputs": [
    {
     "name": "stdout",
     "output_type": "stream",
     "text": [
      "CPU times: user 1min 13s, sys: 876 ms, total: 1min 14s\n",
      "Wall time: 1min 14s\n"
     ]
    }
   ],
   "source": [
    "%%time\n",
    "points = (\n",
    "    pd.read_csv('test-data/one-million.csv')\n",
    "    .rename(columns={'X': 'x', 'Y': 'y'})\n",
    "    .assign(\n",
    "        lat_lon_tuple = lambda columns: columns[['x', 'y']].apply(lambda row: transformer.transform(row['x'], row['y']), axis=1),\n",
    "        lat = lambda columns: columns['lat_lon_tuple'].apply(lambda el: el[0]),\n",
    "        lon = lambda columns: columns['lat_lon_tuple'].apply(lambda el: el[1]),\n",
    "        points = lambda columns: columns['lat_lon_tuple'].apply(Point),\n",
    "        points_buffer = lambda columns: columns['points'].apply(lambda x: x.buffer(10))\n",
    "    )\n",
    ")"
   ]
  },
  {
   "cell_type": "code",
   "execution_count": 7,
   "id": "24ea77e0-8946-477b-9a81-2e55a86e63e1",
   "metadata": {},
   "outputs": [
    {
     "data": {
      "text/html": [
       "<div>\n",
       "<style scoped>\n",
       "    .dataframe tbody tr th:only-of-type {\n",
       "        vertical-align: middle;\n",
       "    }\n",
       "\n",
       "    .dataframe tbody tr th {\n",
       "        vertical-align: top;\n",
       "    }\n",
       "\n",
       "    .dataframe thead th {\n",
       "        text-align: right;\n",
       "    }\n",
       "</style>\n",
       "<table border=\"1\" class=\"dataframe\">\n",
       "  <thead>\n",
       "    <tr style=\"text-align: right;\">\n",
       "      <th></th>\n",
       "      <th>x</th>\n",
       "      <th>y</th>\n",
       "      <th>lat_lon_tuple</th>\n",
       "      <th>lat</th>\n",
       "      <th>lon</th>\n",
       "      <th>points</th>\n",
       "      <th>points_buffer</th>\n",
       "    </tr>\n",
       "  </thead>\n",
       "  <tbody>\n",
       "    <tr>\n",
       "      <th>0</th>\n",
       "      <td>828075.634912</td>\n",
       "      <td>-3.184429e+06</td>\n",
       "      <td>(140.6104924557582, -29.04751940499192)</td>\n",
       "      <td>140.610492</td>\n",
       "      <td>-29.047519</td>\n",
       "      <td>POINT (140.6104924557582 -29.04751940499192)</td>\n",
       "      <td>POLYGON ((150.6104924557582 -29.04751940499192...</td>\n",
       "    </tr>\n",
       "    <tr>\n",
       "      <th>1</th>\n",
       "      <td>828189.295436</td>\n",
       "      <td>-3.184429e+06</td>\n",
       "      <td>(140.61167074356007, -29.04745115348828)</td>\n",
       "      <td>140.611671</td>\n",
       "      <td>-29.047451</td>\n",
       "      <td>POINT (140.6116707435601 -29.04745115348828)</td>\n",
       "      <td>POLYGON ((150.6116707435601 -29.04745115348828...</td>\n",
       "    </tr>\n",
       "    <tr>\n",
       "      <th>2</th>\n",
       "      <td>828302.955960</td>\n",
       "      <td>-3.184429e+06</td>\n",
       "      <td>(140.61284902989465, -29.047382892661382)</td>\n",
       "      <td>140.612849</td>\n",
       "      <td>-29.047383</td>\n",
       "      <td>POINT (140.6128490298946 -29.04738289266138)</td>\n",
       "      <td>POLYGON ((150.6128490298946 -29.04738289266138...</td>\n",
       "    </tr>\n",
       "    <tr>\n",
       "      <th>3</th>\n",
       "      <td>828416.616484</td>\n",
       "      <td>-3.184429e+06</td>\n",
       "      <td>(140.61402731476173, -29.047314622511333)</td>\n",
       "      <td>140.614027</td>\n",
       "      <td>-29.047315</td>\n",
       "      <td>POINT (140.6140273147617 -29.04731462251133)</td>\n",
       "      <td>POLYGON ((150.6140273147617 -29.04731462251133...</td>\n",
       "    </tr>\n",
       "    <tr>\n",
       "      <th>4</th>\n",
       "      <td>828530.277008</td>\n",
       "      <td>-3.184429e+06</td>\n",
       "      <td>(140.61520559816114, -29.04724634303804)</td>\n",
       "      <td>140.615206</td>\n",
       "      <td>-29.047246</td>\n",
       "      <td>POINT (140.6152055981611 -29.04724634303804)</td>\n",
       "      <td>POLYGON ((150.6152055981611 -29.04724634303804...</td>\n",
       "    </tr>\n",
       "  </tbody>\n",
       "</table>\n",
       "</div>"
      ],
      "text/plain": [
       "               x             y                              lat_lon_tuple  \\\n",
       "0  828075.634912 -3.184429e+06    (140.6104924557582, -29.04751940499192)   \n",
       "1  828189.295436 -3.184429e+06   (140.61167074356007, -29.04745115348828)   \n",
       "2  828302.955960 -3.184429e+06  (140.61284902989465, -29.047382892661382)   \n",
       "3  828416.616484 -3.184429e+06  (140.61402731476173, -29.047314622511333)   \n",
       "4  828530.277008 -3.184429e+06   (140.61520559816114, -29.04724634303804)   \n",
       "\n",
       "          lat        lon                                        points  \\\n",
       "0  140.610492 -29.047519  POINT (140.6104924557582 -29.04751940499192)   \n",
       "1  140.611671 -29.047451  POINT (140.6116707435601 -29.04745115348828)   \n",
       "2  140.612849 -29.047383  POINT (140.6128490298946 -29.04738289266138)   \n",
       "3  140.614027 -29.047315  POINT (140.6140273147617 -29.04731462251133)   \n",
       "4  140.615206 -29.047246  POINT (140.6152055981611 -29.04724634303804)   \n",
       "\n",
       "                                       points_buffer  \n",
       "0  POLYGON ((150.6104924557582 -29.04751940499192...  \n",
       "1  POLYGON ((150.6116707435601 -29.04745115348828...  \n",
       "2  POLYGON ((150.6128490298946 -29.04738289266138...  \n",
       "3  POLYGON ((150.6140273147617 -29.04731462251133...  \n",
       "4  POLYGON ((150.6152055981611 -29.04724634303804...  "
      ]
     },
     "execution_count": 7,
     "metadata": {},
     "output_type": "execute_result"
    }
   ],
   "source": [
    "points.head()"
   ]
  },
  {
   "cell_type": "markdown",
   "id": "8e6d0566-b2f6-49d1-bf4d-d48ed0cfe55d",
   "metadata": {},
   "source": [
    "Memory of dataframe in MB"
   ]
  },
  {
   "cell_type": "code",
   "execution_count": 8,
   "id": "9c1695fb-2b37-4d93-aa19-0afea78f2def",
   "metadata": {},
   "outputs": [
    {
     "data": {
      "text/plain": [
       "152.5880126953125"
      ]
     },
     "execution_count": 8,
     "metadata": {},
     "output_type": "execute_result"
    }
   ],
   "source": [
    "points.memory_usage(deep=True).sum() / 1024**2"
   ]
  },
  {
   "cell_type": "code",
   "execution_count": 9,
   "id": "0d897435-e1b2-4c14-b313-0de5d379f193",
   "metadata": {},
   "outputs": [],
   "source": [
    "def extract_mean_from_buffer(raster, geom):\n",
    "    data_points = pd.Series(geom.exterior.coords)\n",
    "    values_from_raster = data_points.apply(lambda row: raster.sel(x=row[0], y=row[1], method=\"nearest\").item()).values\n",
    "    return values_from_raster.mean()"
   ]
  },
  {
   "cell_type": "code",
   "execution_count": null,
   "id": "89e5efd8-dcd9-4861-9a9b-7a209e815e4a",
   "metadata": {},
   "outputs": [],
   "source": [
    "%%time\n",
    "%%memit\n",
    "points['extracted_mean'] = points['points_buffer'].apply(lambda x: extract_mean_from_buffer(myraster, x)) * myraster.attrs['scale_factor'] + myraster.attrs['add_offset']"
   ]
  },
  {
   "cell_type": "code",
   "execution_count": null,
   "id": "d7773bec-d0c7-4f23-b04a-ddc69493b507",
   "metadata": {},
   "outputs": [],
   "source": [
    "points.sample(20)"
   ]
  },
  {
   "cell_type": "code",
   "execution_count": null,
   "id": "4c19d3fc-282f-4bc7-a95b-efdc79bfd875",
   "metadata": {},
   "outputs": [],
   "source": [
    "points.shape"
   ]
  }
 ],
 "metadata": {
  "kernelspec": {
   "display_name": "Python 3 (ipykernel)",
   "language": "python",
   "name": "python3"
  },
  "language_info": {
   "codemirror_mode": {
    "name": "ipython",
    "version": 3
   },
   "file_extension": ".py",
   "mimetype": "text/x-python",
   "name": "python",
   "nbconvert_exporter": "python",
   "pygments_lexer": "ipython3",
   "version": "3.9.7"
  }
 },
 "nbformat": 4,
 "nbformat_minor": 5
}
