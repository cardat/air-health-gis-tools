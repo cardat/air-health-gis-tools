{
 "cells": [
  {
   "cell_type": "code",
   "execution_count": 1,
   "id": "869fd48d-bfa1-4a76-b212-efeced58f1d8",
   "metadata": {},
   "outputs": [],
   "source": [
    "%load_ext memory_profiler"
   ]
  },
  {
   "cell_type": "code",
   "execution_count": 2,
   "id": "4f04d1a4-569d-4956-a59f-74c6dcbbde68",
   "metadata": {},
   "outputs": [],
   "source": [
    "import json\n",
    "\n",
    "import numpy as np\n",
    "import pandas as pd\n",
    "# import geopandas as gpd\n",
    "import rioxarray as riox\n",
    "\n",
    "from pyproj import Transformer\n",
    "from shapely.geometry import mapping, Point"
   ]
  },
  {
   "cell_type": "markdown",
   "id": "89863e13-bccf-4dca-949c-b00319523706",
   "metadata": {},
   "source": [
    "## show the mean from scaled data and the scaled mean are the same"
   ]
  },
  {
   "cell_type": "code",
   "execution_count": 3,
   "id": "0082d3ee-ea18-44ed-89e2-5e17f5411a0d",
   "metadata": {},
   "outputs": [
    {
     "data": {
      "text/plain": [
       "array([301.43694295, 643.05399645, 681.56602828, 634.15142661,\n",
       "       188.58588869])"
      ]
     },
     "execution_count": 3,
     "metadata": {},
     "output_type": "execute_result"
    }
   ],
   "source": [
    "random_data = np.random.random(100) * 600 + 124\n",
    "random_data[:5]"
   ]
  },
  {
   "cell_type": "code",
   "execution_count": 4,
   "id": "fb9a10bb-aaef-43cf-8211-3ae8e8d0e203",
   "metadata": {},
   "outputs": [],
   "source": [
    "scaling = 5\n",
    "offset = -3"
   ]
  },
  {
   "cell_type": "code",
   "execution_count": 5,
   "id": "c68cb194-b90e-4e16-8ebe-29af2f939b8f",
   "metadata": {},
   "outputs": [
    {
     "data": {
      "text/plain": [
       "2176.6615862275535"
      ]
     },
     "execution_count": 5,
     "metadata": {},
     "output_type": "execute_result"
    }
   ],
   "source": [
    "(random_data * scaling + offset).mean()"
   ]
  },
  {
   "cell_type": "code",
   "execution_count": 6,
   "id": "801d47a6-4703-49f1-9a16-af31e04c4df7",
   "metadata": {},
   "outputs": [
    {
     "data": {
      "text/plain": [
       "2176.6615862275535"
      ]
     },
     "execution_count": 6,
     "metadata": {},
     "output_type": "execute_result"
    }
   ],
   "source": [
    "random_data.mean() * scaling + offset"
   ]
  },
  {
   "cell_type": "markdown",
   "id": "0c007a7f-c53d-413c-8a52-a4e4efc78e93",
   "metadata": {},
   "source": [
    "__No need to scale the data, but only set the missing value to 0__"
   ]
  },
  {
   "cell_type": "markdown",
   "id": "b46dd4ca-a166-4a0c-abf8-79e34265c615",
   "metadata": {},
   "source": [
    "## Run the analysis in a scalable way"
   ]
  },
  {
   "cell_type": "markdown",
   "id": "594b4e7e-efb6-47a5-b42a-29984dd466c4",
   "metadata": {},
   "source": [
    "load the raster and fill NaNs with 0"
   ]
  },
  {
   "cell_type": "code",
   "execution_count": 7,
   "id": "9e26807c-949c-4068-bba9-00f348a16789",
   "metadata": {
    "tags": []
   },
   "outputs": [],
   "source": [
    "myraster = (\n",
    "    riox.open_rasterio('test-data/Impervious_Surface_NOAA_Satellite_2010/Impervious_Surface_NOAA_Satellite_2010/data_provided/impsa_2010_20210519.tif')\n",
    "    .sel(band=1)\n",
    ")"
   ]
  },
  {
   "cell_type": "code",
   "execution_count": 8,
   "id": "4a493294-6367-474b-a00a-bded391fc1b3",
   "metadata": {},
   "outputs": [],
   "source": [
    "myraster = myraster.where(myraster != myraster.rio.nodata, 0)"
   ]
  },
  {
   "cell_type": "markdown",
   "id": "d7209287-aa5a-481f-996e-467abd518657",
   "metadata": {},
   "source": [
    "Load points for data extraction and create buffers"
   ]
  },
  {
   "cell_type": "code",
   "execution_count": 9,
   "id": "fbdb14b4-50a5-47e4-8d5c-8aa3f2271c26",
   "metadata": {},
   "outputs": [],
   "source": [
    "transformer = Transformer.from_crs(\"EPSG:3577\", myraster.rio.crs, always_xy=True)"
   ]
  },
  {
   "cell_type": "code",
   "execution_count": 10,
   "id": "73c4144a-2e0d-4dbb-911b-0852373440ca",
   "metadata": {},
   "outputs": [],
   "source": [
    "points = (\n",
    "    pd.read_csv('test-data/APPMA_test_subset.csv')\n",
    "    .assign(\n",
    "        lat_lon_tuple = lambda columns: columns[['x', 'y']].apply(lambda row: transformer.transform(row['x'], row['y']), axis=1),\n",
    "        lat = lambda columns: columns['lat_lon_tuple'].apply(lambda el: el[0]),\n",
    "        lon = lambda columns: columns['lat_lon_tuple'].apply(lambda el: el[1]),\n",
    "        points = lambda columns: columns['lat_lon_tuple'].apply(Point),\n",
    "        points_buffer = lambda columns: columns['points'].apply(lambda x: x.buffer(10))\n",
    "    )\n",
    ")"
   ]
  },
  {
   "cell_type": "code",
   "execution_count": 11,
   "id": "24ea77e0-8946-477b-9a81-2e55a86e63e1",
   "metadata": {},
   "outputs": [
    {
     "data": {
      "text/html": [
       "<div>\n",
       "<style scoped>\n",
       "    .dataframe tbody tr th:only-of-type {\n",
       "        vertical-align: middle;\n",
       "    }\n",
       "\n",
       "    .dataframe tbody tr th {\n",
       "        vertical-align: top;\n",
       "    }\n",
       "\n",
       "    .dataframe thead th {\n",
       "        text-align: right;\n",
       "    }\n",
       "</style>\n",
       "<table border=\"1\" class=\"dataframe\">\n",
       "  <thead>\n",
       "    <tr style=\"text-align: right;\">\n",
       "      <th></th>\n",
       "      <th>x</th>\n",
       "      <th>y</th>\n",
       "      <th>lat_lon_tuple</th>\n",
       "      <th>lat</th>\n",
       "      <th>lon</th>\n",
       "      <th>points</th>\n",
       "      <th>points_buffer</th>\n",
       "    </tr>\n",
       "  </thead>\n",
       "  <tbody>\n",
       "    <tr>\n",
       "      <th>0</th>\n",
       "      <td>1.338752e+06</td>\n",
       "      <td>-3.860481e+06</td>\n",
       "      <td>(146.6897558575884, -34.6523707513246)</td>\n",
       "      <td>146.689756</td>\n",
       "      <td>-34.652371</td>\n",
       "      <td>POINT (146.6897558575884 -34.6523707513246)</td>\n",
       "      <td>POLYGON ((156.6897558575884 -34.6523707513246,...</td>\n",
       "    </tr>\n",
       "    <tr>\n",
       "      <th>1</th>\n",
       "      <td>1.164170e+06</td>\n",
       "      <td>-3.923904e+06</td>\n",
       "      <td>(144.8577049948836, -35.38806689394188)</td>\n",
       "      <td>144.857705</td>\n",
       "      <td>-35.388067</td>\n",
       "      <td>POINT (144.8577049948836 -35.38806689394188)</td>\n",
       "      <td>POLYGON ((154.8577049948836 -35.38806689394188...</td>\n",
       "    </tr>\n",
       "    <tr>\n",
       "      <th>2</th>\n",
       "      <td>1.259190e+06</td>\n",
       "      <td>-4.078028e+06</td>\n",
       "      <td>(146.08603136242695, -36.67940370746854)</td>\n",
       "      <td>146.086031</td>\n",
       "      <td>-36.679404</td>\n",
       "      <td>POINT (146.086031362427 -36.67940370746854)</td>\n",
       "      <td>POLYGON ((156.086031362427 -36.67940370746854,...</td>\n",
       "    </tr>\n",
       "    <tr>\n",
       "      <th>3</th>\n",
       "      <td>1.088017e+06</td>\n",
       "      <td>-3.216140e+06</td>\n",
       "      <td>(143.33014417830566, -29.148710955228086)</td>\n",
       "      <td>143.330144</td>\n",
       "      <td>-29.148711</td>\n",
       "      <td>POINT (143.3301441783057 -29.14871095522809)</td>\n",
       "      <td>POLYGON ((153.3301441783057 -29.14871095522809...</td>\n",
       "    </tr>\n",
       "    <tr>\n",
       "      <th>4</th>\n",
       "      <td>1.923990e+06</td>\n",
       "      <td>-4.192711e+06</td>\n",
       "      <td>(153.62179911184072, -36.86883390213634)</td>\n",
       "      <td>153.621799</td>\n",
       "      <td>-36.868834</td>\n",
       "      <td>POINT (153.6217991118407 -36.86883390213634)</td>\n",
       "      <td>POLYGON ((163.6217991118407 -36.86883390213634...</td>\n",
       "    </tr>\n",
       "  </tbody>\n",
       "</table>\n",
       "</div>"
      ],
      "text/plain": [
       "              x             y                              lat_lon_tuple  \\\n",
       "0  1.338752e+06 -3.860481e+06     (146.6897558575884, -34.6523707513246)   \n",
       "1  1.164170e+06 -3.923904e+06    (144.8577049948836, -35.38806689394188)   \n",
       "2  1.259190e+06 -4.078028e+06   (146.08603136242695, -36.67940370746854)   \n",
       "3  1.088017e+06 -3.216140e+06  (143.33014417830566, -29.148710955228086)   \n",
       "4  1.923990e+06 -4.192711e+06   (153.62179911184072, -36.86883390213634)   \n",
       "\n",
       "          lat        lon                                        points  \\\n",
       "0  146.689756 -34.652371   POINT (146.6897558575884 -34.6523707513246)   \n",
       "1  144.857705 -35.388067  POINT (144.8577049948836 -35.38806689394188)   \n",
       "2  146.086031 -36.679404   POINT (146.086031362427 -36.67940370746854)   \n",
       "3  143.330144 -29.148711  POINT (143.3301441783057 -29.14871095522809)   \n",
       "4  153.621799 -36.868834  POINT (153.6217991118407 -36.86883390213634)   \n",
       "\n",
       "                                       points_buffer  \n",
       "0  POLYGON ((156.6897558575884 -34.6523707513246,...  \n",
       "1  POLYGON ((154.8577049948836 -35.38806689394188...  \n",
       "2  POLYGON ((156.086031362427 -36.67940370746854,...  \n",
       "3  POLYGON ((153.3301441783057 -29.14871095522809...  \n",
       "4  POLYGON ((163.6217991118407 -36.86883390213634...  "
      ]
     },
     "execution_count": 11,
     "metadata": {},
     "output_type": "execute_result"
    }
   ],
   "source": [
    "points.head()"
   ]
  },
  {
   "cell_type": "markdown",
   "id": "8e6d0566-b2f6-49d1-bf4d-d48ed0cfe55d",
   "metadata": {},
   "source": [
    "Memory of dataframe in MB"
   ]
  },
  {
   "cell_type": "code",
   "execution_count": 12,
   "id": "9c1695fb-2b37-4d93-aa19-0afea78f2def",
   "metadata": {},
   "outputs": [
    {
     "data": {
      "text/plain": [
       "0.015380859375"
      ]
     },
     "execution_count": 12,
     "metadata": {},
     "output_type": "execute_result"
    }
   ],
   "source": [
    "points.memory_usage(deep=True).sum() / 1024**2"
   ]
  },
  {
   "cell_type": "code",
   "execution_count": 13,
   "id": "462b4774-7d71-4917-9728-1590aeabdb61",
   "metadata": {},
   "outputs": [
    {
     "data": {
      "image/svg+xml": [
       "<svg xmlns=\"http://www.w3.org/2000/svg\" xmlns:xlink=\"http://www.w3.org/1999/xlink\" width=\"100.0\" height=\"100.0\" viewBox=\"135.8897558575884 -45.452370751324594 21.600000000000023 21.599999999999998\" preserveAspectRatio=\"xMinYMin meet\"><g transform=\"matrix(1,0,0,-1,0,-69.3047415026492)\"><path fill-rule=\"evenodd\" fill=\"#66cc99\" stroke=\"#555555\" stroke-width=\"0.43200000000000044\" opacity=\"0.6\" d=\"M 156.6897558575884,-34.6523707513246 L 156.6416031243104,-35.632542154620204 L 156.49760866162072,-36.603273971485876 L 156.2591592149105,-37.55521752386922 L 155.92855118270128,-38.47920507497549 L 155.50896850107196,-39.36633811958457 L 155.00445198061385,-40.20807308152062 L 154.4198603912158,-40.99630359296105 L 153.76082366945388,-41.723438563190065 L 153.03368869922488,-42.38247528495196 L 152.24545818778444,-42.967066874350046 L 151.4037232258484,-43.47158339480814 L 150.5165901812393,-43.89116607643746 L 149.59260263013306,-44.221774108646684 L 148.64065907774972,-44.4602235553569 L 147.66992726088404,-44.604218018046566 L 146.68975585758844,-44.6523707513246 L 145.7095844542928,-44.604218018046566 L 144.73885263742716,-44.460223555356905 L 143.78690908504382,-44.22177410864669 L 142.86292153393754,-43.89116607643747 L 141.97578848932847,-43.47158339480816 L 141.1340535273924,-42.96706687435006 L 140.34582301595196,-42.38247528495198 L 139.61868804572296,-41.723438563190086 L 138.95965132396105,-40.99630359296107 L 138.37505973456297,-40.20807308152064 L 137.87054321410488,-39.3663381195846 L 137.45096053247556,-38.47920507497552 L 137.12035250026634,-37.55521752386925 L 136.8819030535561,-36.60327397148591 L 136.73790859086645,-35.63254215462024 L 136.6897558575884,-34.65237075132463 L 136.73790859086643,-33.672199348029025 L 136.8819030535561,-32.701467531163345 L 137.1203525002663,-31.749523978780005 L 137.45096053247553,-30.825536427673732 L 137.87054321410483,-29.938403383064653 L 138.37505973456294,-29.096668421128605 L 138.95965132396103,-28.30843790968817 L 139.6186880457229,-27.58130293945915 L 140.34582301595194,-26.922266217697253 L 141.13405352739235,-26.33767462829917 L 141.97578848932838,-25.83315810784107 L 142.86292153393748,-25.413575426211743 L 143.78690908504373,-25.082967394002523 L 144.73885263742707,-24.844517947292303 L 145.70958445429275,-24.700523484602634 L 146.68975585758835,-24.652370751324597 L 147.66992726088395,-24.700523484602623 L 148.64065907774963,-24.84451794729228 L 149.592602630133,-25.082967394002495 L 150.51659018123925,-25.413575426211708 L 151.40372322584832,-25.833158107841022 L 152.24545818778438,-26.337674628299112 L 153.03368869922483,-26.922266217697192 L 153.76082366945386,-27.581302939459082 L 154.41986039121574,-28.308437909688095 L 155.00445198061382,-29.096668421128523 L 155.50896850107193,-29.93840338306457 L 155.92855118270126,-30.825536427673644 L 156.25915921491048,-31.749523978779912 L 156.4976086616207,-32.701467531163246 L 156.64160312431036,-33.67219934802893 L 156.6897558575884,-34.6523707513246 z\" /></g></svg>"
      ],
      "text/plain": [
       "<shapely.geometry.polygon.Polygon at 0x7f6978562610>"
      ]
     },
     "execution_count": 13,
     "metadata": {},
     "output_type": "execute_result"
    }
   ],
   "source": [
    "points['points_buffer'][0]"
   ]
  },
  {
   "cell_type": "code",
   "execution_count": 14,
   "id": "f8ebfcf8-2684-42ac-ab3c-323a8e499838",
   "metadata": {},
   "outputs": [
    {
     "data": {
      "text/plain": [
       "[(156.6897558575884, -34.6523707513246),\n",
       " (156.6416031243104, -35.632542154620204),\n",
       " (156.49760866162072, -36.603273971485876),\n",
       " (156.2591592149105, -37.55521752386922),\n",
       " (155.92855118270128, -38.47920507497549)]"
      ]
     },
     "execution_count": 14,
     "metadata": {},
     "output_type": "execute_result"
    }
   ],
   "source": [
    "list(points['points_buffer'][0].exterior.coords)[:5]"
   ]
  },
  {
   "cell_type": "markdown",
   "id": "cf9d9a97-bd73-48c2-83a6-516338c9ad2b",
   "metadata": {},
   "source": [
    "#### Extraction function V1"
   ]
  },
  {
   "cell_type": "code",
   "execution_count": 15,
   "id": "0d897435-e1b2-4c14-b313-0de5d379f193",
   "metadata": {},
   "outputs": [],
   "source": [
    "def extract_mean_from_buffer(raster, geom):\n",
    "    data_points = pd.Series(geom.exterior.coords)\n",
    "    values_from_raster = data_points.apply(lambda row: raster.sel(x=row[0], y=row[1], method=\"nearest\").item()).values\n",
    "    return values_from_raster.mean()"
   ]
  },
  {
   "cell_type": "code",
   "execution_count": 16,
   "id": "b2083c6b-b76f-44d9-9af1-5aa2cd9ff677",
   "metadata": {},
   "outputs": [
    {
     "name": "stdout",
     "output_type": "stream",
     "text": [
      "peak memory: 1469.87 MiB, increment: 0.73 MiB\n"
     ]
    }
   ],
   "source": [
    "%%memit\n",
    "extract_mean_from_buffer(myraster, points['points_buffer'][0])"
   ]
  },
  {
   "cell_type": "code",
   "execution_count": 17,
   "id": "5543a68f-d0d3-48db-b5d1-419ddbf18f73",
   "metadata": {},
   "outputs": [
    {
     "name": "stdout",
     "output_type": "stream",
     "text": [
      "37.7 ms ± 675 µs per loop (mean ± std. dev. of 7 runs, 10 loops each)\n"
     ]
    }
   ],
   "source": [
    "%%timeit\n",
    "extract_mean_from_buffer(myraster, points['points_buffer'][0])"
   ]
  },
  {
   "cell_type": "code",
   "execution_count": 18,
   "id": "a3ce3725-cf20-42a3-b8df-eeddc41ed7a1",
   "metadata": {},
   "outputs": [
    {
     "data": {
      "text/plain": [
       "0.0"
      ]
     },
     "execution_count": 18,
     "metadata": {},
     "output_type": "execute_result"
    }
   ],
   "source": [
    "extract_mean_from_buffer(myraster, points['points_buffer'][0])"
   ]
  },
  {
   "cell_type": "markdown",
   "id": "06e7926b-10dc-49c3-8472-28927680a643",
   "metadata": {},
   "source": [
    "#### Extraction function V2"
   ]
  },
  {
   "cell_type": "code",
   "execution_count": 19,
   "id": "200c06c4-f53f-4805-bf48-c131aa4df1d2",
   "metadata": {},
   "outputs": [],
   "source": [
    "def extract_mean_from_bufferv2(raster, geom):\n",
    "    data_points = geom.exterior.coords\n",
    "    values_from_raster = raster.sel(x=[el[0] for el in data_points], y=[el[1] for el in data_points], method=\"nearest\")\n",
    "    return values_from_raster.mean().item()"
   ]
  },
  {
   "cell_type": "code",
   "execution_count": 20,
   "id": "09281898-3074-442c-9d02-4e4b03c1a209",
   "metadata": {},
   "outputs": [
    {
     "name": "stdout",
     "output_type": "stream",
     "text": [
      "peak memory: 1470.30 MiB, increment: 0.00 MiB\n"
     ]
    }
   ],
   "source": [
    "%%memit\n",
    "extract_mean_from_bufferv2(myraster, points['points_buffer'][0])"
   ]
  },
  {
   "cell_type": "code",
   "execution_count": 21,
   "id": "f5db899d-8324-4ba9-9644-2b2d810717cb",
   "metadata": {},
   "outputs": [
    {
     "name": "stdout",
     "output_type": "stream",
     "text": [
      "943 µs ± 6.61 µs per loop (mean ± std. dev. of 7 runs, 1000 loops each)\n"
     ]
    }
   ],
   "source": [
    "%%timeit\n",
    "extract_mean_from_bufferv2(myraster, points['points_buffer'][0])"
   ]
  },
  {
   "cell_type": "code",
   "execution_count": 22,
   "id": "8488ca5a-faf0-4363-888c-5ee741c7c310",
   "metadata": {},
   "outputs": [
    {
     "data": {
      "text/plain": [
       "0.10224852071005917"
      ]
     },
     "execution_count": 22,
     "metadata": {},
     "output_type": "execute_result"
    }
   ],
   "source": [
    "extract_mean_from_bufferv2(myraster, points['points_buffer'][0])"
   ]
  },
  {
   "cell_type": "markdown",
   "id": "768fd64b-3ccf-4bd6-a87b-c331a8c54ec3",
   "metadata": {},
   "source": [
    "#### Investigation of Extraction function V3"
   ]
  },
  {
   "cell_type": "code",
   "execution_count": 14,
   "id": "4717f69e-e291-4ccd-afb1-24561ceeaa94",
   "metadata": {},
   "outputs": [
    {
     "data": {
      "text/plain": [
       "[(156.6897558575884, -34.6523707513246),\n",
       " (156.6416031243104, -35.632542154620204),\n",
       " (156.49760866162072, -36.603273971485876),\n",
       " (156.2591592149105, -37.55521752386922),\n",
       " (155.92855118270128, -38.47920507497549)]"
      ]
     },
     "execution_count": 14,
     "metadata": {},
     "output_type": "execute_result"
    }
   ],
   "source": [
    "coords = points['points_buffer'][0].exterior.coords\n",
    "coords[:5]"
   ]
  },
  {
   "cell_type": "code",
   "execution_count": 24,
   "id": "06a0e9a8-d1e0-4251-b248-3f00d0f3485e",
   "metadata": {},
   "outputs": [
    {
     "data": {
      "text/plain": [
       "array([[0, 0, 0, ..., 0, 0, 0],\n",
       "       [0, 0, 0, ..., 0, 0, 0],\n",
       "       [0, 0, 0, ..., 0, 0, 0],\n",
       "       ...,\n",
       "       [0, 0, 0, ..., 0, 0, 0],\n",
       "       [0, 0, 0, ..., 0, 0, 0],\n",
       "       [0, 0, 0, ..., 0, 0, 0]], dtype=uint8)"
      ]
     },
     "execution_count": 24,
     "metadata": {},
     "output_type": "execute_result"
    }
   ],
   "source": [
    "raster_data = myraster.data\n",
    "raster_data"
   ]
  },
  {
   "cell_type": "code",
   "execution_count": 25,
   "id": "65a79ce6-ef4f-4252-a406-e25650aa3496",
   "metadata": {},
   "outputs": [
    {
     "data": {
      "text/plain": [
       "(22031, 29971)"
      ]
     },
     "execution_count": 25,
     "metadata": {},
     "output_type": "execute_result"
    }
   ],
   "source": [
    "raster_data.shape"
   ]
  },
  {
   "cell_type": "code",
   "execution_count": 26,
   "id": "6a22b9ce-83ad-4c92-a0fc-3b103308ca9e",
   "metadata": {},
   "outputs": [
    {
     "data": {
      "text/plain": [
       "'660,291,101'"
      ]
     },
     "execution_count": 26,
     "metadata": {},
     "output_type": "execute_result"
    }
   ],
   "source": [
    "\"{:,}\".format(raster_data.shape[0] * raster_data.shape[1])"
   ]
  },
  {
   "cell_type": "code",
   "execution_count": 27,
   "id": "7f08aff6-7fab-485f-987d-944010fb5f38",
   "metadata": {},
   "outputs": [
    {
     "data": {
      "text/plain": [
       "65"
      ]
     },
     "execution_count": 27,
     "metadata": {},
     "output_type": "execute_result"
    }
   ],
   "source": [
    "len(coords)"
   ]
  },
  {
   "cell_type": "code",
   "execution_count": 28,
   "id": "8fcff313-6936-4f7e-8574-b4cc4cc85bf0",
   "metadata": {},
   "outputs": [
    {
     "data": {
      "text/plain": [
       "Coordinates:\n",
       "    band         int64 1\n",
       "  * x            (x) float64 96.82 96.82 96.82 96.82 ... 159.2 159.3 159.3 159.3\n",
       "  * y            (y) float64 -9.222 -9.224 -9.226 ... -55.11 -55.12 -55.12\n",
       "    spatial_ref  int64 0"
      ]
     },
     "execution_count": 28,
     "metadata": {},
     "output_type": "execute_result"
    }
   ],
   "source": [
    "myraster.coords"
   ]
  },
  {
   "cell_type": "code",
   "execution_count": 29,
   "id": "446c522c-860e-476f-8180-cd1c645be1ac",
   "metadata": {},
   "outputs": [
    {
     "data": {
      "text/plain": [
       "xarray.core.coordinates.DataArrayCoordinates"
      ]
     },
     "execution_count": 29,
     "metadata": {},
     "output_type": "execute_result"
    }
   ],
   "source": [
    "type(myraster.coords)"
   ]
  },
  {
   "cell_type": "code",
   "execution_count": 30,
   "id": "824cd99e-b42b-4225-a63f-bf7cc72a4a4e",
   "metadata": {},
   "outputs": [],
   "source": [
    "raster_coords = myraster.coords"
   ]
  },
  {
   "cell_type": "code",
   "execution_count": 31,
   "id": "6e151cea-a007-448b-b94c-48e34bba99c1",
   "metadata": {},
   "outputs": [],
   "source": [
    "from scipy.spatial.distance import cdist"
   ]
  },
  {
   "cell_type": "code",
   "execution_count": 32,
   "id": "11d6cb00-6b79-462f-a3da-c7a43323895c",
   "metadata": {},
   "outputs": [
    {
     "ename": "ValueError",
     "evalue": "XB must be a 2-dimensional array.",
     "output_type": "error",
     "traceback": [
      "\u001b[0;31m---------------------------------------------------------------------------\u001b[0m",
      "\u001b[0;31mValueError\u001b[0m                                Traceback (most recent call last)",
      "\u001b[0;32m/tmp/ipykernel_13097/3643452052.py\u001b[0m in \u001b[0;36m<module>\u001b[0;34m\u001b[0m\n\u001b[0;32m----> 1\u001b[0;31m \u001b[0mcdist\u001b[0m\u001b[0;34m(\u001b[0m\u001b[0mcoords\u001b[0m\u001b[0;34m,\u001b[0m \u001b[0mmyraster\u001b[0m\u001b[0;34m.\u001b[0m\u001b[0mcoords\u001b[0m\u001b[0;34m)\u001b[0m\u001b[0;34m\u001b[0m\u001b[0;34m\u001b[0m\u001b[0m\n\u001b[0m",
      "\u001b[0;32m~/miniconda3/envs/airgis/lib/python3.9/site-packages/scipy/spatial/distance.py\u001b[0m in \u001b[0;36mcdist\u001b[0;34m(XA, XB, metric, *args, **kwargs)\u001b[0m\n\u001b[1;32m   2746\u001b[0m         \u001b[0;32mraise\u001b[0m \u001b[0mValueError\u001b[0m\u001b[0;34m(\u001b[0m\u001b[0;34m'XA must be a 2-dimensional array.'\u001b[0m\u001b[0;34m)\u001b[0m\u001b[0;34m\u001b[0m\u001b[0;34m\u001b[0m\u001b[0m\n\u001b[1;32m   2747\u001b[0m     \u001b[0;32mif\u001b[0m \u001b[0mlen\u001b[0m\u001b[0;34m(\u001b[0m\u001b[0msB\u001b[0m\u001b[0;34m)\u001b[0m \u001b[0;34m!=\u001b[0m \u001b[0;36m2\u001b[0m\u001b[0;34m:\u001b[0m\u001b[0;34m\u001b[0m\u001b[0;34m\u001b[0m\u001b[0m\n\u001b[0;32m-> 2748\u001b[0;31m         \u001b[0;32mraise\u001b[0m \u001b[0mValueError\u001b[0m\u001b[0;34m(\u001b[0m\u001b[0;34m'XB must be a 2-dimensional array.'\u001b[0m\u001b[0;34m)\u001b[0m\u001b[0;34m\u001b[0m\u001b[0;34m\u001b[0m\u001b[0m\n\u001b[0m\u001b[1;32m   2749\u001b[0m     \u001b[0;32mif\u001b[0m \u001b[0ms\u001b[0m\u001b[0;34m[\u001b[0m\u001b[0;36m1\u001b[0m\u001b[0;34m]\u001b[0m \u001b[0;34m!=\u001b[0m \u001b[0msB\u001b[0m\u001b[0;34m[\u001b[0m\u001b[0;36m1\u001b[0m\u001b[0;34m]\u001b[0m\u001b[0;34m:\u001b[0m\u001b[0;34m\u001b[0m\u001b[0;34m\u001b[0m\u001b[0m\n\u001b[1;32m   2750\u001b[0m         raise ValueError('XA and XB must have the same number of columns '\n",
      "\u001b[0;31mValueError\u001b[0m: XB must be a 2-dimensional array."
     ]
    }
   ],
   "source": [
    "cdist(coords, myraster.coords)"
   ]
  },
  {
   "cell_type": "code",
   "execution_count": 34,
   "id": "1b0afc13-7c54-479a-b120-f3a65a0143c7",
   "metadata": {},
   "outputs": [
    {
     "name": "stdout",
     "output_type": "stream",
     "text": [
      "peak memory: 14106.67 MiB, increment: 12594.18 MiB\n"
     ]
    }
   ],
   "source": [
    "%%memit\n",
    "o = myraster.coords.to_index()"
   ]
  },
  {
   "cell_type": "code",
   "execution_count": 35,
   "id": "7be440f5-4827-448d-a5e9-53de2a65b0cc",
   "metadata": {},
   "outputs": [
    {
     "data": {
      "text/plain": [
       "pandas.core.indexes.multi.MultiIndex"
      ]
     },
     "execution_count": 35,
     "metadata": {},
     "output_type": "execute_result"
    }
   ],
   "source": [
    "type(o)"
   ]
  },
  {
   "cell_type": "code",
   "execution_count": null,
   "id": "6d82f749-443e-453d-af41-2e6c7ae5c9b3",
   "metadata": {},
   "outputs": [],
   "source": [
    "%%time\n",
    "%%memit\n",
    "cdist(coords, o)"
   ]
  },
  {
   "cell_type": "code",
   "execution_count": null,
   "id": "3496711c-92e6-40ea-a594-497e2d009df9",
   "metadata": {},
   "outputs": [],
   "source": [
    "o.memory_usage(deep=True) / 1024**2"
   ]
  },
  {
   "cell_type": "code",
   "execution_count": null,
   "id": "76eb2a18-6415-4d20-b7af-bc690663c3f2",
   "metadata": {},
   "outputs": [],
   "source": [
    "o[:5]"
   ]
  },
  {
   "cell_type": "code",
   "execution_count": 15,
   "id": "b8f7b188-08c9-4439-af01-fe5906db175e",
   "metadata": {},
   "outputs": [
    {
     "data": {
      "text/plain": [
       "<shapely.coords.CoordinateSequence at 0x7faad18f6a60>"
      ]
     },
     "execution_count": 15,
     "metadata": {},
     "output_type": "execute_result"
    }
   ],
   "source": [
    "coords"
   ]
  },
  {
   "cell_type": "code",
   "execution_count": 17,
   "id": "9f894999-dedc-45a5-b402-70d6ac436d26",
   "metadata": {},
   "outputs": [
    {
     "data": {
      "text/html": [
       "<div><svg style=\"position: absolute; width: 0; height: 0; overflow: hidden\">\n",
       "<defs>\n",
       "<symbol id=\"icon-database\" viewBox=\"0 0 32 32\">\n",
       "<path d=\"M16 0c-8.837 0-16 2.239-16 5v4c0 2.761 7.163 5 16 5s16-2.239 16-5v-4c0-2.761-7.163-5-16-5z\"></path>\n",
       "<path d=\"M16 17c-8.837 0-16-2.239-16-5v6c0 2.761 7.163 5 16 5s16-2.239 16-5v-6c0 2.761-7.163 5-16 5z\"></path>\n",
       "<path d=\"M16 26c-8.837 0-16-2.239-16-5v6c0 2.761 7.163 5 16 5s16-2.239 16-5v-6c0 2.761-7.163 5-16 5z\"></path>\n",
       "</symbol>\n",
       "<symbol id=\"icon-file-text2\" viewBox=\"0 0 32 32\">\n",
       "<path d=\"M28.681 7.159c-0.694-0.947-1.662-2.053-2.724-3.116s-2.169-2.030-3.116-2.724c-1.612-1.182-2.393-1.319-2.841-1.319h-15.5c-1.378 0-2.5 1.121-2.5 2.5v27c0 1.378 1.122 2.5 2.5 2.5h23c1.378 0 2.5-1.122 2.5-2.5v-19.5c0-0.448-0.137-1.23-1.319-2.841zM24.543 5.457c0.959 0.959 1.712 1.825 2.268 2.543h-4.811v-4.811c0.718 0.556 1.584 1.309 2.543 2.268zM28 29.5c0 0.271-0.229 0.5-0.5 0.5h-23c-0.271 0-0.5-0.229-0.5-0.5v-27c0-0.271 0.229-0.5 0.5-0.5 0 0 15.499-0 15.5 0v7c0 0.552 0.448 1 1 1h7v19.5z\"></path>\n",
       "<path d=\"M23 26h-14c-0.552 0-1-0.448-1-1s0.448-1 1-1h14c0.552 0 1 0.448 1 1s-0.448 1-1 1z\"></path>\n",
       "<path d=\"M23 22h-14c-0.552 0-1-0.448-1-1s0.448-1 1-1h14c0.552 0 1 0.448 1 1s-0.448 1-1 1z\"></path>\n",
       "<path d=\"M23 18h-14c-0.552 0-1-0.448-1-1s0.448-1 1-1h14c0.552 0 1 0.448 1 1s-0.448 1-1 1z\"></path>\n",
       "</symbol>\n",
       "</defs>\n",
       "</svg>\n",
       "<style>/* CSS stylesheet for displaying xarray objects in jupyterlab.\n",
       " *\n",
       " */\n",
       "\n",
       ":root {\n",
       "  --xr-font-color0: var(--jp-content-font-color0, rgba(0, 0, 0, 1));\n",
       "  --xr-font-color2: var(--jp-content-font-color2, rgba(0, 0, 0, 0.54));\n",
       "  --xr-font-color3: var(--jp-content-font-color3, rgba(0, 0, 0, 0.38));\n",
       "  --xr-border-color: var(--jp-border-color2, #e0e0e0);\n",
       "  --xr-disabled-color: var(--jp-layout-color3, #bdbdbd);\n",
       "  --xr-background-color: var(--jp-layout-color0, white);\n",
       "  --xr-background-color-row-even: var(--jp-layout-color1, white);\n",
       "  --xr-background-color-row-odd: var(--jp-layout-color2, #eeeeee);\n",
       "}\n",
       "\n",
       "html[theme=dark],\n",
       "body.vscode-dark {\n",
       "  --xr-font-color0: rgba(255, 255, 255, 1);\n",
       "  --xr-font-color2: rgba(255, 255, 255, 0.54);\n",
       "  --xr-font-color3: rgba(255, 255, 255, 0.38);\n",
       "  --xr-border-color: #1F1F1F;\n",
       "  --xr-disabled-color: #515151;\n",
       "  --xr-background-color: #111111;\n",
       "  --xr-background-color-row-even: #111111;\n",
       "  --xr-background-color-row-odd: #313131;\n",
       "}\n",
       "\n",
       ".xr-wrap {\n",
       "  display: block;\n",
       "  min-width: 300px;\n",
       "  max-width: 700px;\n",
       "}\n",
       "\n",
       ".xr-text-repr-fallback {\n",
       "  /* fallback to plain text repr when CSS is not injected (untrusted notebook) */\n",
       "  display: none;\n",
       "}\n",
       "\n",
       ".xr-header {\n",
       "  padding-top: 6px;\n",
       "  padding-bottom: 6px;\n",
       "  margin-bottom: 4px;\n",
       "  border-bottom: solid 1px var(--xr-border-color);\n",
       "}\n",
       "\n",
       ".xr-header > div,\n",
       ".xr-header > ul {\n",
       "  display: inline;\n",
       "  margin-top: 0;\n",
       "  margin-bottom: 0;\n",
       "}\n",
       "\n",
       ".xr-obj-type,\n",
       ".xr-array-name {\n",
       "  margin-left: 2px;\n",
       "  margin-right: 10px;\n",
       "}\n",
       "\n",
       ".xr-obj-type {\n",
       "  color: var(--xr-font-color2);\n",
       "}\n",
       "\n",
       ".xr-sections {\n",
       "  padding-left: 0 !important;\n",
       "  display: grid;\n",
       "  grid-template-columns: 150px auto auto 1fr 20px 20px;\n",
       "}\n",
       "\n",
       ".xr-section-item {\n",
       "  display: contents;\n",
       "}\n",
       "\n",
       ".xr-section-item input {\n",
       "  display: none;\n",
       "}\n",
       "\n",
       ".xr-section-item input + label {\n",
       "  color: var(--xr-disabled-color);\n",
       "}\n",
       "\n",
       ".xr-section-item input:enabled + label {\n",
       "  cursor: pointer;\n",
       "  color: var(--xr-font-color2);\n",
       "}\n",
       "\n",
       ".xr-section-item input:enabled + label:hover {\n",
       "  color: var(--xr-font-color0);\n",
       "}\n",
       "\n",
       ".xr-section-summary {\n",
       "  grid-column: 1;\n",
       "  color: var(--xr-font-color2);\n",
       "  font-weight: 500;\n",
       "}\n",
       "\n",
       ".xr-section-summary > span {\n",
       "  display: inline-block;\n",
       "  padding-left: 0.5em;\n",
       "}\n",
       "\n",
       ".xr-section-summary-in:disabled + label {\n",
       "  color: var(--xr-font-color2);\n",
       "}\n",
       "\n",
       ".xr-section-summary-in + label:before {\n",
       "  display: inline-block;\n",
       "  content: '►';\n",
       "  font-size: 11px;\n",
       "  width: 15px;\n",
       "  text-align: center;\n",
       "}\n",
       "\n",
       ".xr-section-summary-in:disabled + label:before {\n",
       "  color: var(--xr-disabled-color);\n",
       "}\n",
       "\n",
       ".xr-section-summary-in:checked + label:before {\n",
       "  content: '▼';\n",
       "}\n",
       "\n",
       ".xr-section-summary-in:checked + label > span {\n",
       "  display: none;\n",
       "}\n",
       "\n",
       ".xr-section-summary,\n",
       ".xr-section-inline-details {\n",
       "  padding-top: 4px;\n",
       "  padding-bottom: 4px;\n",
       "}\n",
       "\n",
       ".xr-section-inline-details {\n",
       "  grid-column: 2 / -1;\n",
       "}\n",
       "\n",
       ".xr-section-details {\n",
       "  display: none;\n",
       "  grid-column: 1 / -1;\n",
       "  margin-bottom: 5px;\n",
       "}\n",
       "\n",
       ".xr-section-summary-in:checked ~ .xr-section-details {\n",
       "  display: contents;\n",
       "}\n",
       "\n",
       ".xr-array-wrap {\n",
       "  grid-column: 1 / -1;\n",
       "  display: grid;\n",
       "  grid-template-columns: 20px auto;\n",
       "}\n",
       "\n",
       ".xr-array-wrap > label {\n",
       "  grid-column: 1;\n",
       "  vertical-align: top;\n",
       "}\n",
       "\n",
       ".xr-preview {\n",
       "  color: var(--xr-font-color3);\n",
       "}\n",
       "\n",
       ".xr-array-preview,\n",
       ".xr-array-data {\n",
       "  padding: 0 5px !important;\n",
       "  grid-column: 2;\n",
       "}\n",
       "\n",
       ".xr-array-data,\n",
       ".xr-array-in:checked ~ .xr-array-preview {\n",
       "  display: none;\n",
       "}\n",
       "\n",
       ".xr-array-in:checked ~ .xr-array-data,\n",
       ".xr-array-preview {\n",
       "  display: inline-block;\n",
       "}\n",
       "\n",
       ".xr-dim-list {\n",
       "  display: inline-block !important;\n",
       "  list-style: none;\n",
       "  padding: 0 !important;\n",
       "  margin: 0;\n",
       "}\n",
       "\n",
       ".xr-dim-list li {\n",
       "  display: inline-block;\n",
       "  padding: 0;\n",
       "  margin: 0;\n",
       "}\n",
       "\n",
       ".xr-dim-list:before {\n",
       "  content: '(';\n",
       "}\n",
       "\n",
       ".xr-dim-list:after {\n",
       "  content: ')';\n",
       "}\n",
       "\n",
       ".xr-dim-list li:not(:last-child):after {\n",
       "  content: ',';\n",
       "  padding-right: 5px;\n",
       "}\n",
       "\n",
       ".xr-has-index {\n",
       "  font-weight: bold;\n",
       "}\n",
       "\n",
       ".xr-var-list,\n",
       ".xr-var-item {\n",
       "  display: contents;\n",
       "}\n",
       "\n",
       ".xr-var-item > div,\n",
       ".xr-var-item label,\n",
       ".xr-var-item > .xr-var-name span {\n",
       "  background-color: var(--xr-background-color-row-even);\n",
       "  margin-bottom: 0;\n",
       "}\n",
       "\n",
       ".xr-var-item > .xr-var-name:hover span {\n",
       "  padding-right: 5px;\n",
       "}\n",
       "\n",
       ".xr-var-list > li:nth-child(odd) > div,\n",
       ".xr-var-list > li:nth-child(odd) > label,\n",
       ".xr-var-list > li:nth-child(odd) > .xr-var-name span {\n",
       "  background-color: var(--xr-background-color-row-odd);\n",
       "}\n",
       "\n",
       ".xr-var-name {\n",
       "  grid-column: 1;\n",
       "}\n",
       "\n",
       ".xr-var-dims {\n",
       "  grid-column: 2;\n",
       "}\n",
       "\n",
       ".xr-var-dtype {\n",
       "  grid-column: 3;\n",
       "  text-align: right;\n",
       "  color: var(--xr-font-color2);\n",
       "}\n",
       "\n",
       ".xr-var-preview {\n",
       "  grid-column: 4;\n",
       "}\n",
       "\n",
       ".xr-var-name,\n",
       ".xr-var-dims,\n",
       ".xr-var-dtype,\n",
       ".xr-preview,\n",
       ".xr-attrs dt {\n",
       "  white-space: nowrap;\n",
       "  overflow: hidden;\n",
       "  text-overflow: ellipsis;\n",
       "  padding-right: 10px;\n",
       "}\n",
       "\n",
       ".xr-var-name:hover,\n",
       ".xr-var-dims:hover,\n",
       ".xr-var-dtype:hover,\n",
       ".xr-attrs dt:hover {\n",
       "  overflow: visible;\n",
       "  width: auto;\n",
       "  z-index: 1;\n",
       "}\n",
       "\n",
       ".xr-var-attrs,\n",
       ".xr-var-data {\n",
       "  display: none;\n",
       "  background-color: var(--xr-background-color) !important;\n",
       "  padding-bottom: 5px !important;\n",
       "}\n",
       "\n",
       ".xr-var-attrs-in:checked ~ .xr-var-attrs,\n",
       ".xr-var-data-in:checked ~ .xr-var-data {\n",
       "  display: block;\n",
       "}\n",
       "\n",
       ".xr-var-data > table {\n",
       "  float: right;\n",
       "}\n",
       "\n",
       ".xr-var-name span,\n",
       ".xr-var-data,\n",
       ".xr-attrs {\n",
       "  padding-left: 25px !important;\n",
       "}\n",
       "\n",
       ".xr-attrs,\n",
       ".xr-var-attrs,\n",
       ".xr-var-data {\n",
       "  grid-column: 1 / -1;\n",
       "}\n",
       "\n",
       "dl.xr-attrs {\n",
       "  padding: 0;\n",
       "  margin: 0;\n",
       "  display: grid;\n",
       "  grid-template-columns: 125px auto;\n",
       "}\n",
       "\n",
       ".xr-attrs dt,\n",
       ".xr-attrs dd {\n",
       "  padding: 0;\n",
       "  margin: 0;\n",
       "  float: left;\n",
       "  padding-right: 10px;\n",
       "  width: auto;\n",
       "}\n",
       "\n",
       ".xr-attrs dt {\n",
       "  font-weight: normal;\n",
       "  grid-column: 1;\n",
       "}\n",
       "\n",
       ".xr-attrs dt:hover span {\n",
       "  display: inline-block;\n",
       "  background: var(--xr-background-color);\n",
       "  padding-right: 10px;\n",
       "}\n",
       "\n",
       ".xr-attrs dd {\n",
       "  grid-column: 2;\n",
       "  white-space: pre-wrap;\n",
       "  word-break: break-all;\n",
       "}\n",
       "\n",
       ".xr-icon-database,\n",
       ".xr-icon-file-text2 {\n",
       "  display: inline-block;\n",
       "  vertical-align: middle;\n",
       "  width: 1em;\n",
       "  height: 1.5em !important;\n",
       "  stroke-width: 0;\n",
       "  stroke: currentColor;\n",
       "  fill: currentColor;\n",
       "}\n",
       "</style><pre class='xr-text-repr-fallback'>&lt;xarray.DataArray (y: 65, x: 65)&gt;\n",
       "array([[0, 0, 0, ..., 0, 0, 0],\n",
       "       [0, 0, 0, ..., 0, 0, 0],\n",
       "       [0, 0, 0, ..., 0, 0, 0],\n",
       "       ...,\n",
       "       [0, 0, 0, ..., 0, 0, 0],\n",
       "       [0, 0, 0, ..., 0, 0, 0],\n",
       "       [0, 0, 0, ..., 0, 0, 0]], dtype=uint8)\n",
       "Coordinates:\n",
       "    band         int64 1\n",
       "  * x            (x) float64 156.7 156.6 156.5 156.3 ... 156.3 156.5 156.6 156.7\n",
       "  * y            (y) float64 -34.65 -35.63 -36.6 -37.56 ... -32.7 -33.67 -34.65\n",
       "    spatial_ref  int64 0\n",
       "Attributes:\n",
       "    RepresentationType:      ATHEMATIC\n",
       "    STATISTICS_COVARIANCES:  3.543583083713092\n",
       "    STATISTICS_MAXIMUM:      100\n",
       "    STATISTICS_MEAN:         0.081010541781926\n",
       "    STATISTICS_MINIMUM:      0\n",
       "    STATISTICS_SKIPFACTORX:  1\n",
       "    STATISTICS_SKIPFACTORY:  1\n",
       "    STATISTICS_STDDEV:       1.8824407251526\n",
       "    _FillValue:              250.0\n",
       "    scale_factor:            1.0\n",
       "    add_offset:              0.0</pre><div class='xr-wrap' hidden><div class='xr-header'><div class='xr-obj-type'>xarray.DataArray</div><div class='xr-array-name'></div><ul class='xr-dim-list'><li><span class='xr-has-index'>y</span>: 65</li><li><span class='xr-has-index'>x</span>: 65</li></ul></div><ul class='xr-sections'><li class='xr-section-item'><div class='xr-array-wrap'><input id='section-4d7c0ad3-9f68-4bd4-89e9-7b49f9187514' class='xr-array-in' type='checkbox' checked><label for='section-4d7c0ad3-9f68-4bd4-89e9-7b49f9187514' title='Show/hide data repr'><svg class='icon xr-icon-database'><use xlink:href='#icon-database'></use></svg></label><div class='xr-array-preview xr-preview'><span>0 0 0 0 0 0 0 0 0 0 0 0 0 0 0 0 0 ... 0 0 0 0 0 0 0 0 0 0 0 0 0 0 0 0</span></div><div class='xr-array-data'><pre>array([[0, 0, 0, ..., 0, 0, 0],\n",
       "       [0, 0, 0, ..., 0, 0, 0],\n",
       "       [0, 0, 0, ..., 0, 0, 0],\n",
       "       ...,\n",
       "       [0, 0, 0, ..., 0, 0, 0],\n",
       "       [0, 0, 0, ..., 0, 0, 0],\n",
       "       [0, 0, 0, ..., 0, 0, 0]], dtype=uint8)</pre></div></div></li><li class='xr-section-item'><input id='section-63abe643-53b5-4c33-8085-7da8ffed3905' class='xr-section-summary-in' type='checkbox'  checked><label for='section-63abe643-53b5-4c33-8085-7da8ffed3905' class='xr-section-summary' >Coordinates: <span>(4)</span></label><div class='xr-section-inline-details'></div><div class='xr-section-details'><ul class='xr-var-list'><li class='xr-var-item'><div class='xr-var-name'><span>band</span></div><div class='xr-var-dims'>()</div><div class='xr-var-dtype'>int64</div><div class='xr-var-preview xr-preview'>1</div><input id='attrs-ec61deda-3c90-4747-9815-0971982d0edd' class='xr-var-attrs-in' type='checkbox' disabled><label for='attrs-ec61deda-3c90-4747-9815-0971982d0edd' title='Show/Hide attributes'><svg class='icon xr-icon-file-text2'><use xlink:href='#icon-file-text2'></use></svg></label><input id='data-adc2dbba-2f14-4c97-a055-190152beef53' class='xr-var-data-in' type='checkbox'><label for='data-adc2dbba-2f14-4c97-a055-190152beef53' title='Show/Hide data repr'><svg class='icon xr-icon-database'><use xlink:href='#icon-database'></use></svg></label><div class='xr-var-attrs'><dl class='xr-attrs'></dl></div><div class='xr-var-data'><pre>array(1)</pre></div></li><li class='xr-var-item'><div class='xr-var-name'><span class='xr-has-index'>x</span></div><div class='xr-var-dims'>(x)</div><div class='xr-var-dtype'>float64</div><div class='xr-var-preview xr-preview'>156.7 156.6 156.5 ... 156.6 156.7</div><input id='attrs-31a9ca95-93c4-4d40-9818-569612e57f1d' class='xr-var-attrs-in' type='checkbox' disabled><label for='attrs-31a9ca95-93c4-4d40-9818-569612e57f1d' title='Show/Hide attributes'><svg class='icon xr-icon-file-text2'><use xlink:href='#icon-file-text2'></use></svg></label><input id='data-1055e13c-982e-46d4-ad50-50e02602e79e' class='xr-var-data-in' type='checkbox'><label for='data-1055e13c-982e-46d4-ad50-50e02602e79e' title='Show/Hide data repr'><svg class='icon xr-icon-database'><use xlink:href='#icon-database'></use></svg></label><div class='xr-var-attrs'><dl class='xr-attrs'></dl></div><div class='xr-var-data'><pre>array([156.690374, 156.642458, 156.496625, 156.259125, 155.927876, 155.509126,\n",
       "       155.00496 , 154.419545, 153.761212, 153.03413 , 152.244548, 151.402883,\n",
       "       150.517468, 149.592469, 148.640387, 147.669555, 146.69039 , 145.709142,\n",
       "       144.73831 , 143.786228, 142.863313, 141.975815, 141.134149, 140.34665 ,\n",
       "       139.619568, 138.959153, 138.37582 , 137.869571, 137.450822, 137.119572,\n",
       "       136.882073, 136.738323, 136.690406, 136.738323, 136.882073, 137.119572,\n",
       "       137.450822, 137.869571, 138.37582 , 138.959153, 139.619568, 140.34665 ,\n",
       "       141.134149, 141.975815, 142.863313, 143.786228, 144.73831 , 145.709142,\n",
       "       146.69039 , 147.669555, 148.640387, 149.592469, 150.517468, 151.402883,\n",
       "       152.244548, 153.03413 , 153.761212, 154.419545, 155.00496 , 155.509126,\n",
       "       155.927876, 156.259125, 156.496625, 156.642458, 156.690374])</pre></div></li><li class='xr-var-item'><div class='xr-var-name'><span class='xr-has-index'>y</span></div><div class='xr-var-dims'>(y)</div><div class='xr-var-dtype'>float64</div><div class='xr-var-preview xr-preview'>-34.65 -35.63 ... -33.67 -34.65</div><input id='attrs-e7493e18-7f4e-4536-8989-2b1bf8938872' class='xr-var-attrs-in' type='checkbox' disabled><label for='attrs-e7493e18-7f4e-4536-8989-2b1bf8938872' title='Show/Hide attributes'><svg class='icon xr-icon-file-text2'><use xlink:href='#icon-file-text2'></use></svg></label><input id='data-021ca0b1-b6c8-4f9f-aa0c-fd128a9140fc' class='xr-var-data-in' type='checkbox'><label for='data-021ca0b1-b6c8-4f9f-aa0c-fd128a9140fc' title='Show/Hide data repr'><svg class='icon xr-icon-database'><use xlink:href='#icon-database'></use></svg></label><div class='xr-var-attrs'><dl class='xr-attrs'></dl></div><div class='xr-var-data'><pre>array([-34.65307 , -35.632235, -36.603066, -37.555148, -38.480147, -39.365562,\n",
       "       -40.207227, -40.996809, -41.723892, -42.382224, -42.96764 , -43.471805,\n",
       "       -43.890555, -44.221804, -44.459304, -44.605137, -44.653054, -44.605137,\n",
       "       -44.459304, -44.221804, -43.890555, -43.471805, -42.96764 , -42.382224,\n",
       "       -41.723892, -40.996809, -40.207227, -39.365562, -38.480147, -37.555148,\n",
       "       -36.603066, -35.632235, -34.65307 , -33.671821, -32.700989, -31.748908,\n",
       "       -30.825992, -29.938494, -29.096828, -28.30933 , -27.582248, -26.921832,\n",
       "       -26.3385  , -25.83225 , -25.413501, -25.082252, -24.844752, -24.701002,\n",
       "       -24.653086, -24.701002, -24.844752, -25.082252, -25.413501, -25.83225 ,\n",
       "       -26.3385  , -26.921832, -27.582248, -28.30933 , -29.096828, -29.938494,\n",
       "       -30.825992, -31.748908, -32.700989, -33.671821, -34.65307 ])</pre></div></li><li class='xr-var-item'><div class='xr-var-name'><span>spatial_ref</span></div><div class='xr-var-dims'>()</div><div class='xr-var-dtype'>int64</div><div class='xr-var-preview xr-preview'>0</div><input id='attrs-33bad5c6-0194-40d6-ad92-2f4cfd05b428' class='xr-var-attrs-in' type='checkbox' ><label for='attrs-33bad5c6-0194-40d6-ad92-2f4cfd05b428' title='Show/Hide attributes'><svg class='icon xr-icon-file-text2'><use xlink:href='#icon-file-text2'></use></svg></label><input id='data-4d75fbe8-254b-4a6c-99e4-0b8e27ee8733' class='xr-var-data-in' type='checkbox'><label for='data-4d75fbe8-254b-4a6c-99e4-0b8e27ee8733' title='Show/Hide data repr'><svg class='icon xr-icon-database'><use xlink:href='#icon-database'></use></svg></label><div class='xr-var-attrs'><dl class='xr-attrs'><dt><span>crs_wkt :</span></dt><dd>GEOGCS[&quot;GDA94&quot;,DATUM[&quot;Geocentric_Datum_of_Australia_1994&quot;,SPHEROID[&quot;GRS 1980&quot;,6378137,298.257222101004,AUTHORITY[&quot;EPSG&quot;,&quot;7019&quot;]],AUTHORITY[&quot;EPSG&quot;,&quot;6283&quot;]],PRIMEM[&quot;Greenwich&quot;,0],UNIT[&quot;degree&quot;,0.0174532925199433,AUTHORITY[&quot;EPSG&quot;,&quot;9122&quot;]],AXIS[&quot;Latitude&quot;,NORTH],AXIS[&quot;Longitude&quot;,EAST],AUTHORITY[&quot;EPSG&quot;,&quot;4283&quot;]]</dd><dt><span>semi_major_axis :</span></dt><dd>6378137.0</dd><dt><span>semi_minor_axis :</span></dt><dd>6356752.314140356</dd><dt><span>inverse_flattening :</span></dt><dd>298.257222101004</dd><dt><span>reference_ellipsoid_name :</span></dt><dd>GRS 1980</dd><dt><span>longitude_of_prime_meridian :</span></dt><dd>0.0</dd><dt><span>prime_meridian_name :</span></dt><dd>Greenwich</dd><dt><span>geographic_crs_name :</span></dt><dd>GDA94</dd><dt><span>grid_mapping_name :</span></dt><dd>latitude_longitude</dd><dt><span>spatial_ref :</span></dt><dd>GEOGCS[&quot;GDA94&quot;,DATUM[&quot;Geocentric_Datum_of_Australia_1994&quot;,SPHEROID[&quot;GRS 1980&quot;,6378137,298.257222101004,AUTHORITY[&quot;EPSG&quot;,&quot;7019&quot;]],AUTHORITY[&quot;EPSG&quot;,&quot;6283&quot;]],PRIMEM[&quot;Greenwich&quot;,0],UNIT[&quot;degree&quot;,0.0174532925199433,AUTHORITY[&quot;EPSG&quot;,&quot;9122&quot;]],AXIS[&quot;Latitude&quot;,NORTH],AXIS[&quot;Longitude&quot;,EAST],AUTHORITY[&quot;EPSG&quot;,&quot;4283&quot;]]</dd><dt><span>GeoTransform :</span></dt><dd>96.81651176661778 0.0020833300000000308 0.0 -9.220818599092041 0.0 -0.002083330000000031</dd></dl></div><div class='xr-var-data'><pre>array(0)</pre></div></li></ul></div></li><li class='xr-section-item'><input id='section-9fb510cf-9cb5-4f2c-8d4c-d3fbed304433' class='xr-section-summary-in' type='checkbox'  ><label for='section-9fb510cf-9cb5-4f2c-8d4c-d3fbed304433' class='xr-section-summary' >Attributes: <span>(11)</span></label><div class='xr-section-inline-details'></div><div class='xr-section-details'><dl class='xr-attrs'><dt><span>RepresentationType :</span></dt><dd>ATHEMATIC</dd><dt><span>STATISTICS_COVARIANCES :</span></dt><dd>3.543583083713092</dd><dt><span>STATISTICS_MAXIMUM :</span></dt><dd>100</dd><dt><span>STATISTICS_MEAN :</span></dt><dd>0.081010541781926</dd><dt><span>STATISTICS_MINIMUM :</span></dt><dd>0</dd><dt><span>STATISTICS_SKIPFACTORX :</span></dt><dd>1</dd><dt><span>STATISTICS_SKIPFACTORY :</span></dt><dd>1</dd><dt><span>STATISTICS_STDDEV :</span></dt><dd>1.8824407251526</dd><dt><span>_FillValue :</span></dt><dd>250.0</dd><dt><span>scale_factor :</span></dt><dd>1.0</dd><dt><span>add_offset :</span></dt><dd>0.0</dd></dl></div></li></ul></div></div>"
      ],
      "text/plain": [
       "<xarray.DataArray (y: 65, x: 65)>\n",
       "array([[0, 0, 0, ..., 0, 0, 0],\n",
       "       [0, 0, 0, ..., 0, 0, 0],\n",
       "       [0, 0, 0, ..., 0, 0, 0],\n",
       "       ...,\n",
       "       [0, 0, 0, ..., 0, 0, 0],\n",
       "       [0, 0, 0, ..., 0, 0, 0],\n",
       "       [0, 0, 0, ..., 0, 0, 0]], dtype=uint8)\n",
       "Coordinates:\n",
       "    band         int64 1\n",
       "  * x            (x) float64 156.7 156.6 156.5 156.3 ... 156.3 156.5 156.6 156.7\n",
       "  * y            (y) float64 -34.65 -35.63 -36.6 -37.56 ... -32.7 -33.67 -34.65\n",
       "    spatial_ref  int64 0\n",
       "Attributes:\n",
       "    RepresentationType:      ATHEMATIC\n",
       "    STATISTICS_COVARIANCES:  3.543583083713092\n",
       "    STATISTICS_MAXIMUM:      100\n",
       "    STATISTICS_MEAN:         0.081010541781926\n",
       "    STATISTICS_MINIMUM:      0\n",
       "    STATISTICS_SKIPFACTORX:  1\n",
       "    STATISTICS_SKIPFACTORY:  1\n",
       "    STATISTICS_STDDEV:       1.8824407251526\n",
       "    _FillValue:              250.0\n",
       "    scale_factor:            1.0\n",
       "    add_offset:              0.0"
      ]
     },
     "execution_count": 17,
     "metadata": {},
     "output_type": "execute_result"
    }
   ],
   "source": [
    "raster_sel = myraster.sel(x=[el[0] for el in coords], y=[el[1] for el in coords], method=\"nearest\")\n",
    "raster_sel"
   ]
  },
  {
   "cell_type": "code",
   "execution_count": 18,
   "id": "b037ff17-376b-4606-949b-bfc61381ecca",
   "metadata": {},
   "outputs": [],
   "source": [
    "import numpy as np"
   ]
  },
  {
   "cell_type": "code",
   "execution_count": 20,
   "id": "499cd09a-c555-4984-8423-939f0c9aeabe",
   "metadata": {},
   "outputs": [
    {
     "data": {
      "text/plain": [
       "0.0"
      ]
     },
     "execution_count": 20,
     "metadata": {},
     "output_type": "execute_result"
    }
   ],
   "source": [
    "np.diag(raster_sel.data).mean()"
   ]
  },
  {
   "cell_type": "code",
   "execution_count": 21,
   "id": "6d8fd6a8-8349-4d22-899a-645664a7b10b",
   "metadata": {},
   "outputs": [],
   "source": [
    "def extract_mean_from_bufferv3(raster, geom):\n",
    "    data_points = geom.exterior.coords\n",
    "    raster_selection = raster.sel(x=[el[0] for el in data_points], y=[el[1] for el in data_points], method=\"nearest\")\n",
    "    return np.diag(raster_selection.data).mean()"
   ]
  },
  {
   "cell_type": "code",
   "execution_count": 22,
   "id": "09b88672-ee9f-4557-8292-69584e722e33",
   "metadata": {},
   "outputs": [
    {
     "name": "stdout",
     "output_type": "stream",
     "text": [
      "peak memory: 1496.59 MiB, increment: 0.02 MiB\n"
     ]
    }
   ],
   "source": [
    "%%memit\n",
    "extract_mean_from_bufferv3(myraster, points['points_buffer'][0])"
   ]
  },
  {
   "cell_type": "code",
   "execution_count": 23,
   "id": "e15ff6ea-f5c7-4bfd-94e0-d084e85e3a65",
   "metadata": {},
   "outputs": [
    {
     "name": "stdout",
     "output_type": "stream",
     "text": [
      "1.08 ms ± 10.1 µs per loop (mean ± std. dev. of 7 runs, 1000 loops each)\n"
     ]
    }
   ],
   "source": [
    "%%timeit\n",
    "extract_mean_from_bufferv3(myraster, points['points_buffer'][0])"
   ]
  },
  {
   "cell_type": "code",
   "execution_count": 24,
   "id": "1845f96a-d9cd-42a0-8696-cdf971ef54fb",
   "metadata": {},
   "outputs": [
    {
     "data": {
      "text/plain": [
       "0.0"
      ]
     },
     "execution_count": 24,
     "metadata": {},
     "output_type": "execute_result"
    }
   ],
   "source": [
    "extract_mean_from_bufferv3(myraster, points['points_buffer'][0])"
   ]
  }
 ],
 "metadata": {
  "kernelspec": {
   "display_name": "Python 3 (ipykernel)",
   "language": "python",
   "name": "python3"
  },
  "language_info": {
   "codemirror_mode": {
    "name": "ipython",
    "version": 3
   },
   "file_extension": ".py",
   "mimetype": "text/x-python",
   "name": "python",
   "nbconvert_exporter": "python",
   "pygments_lexer": "ipython3",
   "version": "3.9.7"
  }
 },
 "nbformat": 4,
 "nbformat_minor": 5
}
