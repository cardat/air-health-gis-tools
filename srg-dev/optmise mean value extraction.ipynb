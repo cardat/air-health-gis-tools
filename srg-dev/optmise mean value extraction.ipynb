{
 "cells": [
  {
   "cell_type": "code",
   "execution_count": 1,
   "id": "869fd48d-bfa1-4a76-b212-efeced58f1d8",
   "metadata": {},
   "outputs": [],
   "source": [
    "%load_ext memory_profiler"
   ]
  },
  {
   "cell_type": "code",
   "execution_count": 2,
   "id": "4f04d1a4-569d-4956-a59f-74c6dcbbde68",
   "metadata": {},
   "outputs": [],
   "source": [
    "import json\n",
    "\n",
    "import numpy as np\n",
    "import pandas as pd\n",
    "# import geopandas as gpd\n",
    "import rioxarray as riox\n",
    "\n",
    "from pyproj import Transformer\n",
    "from shapely.geometry import mapping, Point"
   ]
  },
  {
   "cell_type": "markdown",
   "id": "89863e13-bccf-4dca-949c-b00319523706",
   "metadata": {},
   "source": [
    "## show the mean from scaled data and the scaled mean are the same"
   ]
  },
  {
   "cell_type": "code",
   "execution_count": 3,
   "id": "0082d3ee-ea18-44ed-89e2-5e17f5411a0d",
   "metadata": {},
   "outputs": [
    {
     "data": {
      "text/plain": [
       "array([301.43694295, 643.05399645, 681.56602828, 634.15142661,\n",
       "       188.58588869])"
      ]
     },
     "execution_count": 3,
     "metadata": {},
     "output_type": "execute_result"
    }
   ],
   "source": [
    "random_data = np.random.random(100) * 600 + 124\n",
    "random_data[:5]"
   ]
  },
  {
   "cell_type": "code",
   "execution_count": 4,
   "id": "fb9a10bb-aaef-43cf-8211-3ae8e8d0e203",
   "metadata": {},
   "outputs": [],
   "source": [
    "scaling = 5\n",
    "offset = -3"
   ]
  },
  {
   "cell_type": "code",
   "execution_count": 5,
   "id": "c68cb194-b90e-4e16-8ebe-29af2f939b8f",
   "metadata": {},
   "outputs": [
    {
     "data": {
      "text/plain": [
       "2176.6615862275535"
      ]
     },
     "execution_count": 5,
     "metadata": {},
     "output_type": "execute_result"
    }
   ],
   "source": [
    "(random_data * scaling + offset).mean()"
   ]
  },
  {
   "cell_type": "code",
   "execution_count": 6,
   "id": "801d47a6-4703-49f1-9a16-af31e04c4df7",
   "metadata": {},
   "outputs": [
    {
     "data": {
      "text/plain": [
       "2176.6615862275535"
      ]
     },
     "execution_count": 6,
     "metadata": {},
     "output_type": "execute_result"
    }
   ],
   "source": [
    "random_data.mean() * scaling + offset"
   ]
  },
  {
   "cell_type": "markdown",
   "id": "0c007a7f-c53d-413c-8a52-a4e4efc78e93",
   "metadata": {},
   "source": [
    "__No need to scale the data, but only set the missing value to 0__"
   ]
  },
  {
   "cell_type": "markdown",
   "id": "b46dd4ca-a166-4a0c-abf8-79e34265c615",
   "metadata": {},
   "source": [
    "## Run the analysis in a scalable way"
   ]
  },
  {
   "cell_type": "markdown",
   "id": "594b4e7e-efb6-47a5-b42a-29984dd466c4",
   "metadata": {},
   "source": [
    "load the raster and fill NaNs with 0"
   ]
  },
  {
   "cell_type": "code",
   "execution_count": 7,
   "id": "9e26807c-949c-4068-bba9-00f348a16789",
   "metadata": {
    "tags": []
   },
   "outputs": [],
   "source": [
    "myraster = (\n",
    "    riox.open_rasterio('test-data/Impervious_Surface_NOAA_Satellite_2010/Impervious_Surface_NOAA_Satellite_2010/data_provided/impsa_2010_20210519.tif')\n",
    "    .sel(band=1)\n",
    ")"
   ]
  },
  {
   "cell_type": "code",
   "execution_count": 8,
   "id": "4a493294-6367-474b-a00a-bded391fc1b3",
   "metadata": {},
   "outputs": [],
   "source": [
    "myraster = myraster.where(myraster != myraster.rio.nodata, 0)"
   ]
  },
  {
   "cell_type": "markdown",
   "id": "d7209287-aa5a-481f-996e-467abd518657",
   "metadata": {},
   "source": [
    "Load points for data extraction and create buffers"
   ]
  },
  {
   "cell_type": "code",
   "execution_count": 9,
   "id": "fbdb14b4-50a5-47e4-8d5c-8aa3f2271c26",
   "metadata": {},
   "outputs": [],
   "source": [
    "transformer = Transformer.from_crs(\"EPSG:3577\", myraster.rio.crs, always_xy=True)"
   ]
  },
  {
   "cell_type": "code",
   "execution_count": 10,
   "id": "73c4144a-2e0d-4dbb-911b-0852373440ca",
   "metadata": {},
   "outputs": [],
   "source": [
    "points = (\n",
    "    pd.read_csv('test-data/APPMA_test_subset.csv')\n",
    "    .assign(\n",
    "        lat_lon_tuple = lambda columns: columns[['x', 'y']].apply(lambda row: transformer.transform(row['x'], row['y']), axis=1),\n",
    "        lat = lambda columns: columns['lat_lon_tuple'].apply(lambda el: el[0]),\n",
    "        lon = lambda columns: columns['lat_lon_tuple'].apply(lambda el: el[1]),\n",
    "        points = lambda columns: columns['lat_lon_tuple'].apply(Point),\n",
    "        points_buffer = lambda columns: columns['points'].apply(lambda x: x.buffer(10))\n",
    "    )\n",
    ")"
   ]
  },
  {
   "cell_type": "code",
   "execution_count": 11,
   "id": "24ea77e0-8946-477b-9a81-2e55a86e63e1",
   "metadata": {},
   "outputs": [
    {
     "data": {
      "text/html": [
       "<div>\n",
       "<style scoped>\n",
       "    .dataframe tbody tr th:only-of-type {\n",
       "        vertical-align: middle;\n",
       "    }\n",
       "\n",
       "    .dataframe tbody tr th {\n",
       "        vertical-align: top;\n",
       "    }\n",
       "\n",
       "    .dataframe thead th {\n",
       "        text-align: right;\n",
       "    }\n",
       "</style>\n",
       "<table border=\"1\" class=\"dataframe\">\n",
       "  <thead>\n",
       "    <tr style=\"text-align: right;\">\n",
       "      <th></th>\n",
       "      <th>x</th>\n",
       "      <th>y</th>\n",
       "      <th>lat_lon_tuple</th>\n",
       "      <th>lat</th>\n",
       "      <th>lon</th>\n",
       "      <th>points</th>\n",
       "      <th>points_buffer</th>\n",
       "    </tr>\n",
       "  </thead>\n",
       "  <tbody>\n",
       "    <tr>\n",
       "      <th>0</th>\n",
       "      <td>1.338752e+06</td>\n",
       "      <td>-3.860481e+06</td>\n",
       "      <td>(146.6897558575884, -34.6523707513246)</td>\n",
       "      <td>146.689756</td>\n",
       "      <td>-34.652371</td>\n",
       "      <td>POINT (146.6897558575884 -34.6523707513246)</td>\n",
       "      <td>POLYGON ((156.6897558575884 -34.6523707513246,...</td>\n",
       "    </tr>\n",
       "    <tr>\n",
       "      <th>1</th>\n",
       "      <td>1.164170e+06</td>\n",
       "      <td>-3.923904e+06</td>\n",
       "      <td>(144.8577049948836, -35.38806689394188)</td>\n",
       "      <td>144.857705</td>\n",
       "      <td>-35.388067</td>\n",
       "      <td>POINT (144.8577049948836 -35.38806689394188)</td>\n",
       "      <td>POLYGON ((154.8577049948836 -35.38806689394188...</td>\n",
       "    </tr>\n",
       "    <tr>\n",
       "      <th>2</th>\n",
       "      <td>1.259190e+06</td>\n",
       "      <td>-4.078028e+06</td>\n",
       "      <td>(146.08603136242695, -36.67940370746854)</td>\n",
       "      <td>146.086031</td>\n",
       "      <td>-36.679404</td>\n",
       "      <td>POINT (146.086031362427 -36.67940370746854)</td>\n",
       "      <td>POLYGON ((156.086031362427 -36.67940370746854,...</td>\n",
       "    </tr>\n",
       "    <tr>\n",
       "      <th>3</th>\n",
       "      <td>1.088017e+06</td>\n",
       "      <td>-3.216140e+06</td>\n",
       "      <td>(143.33014417830566, -29.148710955228086)</td>\n",
       "      <td>143.330144</td>\n",
       "      <td>-29.148711</td>\n",
       "      <td>POINT (143.3301441783057 -29.14871095522809)</td>\n",
       "      <td>POLYGON ((153.3301441783057 -29.14871095522809...</td>\n",
       "    </tr>\n",
       "    <tr>\n",
       "      <th>4</th>\n",
       "      <td>1.923990e+06</td>\n",
       "      <td>-4.192711e+06</td>\n",
       "      <td>(153.62179911184072, -36.86883390213634)</td>\n",
       "      <td>153.621799</td>\n",
       "      <td>-36.868834</td>\n",
       "      <td>POINT (153.6217991118407 -36.86883390213634)</td>\n",
       "      <td>POLYGON ((163.6217991118407 -36.86883390213634...</td>\n",
       "    </tr>\n",
       "  </tbody>\n",
       "</table>\n",
       "</div>"
      ],
      "text/plain": [
       "              x             y                              lat_lon_tuple  \\\n",
       "0  1.338752e+06 -3.860481e+06     (146.6897558575884, -34.6523707513246)   \n",
       "1  1.164170e+06 -3.923904e+06    (144.8577049948836, -35.38806689394188)   \n",
       "2  1.259190e+06 -4.078028e+06   (146.08603136242695, -36.67940370746854)   \n",
       "3  1.088017e+06 -3.216140e+06  (143.33014417830566, -29.148710955228086)   \n",
       "4  1.923990e+06 -4.192711e+06   (153.62179911184072, -36.86883390213634)   \n",
       "\n",
       "          lat        lon                                        points  \\\n",
       "0  146.689756 -34.652371   POINT (146.6897558575884 -34.6523707513246)   \n",
       "1  144.857705 -35.388067  POINT (144.8577049948836 -35.38806689394188)   \n",
       "2  146.086031 -36.679404   POINT (146.086031362427 -36.67940370746854)   \n",
       "3  143.330144 -29.148711  POINT (143.3301441783057 -29.14871095522809)   \n",
       "4  153.621799 -36.868834  POINT (153.6217991118407 -36.86883390213634)   \n",
       "\n",
       "                                       points_buffer  \n",
       "0  POLYGON ((156.6897558575884 -34.6523707513246,...  \n",
       "1  POLYGON ((154.8577049948836 -35.38806689394188...  \n",
       "2  POLYGON ((156.086031362427 -36.67940370746854,...  \n",
       "3  POLYGON ((153.3301441783057 -29.14871095522809...  \n",
       "4  POLYGON ((163.6217991118407 -36.86883390213634...  "
      ]
     },
     "execution_count": 11,
     "metadata": {},
     "output_type": "execute_result"
    }
   ],
   "source": [
    "points.head()"
   ]
  },
  {
   "cell_type": "markdown",
   "id": "8e6d0566-b2f6-49d1-bf4d-d48ed0cfe55d",
   "metadata": {},
   "source": [
    "Memory of dataframe in MB"
   ]
  },
  {
   "cell_type": "code",
   "execution_count": 12,
   "id": "9c1695fb-2b37-4d93-aa19-0afea78f2def",
   "metadata": {},
   "outputs": [
    {
     "data": {
      "text/plain": [
       "0.015380859375"
      ]
     },
     "execution_count": 12,
     "metadata": {},
     "output_type": "execute_result"
    }
   ],
   "source": [
    "points.memory_usage(deep=True).sum() / 1024**2"
   ]
  },
  {
   "cell_type": "code",
   "execution_count": 13,
   "id": "462b4774-7d71-4917-9728-1590aeabdb61",
   "metadata": {},
   "outputs": [
    {
     "data": {
      "image/svg+xml": [
       "<svg xmlns=\"http://www.w3.org/2000/svg\" xmlns:xlink=\"http://www.w3.org/1999/xlink\" width=\"100.0\" height=\"100.0\" viewBox=\"135.8897558575884 -45.452370751324594 21.600000000000023 21.599999999999998\" preserveAspectRatio=\"xMinYMin meet\"><g transform=\"matrix(1,0,0,-1,0,-69.3047415026492)\"><path fill-rule=\"evenodd\" fill=\"#66cc99\" stroke=\"#555555\" stroke-width=\"0.43200000000000044\" opacity=\"0.6\" d=\"M 156.6897558575884,-34.6523707513246 L 156.6416031243104,-35.632542154620204 L 156.49760866162072,-36.603273971485876 L 156.2591592149105,-37.55521752386922 L 155.92855118270128,-38.47920507497549 L 155.50896850107196,-39.36633811958457 L 155.00445198061385,-40.20807308152062 L 154.4198603912158,-40.99630359296105 L 153.76082366945388,-41.723438563190065 L 153.03368869922488,-42.38247528495196 L 152.24545818778444,-42.967066874350046 L 151.4037232258484,-43.47158339480814 L 150.5165901812393,-43.89116607643746 L 149.59260263013306,-44.221774108646684 L 148.64065907774972,-44.4602235553569 L 147.66992726088404,-44.604218018046566 L 146.68975585758844,-44.6523707513246 L 145.7095844542928,-44.604218018046566 L 144.73885263742716,-44.460223555356905 L 143.78690908504382,-44.22177410864669 L 142.86292153393754,-43.89116607643747 L 141.97578848932847,-43.47158339480816 L 141.1340535273924,-42.96706687435006 L 140.34582301595196,-42.38247528495198 L 139.61868804572296,-41.723438563190086 L 138.95965132396105,-40.99630359296107 L 138.37505973456297,-40.20807308152064 L 137.87054321410488,-39.3663381195846 L 137.45096053247556,-38.47920507497552 L 137.12035250026634,-37.55521752386925 L 136.8819030535561,-36.60327397148591 L 136.73790859086645,-35.63254215462024 L 136.6897558575884,-34.65237075132463 L 136.73790859086643,-33.672199348029025 L 136.8819030535561,-32.701467531163345 L 137.1203525002663,-31.749523978780005 L 137.45096053247553,-30.825536427673732 L 137.87054321410483,-29.938403383064653 L 138.37505973456294,-29.096668421128605 L 138.95965132396103,-28.30843790968817 L 139.6186880457229,-27.58130293945915 L 140.34582301595194,-26.922266217697253 L 141.13405352739235,-26.33767462829917 L 141.97578848932838,-25.83315810784107 L 142.86292153393748,-25.413575426211743 L 143.78690908504373,-25.082967394002523 L 144.73885263742707,-24.844517947292303 L 145.70958445429275,-24.700523484602634 L 146.68975585758835,-24.652370751324597 L 147.66992726088395,-24.700523484602623 L 148.64065907774963,-24.84451794729228 L 149.592602630133,-25.082967394002495 L 150.51659018123925,-25.413575426211708 L 151.40372322584832,-25.833158107841022 L 152.24545818778438,-26.337674628299112 L 153.03368869922483,-26.922266217697192 L 153.76082366945386,-27.581302939459082 L 154.41986039121574,-28.308437909688095 L 155.00445198061382,-29.096668421128523 L 155.50896850107193,-29.93840338306457 L 155.92855118270126,-30.825536427673644 L 156.25915921491048,-31.749523978779912 L 156.4976086616207,-32.701467531163246 L 156.64160312431036,-33.67219934802893 L 156.6897558575884,-34.6523707513246 z\" /></g></svg>"
      ],
      "text/plain": [
       "<shapely.geometry.polygon.Polygon at 0x7f6978562610>"
      ]
     },
     "execution_count": 13,
     "metadata": {},
     "output_type": "execute_result"
    }
   ],
   "source": [
    "points['points_buffer'][0]"
   ]
  },
  {
   "cell_type": "code",
   "execution_count": 14,
   "id": "f8ebfcf8-2684-42ac-ab3c-323a8e499838",
   "metadata": {},
   "outputs": [
    {
     "data": {
      "text/plain": [
       "[(156.6897558575884, -34.6523707513246),\n",
       " (156.6416031243104, -35.632542154620204),\n",
       " (156.49760866162072, -36.603273971485876),\n",
       " (156.2591592149105, -37.55521752386922),\n",
       " (155.92855118270128, -38.47920507497549)]"
      ]
     },
     "execution_count": 14,
     "metadata": {},
     "output_type": "execute_result"
    }
   ],
   "source": [
    "list(points['points_buffer'][0].exterior.coords)[:5]"
   ]
  },
  {
   "cell_type": "markdown",
   "id": "cf9d9a97-bd73-48c2-83a6-516338c9ad2b",
   "metadata": {},
   "source": [
    "#### Extraction function V1"
   ]
  },
  {
   "cell_type": "code",
   "execution_count": 15,
   "id": "0d897435-e1b2-4c14-b313-0de5d379f193",
   "metadata": {},
   "outputs": [],
   "source": [
    "def extract_mean_from_buffer(raster, geom):\n",
    "    data_points = pd.Series(geom.exterior.coords)\n",
    "    values_from_raster = data_points.apply(lambda row: raster.sel(x=row[0], y=row[1], method=\"nearest\").item()).values\n",
    "    return values_from_raster.mean()"
   ]
  },
  {
   "cell_type": "code",
   "execution_count": 16,
   "id": "b2083c6b-b76f-44d9-9af1-5aa2cd9ff677",
   "metadata": {},
   "outputs": [
    {
     "name": "stdout",
     "output_type": "stream",
     "text": [
      "peak memory: 1469.87 MiB, increment: 0.73 MiB\n"
     ]
    }
   ],
   "source": [
    "%%memit\n",
    "extract_mean_from_buffer(myraster, points['points_buffer'][0])"
   ]
  },
  {
   "cell_type": "code",
   "execution_count": 17,
   "id": "5543a68f-d0d3-48db-b5d1-419ddbf18f73",
   "metadata": {},
   "outputs": [
    {
     "name": "stdout",
     "output_type": "stream",
     "text": [
      "37.7 ms ± 675 µs per loop (mean ± std. dev. of 7 runs, 10 loops each)\n"
     ]
    }
   ],
   "source": [
    "%%timeit\n",
    "extract_mean_from_buffer(myraster, points['points_buffer'][0])"
   ]
  },
  {
   "cell_type": "code",
   "execution_count": 18,
   "id": "a3ce3725-cf20-42a3-b8df-eeddc41ed7a1",
   "metadata": {},
   "outputs": [
    {
     "data": {
      "text/plain": [
       "0.0"
      ]
     },
     "execution_count": 18,
     "metadata": {},
     "output_type": "execute_result"
    }
   ],
   "source": [
    "extract_mean_from_buffer(myraster, points['points_buffer'][0])"
   ]
  },
  {
   "cell_type": "markdown",
   "id": "06e7926b-10dc-49c3-8472-28927680a643",
   "metadata": {},
   "source": [
    "#### Extraction function V2"
   ]
  },
  {
   "cell_type": "code",
   "execution_count": 19,
   "id": "200c06c4-f53f-4805-bf48-c131aa4df1d2",
   "metadata": {},
   "outputs": [],
   "source": [
    "def extract_mean_from_bufferv2(raster, geom):\n",
    "    data_points = geom.exterior.coords\n",
    "    values_from_raster = raster.sel(x=[el[0] for el in data_points], y=[el[1] for el in data_points], method=\"nearest\")\n",
    "    return values_from_raster.mean().item()"
   ]
  },
  {
   "cell_type": "code",
   "execution_count": 20,
   "id": "09281898-3074-442c-9d02-4e4b03c1a209",
   "metadata": {},
   "outputs": [
    {
     "name": "stdout",
     "output_type": "stream",
     "text": [
      "peak memory: 1470.30 MiB, increment: 0.00 MiB\n"
     ]
    }
   ],
   "source": [
    "%%memit\n",
    "extract_mean_from_bufferv2(myraster, points['points_buffer'][0])"
   ]
  },
  {
   "cell_type": "code",
   "execution_count": 21,
   "id": "f5db899d-8324-4ba9-9644-2b2d810717cb",
   "metadata": {},
   "outputs": [
    {
     "name": "stdout",
     "output_type": "stream",
     "text": [
      "943 µs ± 6.61 µs per loop (mean ± std. dev. of 7 runs, 1000 loops each)\n"
     ]
    }
   ],
   "source": [
    "%%timeit\n",
    "extract_mean_from_bufferv2(myraster, points['points_buffer'][0])"
   ]
  },
  {
   "cell_type": "code",
   "execution_count": 22,
   "id": "8488ca5a-faf0-4363-888c-5ee741c7c310",
   "metadata": {},
   "outputs": [
    {
     "data": {
      "text/plain": [
       "0.10224852071005917"
      ]
     },
     "execution_count": 22,
     "metadata": {},
     "output_type": "execute_result"
    }
   ],
   "source": [
    "extract_mean_from_bufferv2(myraster, points['points_buffer'][0])"
   ]
  },
  {
   "cell_type": "markdown",
   "id": "768fd64b-3ccf-4bd6-a87b-c331a8c54ec3",
   "metadata": {},
   "source": [
    "#### Investigation of Extraction function V3"
   ]
  },
  {
   "cell_type": "code",
   "execution_count": 12,
   "id": "4717f69e-e291-4ccd-afb1-24561ceeaa94",
   "metadata": {},
   "outputs": [
    {
     "data": {
      "text/plain": [
       "[(156.6897558575884, -34.6523707513246),\n",
       " (156.6416031243104, -35.632542154620204),\n",
       " (156.49760866162072, -36.603273971485876),\n",
       " (156.2591592149105, -37.55521752386922),\n",
       " (155.92855118270128, -38.47920507497549)]"
      ]
     },
     "execution_count": 12,
     "metadata": {},
     "output_type": "execute_result"
    }
   ],
   "source": [
    "coords = points['points_buffer'][0].exterior.coords\n",
    "coords[:5]"
   ]
  },
  {
   "cell_type": "code",
   "execution_count": 24,
   "id": "06a0e9a8-d1e0-4251-b248-3f00d0f3485e",
   "metadata": {},
   "outputs": [
    {
     "data": {
      "text/plain": [
       "array([[0, 0, 0, ..., 0, 0, 0],\n",
       "       [0, 0, 0, ..., 0, 0, 0],\n",
       "       [0, 0, 0, ..., 0, 0, 0],\n",
       "       ...,\n",
       "       [0, 0, 0, ..., 0, 0, 0],\n",
       "       [0, 0, 0, ..., 0, 0, 0],\n",
       "       [0, 0, 0, ..., 0, 0, 0]], dtype=uint8)"
      ]
     },
     "execution_count": 24,
     "metadata": {},
     "output_type": "execute_result"
    }
   ],
   "source": [
    "raster_data = myraster.data\n",
    "raster_data"
   ]
  },
  {
   "cell_type": "code",
   "execution_count": 25,
   "id": "65a79ce6-ef4f-4252-a406-e25650aa3496",
   "metadata": {},
   "outputs": [
    {
     "data": {
      "text/plain": [
       "(22031, 29971)"
      ]
     },
     "execution_count": 25,
     "metadata": {},
     "output_type": "execute_result"
    }
   ],
   "source": [
    "raster_data.shape"
   ]
  },
  {
   "cell_type": "code",
   "execution_count": 26,
   "id": "6a22b9ce-83ad-4c92-a0fc-3b103308ca9e",
   "metadata": {},
   "outputs": [
    {
     "data": {
      "text/plain": [
       "'660,291,101'"
      ]
     },
     "execution_count": 26,
     "metadata": {},
     "output_type": "execute_result"
    }
   ],
   "source": [
    "\"{:,}\".format(raster_data.shape[0] * raster_data.shape[1])"
   ]
  },
  {
   "cell_type": "code",
   "execution_count": 27,
   "id": "7f08aff6-7fab-485f-987d-944010fb5f38",
   "metadata": {},
   "outputs": [
    {
     "data": {
      "text/plain": [
       "65"
      ]
     },
     "execution_count": 27,
     "metadata": {},
     "output_type": "execute_result"
    }
   ],
   "source": [
    "len(coords)"
   ]
  },
  {
   "cell_type": "code",
   "execution_count": 28,
   "id": "8fcff313-6936-4f7e-8574-b4cc4cc85bf0",
   "metadata": {},
   "outputs": [
    {
     "data": {
      "text/plain": [
       "Coordinates:\n",
       "    band         int64 1\n",
       "  * x            (x) float64 96.82 96.82 96.82 96.82 ... 159.2 159.3 159.3 159.3\n",
       "  * y            (y) float64 -9.222 -9.224 -9.226 ... -55.11 -55.12 -55.12\n",
       "    spatial_ref  int64 0"
      ]
     },
     "execution_count": 28,
     "metadata": {},
     "output_type": "execute_result"
    }
   ],
   "source": [
    "myraster.coords"
   ]
  },
  {
   "cell_type": "code",
   "execution_count": 29,
   "id": "446c522c-860e-476f-8180-cd1c645be1ac",
   "metadata": {},
   "outputs": [
    {
     "data": {
      "text/plain": [
       "xarray.core.coordinates.DataArrayCoordinates"
      ]
     },
     "execution_count": 29,
     "metadata": {},
     "output_type": "execute_result"
    }
   ],
   "source": [
    "type(myraster.coords)"
   ]
  },
  {
   "cell_type": "code",
   "execution_count": 30,
   "id": "824cd99e-b42b-4225-a63f-bf7cc72a4a4e",
   "metadata": {},
   "outputs": [],
   "source": [
    "raster_coords = myraster.coords"
   ]
  },
  {
   "cell_type": "code",
   "execution_count": 31,
   "id": "6e151cea-a007-448b-b94c-48e34bba99c1",
   "metadata": {},
   "outputs": [],
   "source": [
    "from scipy.spatial.distance import cdist"
   ]
  },
  {
   "cell_type": "code",
   "execution_count": 32,
   "id": "11d6cb00-6b79-462f-a3da-c7a43323895c",
   "metadata": {},
   "outputs": [
    {
     "ename": "ValueError",
     "evalue": "XB must be a 2-dimensional array.",
     "output_type": "error",
     "traceback": [
      "\u001b[0;31m---------------------------------------------------------------------------\u001b[0m",
      "\u001b[0;31mValueError\u001b[0m                                Traceback (most recent call last)",
      "\u001b[0;32m/tmp/ipykernel_13097/3643452052.py\u001b[0m in \u001b[0;36m<module>\u001b[0;34m\u001b[0m\n\u001b[0;32m----> 1\u001b[0;31m \u001b[0mcdist\u001b[0m\u001b[0;34m(\u001b[0m\u001b[0mcoords\u001b[0m\u001b[0;34m,\u001b[0m \u001b[0mmyraster\u001b[0m\u001b[0;34m.\u001b[0m\u001b[0mcoords\u001b[0m\u001b[0;34m)\u001b[0m\u001b[0;34m\u001b[0m\u001b[0;34m\u001b[0m\u001b[0m\n\u001b[0m",
      "\u001b[0;32m~/miniconda3/envs/airgis/lib/python3.9/site-packages/scipy/spatial/distance.py\u001b[0m in \u001b[0;36mcdist\u001b[0;34m(XA, XB, metric, *args, **kwargs)\u001b[0m\n\u001b[1;32m   2746\u001b[0m         \u001b[0;32mraise\u001b[0m \u001b[0mValueError\u001b[0m\u001b[0;34m(\u001b[0m\u001b[0;34m'XA must be a 2-dimensional array.'\u001b[0m\u001b[0;34m)\u001b[0m\u001b[0;34m\u001b[0m\u001b[0;34m\u001b[0m\u001b[0m\n\u001b[1;32m   2747\u001b[0m     \u001b[0;32mif\u001b[0m \u001b[0mlen\u001b[0m\u001b[0;34m(\u001b[0m\u001b[0msB\u001b[0m\u001b[0;34m)\u001b[0m \u001b[0;34m!=\u001b[0m \u001b[0;36m2\u001b[0m\u001b[0;34m:\u001b[0m\u001b[0;34m\u001b[0m\u001b[0;34m\u001b[0m\u001b[0m\n\u001b[0;32m-> 2748\u001b[0;31m         \u001b[0;32mraise\u001b[0m \u001b[0mValueError\u001b[0m\u001b[0;34m(\u001b[0m\u001b[0;34m'XB must be a 2-dimensional array.'\u001b[0m\u001b[0;34m)\u001b[0m\u001b[0;34m\u001b[0m\u001b[0;34m\u001b[0m\u001b[0m\n\u001b[0m\u001b[1;32m   2749\u001b[0m     \u001b[0;32mif\u001b[0m \u001b[0ms\u001b[0m\u001b[0;34m[\u001b[0m\u001b[0;36m1\u001b[0m\u001b[0;34m]\u001b[0m \u001b[0;34m!=\u001b[0m \u001b[0msB\u001b[0m\u001b[0;34m[\u001b[0m\u001b[0;36m1\u001b[0m\u001b[0;34m]\u001b[0m\u001b[0;34m:\u001b[0m\u001b[0;34m\u001b[0m\u001b[0;34m\u001b[0m\u001b[0m\n\u001b[1;32m   2750\u001b[0m         raise ValueError('XA and XB must have the same number of columns '\n",
      "\u001b[0;31mValueError\u001b[0m: XB must be a 2-dimensional array."
     ]
    }
   ],
   "source": [
    "cdist(coords, myraster.coords)"
   ]
  },
  {
   "cell_type": "code",
   "execution_count": 34,
   "id": "1b0afc13-7c54-479a-b120-f3a65a0143c7",
   "metadata": {},
   "outputs": [
    {
     "name": "stdout",
     "output_type": "stream",
     "text": [
      "peak memory: 14106.67 MiB, increment: 12594.18 MiB\n"
     ]
    }
   ],
   "source": [
    "%%memit\n",
    "o = myraster.coords.to_index()"
   ]
  },
  {
   "cell_type": "code",
   "execution_count": 35,
   "id": "7be440f5-4827-448d-a5e9-53de2a65b0cc",
   "metadata": {},
   "outputs": [
    {
     "data": {
      "text/plain": [
       "pandas.core.indexes.multi.MultiIndex"
      ]
     },
     "execution_count": 35,
     "metadata": {},
     "output_type": "execute_result"
    }
   ],
   "source": [
    "type(o)"
   ]
  },
  {
   "cell_type": "code",
   "execution_count": null,
   "id": "6d82f749-443e-453d-af41-2e6c7ae5c9b3",
   "metadata": {},
   "outputs": [],
   "source": [
    "%%time\n",
    "%%memit\n",
    "cdist(coords, o)"
   ]
  },
  {
   "cell_type": "code",
   "execution_count": null,
   "id": "3496711c-92e6-40ea-a594-497e2d009df9",
   "metadata": {},
   "outputs": [],
   "source": [
    "o.memory_usage(deep=True) / 1024**2"
   ]
  },
  {
   "cell_type": "code",
   "execution_count": null,
   "id": "76eb2a18-6415-4d20-b7af-bc690663c3f2",
   "metadata": {},
   "outputs": [],
   "source": [
    "o[:5]"
   ]
  }
 ],
 "metadata": {
  "kernelspec": {
   "display_name": "Python 3 (ipykernel)",
   "language": "python",
   "name": "python3"
  },
  "language_info": {
   "codemirror_mode": {
    "name": "ipython",
    "version": 3
   },
   "file_extension": ".py",
   "mimetype": "text/x-python",
   "name": "python",
   "nbconvert_exporter": "python",
   "pygments_lexer": "ipython3",
   "version": "3.9.7"
  }
 },
 "nbformat": 4,
 "nbformat_minor": 5
}
