{
 "cells": [
  {
   "cell_type": "code",
   "execution_count": 1,
   "id": "4f04d1a4-569d-4956-a59f-74c6dcbbde68",
   "metadata": {},
   "outputs": [],
   "source": [
    "import pandas as pd\n",
    "import dask.dataframe as dd\n",
    "import rioxarray as riox\n",
    "\n",
    "from dask import compute\n",
    "from pyproj import Transformer\n",
    "from shapely.geometry import mapping, Point"
   ]
  },
  {
   "cell_type": "code",
   "execution_count": 2,
   "id": "172b99b7-e982-4286-8ecf-f61ce31dc84d",
   "metadata": {},
   "outputs": [],
   "source": [
    "from dask.distributed import LocalCluster, Client"
   ]
  },
  {
   "cell_type": "code",
   "execution_count": 3,
   "id": "1b27714f-f56d-4f50-b6d9-90a1551f5a99",
   "metadata": {},
   "outputs": [],
   "source": [
    "# cluster = LocalCluster(n_workers=12)\n",
    "# cluster"
   ]
  },
  {
   "cell_type": "code",
   "execution_count": 4,
   "id": "a439f0ba-f569-489e-bf3c-232855c89f72",
   "metadata": {},
   "outputs": [],
   "source": [
    "# cluster.close()"
   ]
  },
  {
   "cell_type": "code",
   "execution_count": 5,
   "id": "16be3a46-83a0-4364-be59-dcc2b9fd6384",
   "metadata": {},
   "outputs": [],
   "source": [
    "# client = Client(cluster)\n",
    "client = Client(\"tcp://127.0.0.1:44791\")"
   ]
  },
  {
   "cell_type": "markdown",
   "id": "b46dd4ca-a166-4a0c-abf8-79e34265c615",
   "metadata": {},
   "source": [
    "## Run the analysis in a scalable way"
   ]
  },
  {
   "cell_type": "markdown",
   "id": "594b4e7e-efb6-47a5-b42a-29984dd466c4",
   "metadata": {},
   "source": [
    "load the raster and fill NaNs with 0"
   ]
  },
  {
   "cell_type": "code",
   "execution_count": 6,
   "id": "9e26807c-949c-4068-bba9-00f348a16789",
   "metadata": {
    "tags": []
   },
   "outputs": [],
   "source": [
    "myraster = (\n",
    "    riox.open_rasterio('test-data/Impervious_Surface_NOAA_Satellite_2010/Impervious_Surface_NOAA_Satellite_2010/data_provided/impsa_2010_20210519.tif')\n",
    "    .sel(band=1)\n",
    ")"
   ]
  },
  {
   "cell_type": "code",
   "execution_count": 7,
   "id": "4a493294-6367-474b-a00a-bded391fc1b3",
   "metadata": {},
   "outputs": [
    {
     "name": "stdout",
     "output_type": "stream",
     "text": [
      "CPU times: user 1.34 s, sys: 253 ms, total: 1.59 s\n",
      "Wall time: 1.6 s\n"
     ]
    }
   ],
   "source": [
    "%%time\n",
    "myraster = myraster.where(myraster != myraster.rio.nodata, 0)"
   ]
  },
  {
   "cell_type": "markdown",
   "id": "d7209287-aa5a-481f-996e-467abd518657",
   "metadata": {},
   "source": [
    "Load points for data extraction and create buffers"
   ]
  },
  {
   "cell_type": "code",
   "execution_count": 8,
   "id": "fbdb14b4-50a5-47e4-8d5c-8aa3f2271c26",
   "metadata": {},
   "outputs": [],
   "source": [
    "transformer = Transformer.from_crs(\"EPSG:3577\", myraster.rio.crs, always_xy=True)"
   ]
  },
  {
   "cell_type": "code",
   "execution_count": 9,
   "id": "73c4144a-2e0d-4dbb-911b-0852373440ca",
   "metadata": {},
   "outputs": [],
   "source": [
    "# points = (\n",
    "#     dd.read_csv('test-data/one-million.csv')\n",
    "#     .repartition(12)\n",
    "#     .rename(columns={'X': 'x', 'Y': 'y'})\n",
    "# )\n",
    "# points.head()"
   ]
  },
  {
   "cell_type": "code",
   "execution_count": 10,
   "id": "1abe2d5a-172a-4d7c-b542-cfafcddbbde5",
   "metadata": {},
   "outputs": [],
   "source": [
    "# points['lat_lon_tuple'] = points[['x', 'y']].apply(\n",
    "#     lambda row: transformer.transform(row['x'], row['y']), axis=1,\n",
    "#     meta=object\n",
    "# )\n",
    "# points['lat'] = points['lat_lon_tuple'].apply(lambda el: el[0], meta=float)\n",
    "# points['lon'] = points['lat_lon_tuple'].apply(lambda el: el[1], meta=float)\n",
    "# points['points'] = points['lat_lon_tuple'].apply(Point, meta=object)\n",
    "# points['points_buffer'] = points['points'].apply(lambda x: x.buffer(10), meta=object)"
   ]
  },
  {
   "cell_type": "code",
   "execution_count": 11,
   "id": "76effda9-496d-4095-b79b-61055c5b6ce0",
   "metadata": {},
   "outputs": [
    {
     "name": "stdout",
     "output_type": "stream",
     "text": [
      "CPU times: user 49.3 s, sys: 603 ms, total: 49.9 s\n",
      "Wall time: 50 s\n"
     ]
    }
   ],
   "source": [
    "%%time\n",
    "points = (\n",
    "    pd.read_csv('test-data/one-million.csv')\n",
    "    .rename(columns={'X': 'x', 'Y': 'y'})\n",
    "    .assign(\n",
    "        lat_lon_tuple = lambda columns: columns[['x', 'y']].apply(\n",
    "            lambda row: transformer.transform(row['x'], row['y']), axis=1\n",
    "        ),\n",
    "        lat = lambda columns: columns['lat_lon_tuple'].apply(lambda el: el[0]),\n",
    "        lon = lambda columns: columns['lat_lon_tuple'].apply(lambda el: el[1]),\n",
    "        points = lambda columns: columns['lat_lon_tuple'].apply(Point),\n",
    "        points_buffer = lambda columns: columns['points'].apply(lambda x: x.buffer(10))\n",
    "    )\n",
    ")"
   ]
  },
  {
   "cell_type": "markdown",
   "id": "95f887b7-147f-4968-8376-af72a4b9b632",
   "metadata": {},
   "source": [
    "create dask dataframe, scatter to dictribute computing cluster and run extraction"
   ]
  },
  {
   "cell_type": "code",
   "execution_count": 12,
   "id": "3c43233f-a7e1-40bc-8b4e-92d7489268ce",
   "metadata": {},
   "outputs": [],
   "source": [
    "points_dask = dd.from_pandas(points, npartitions=4).persist()"
   ]
  },
  {
   "cell_type": "code",
   "execution_count": 13,
   "id": "0d897435-e1b2-4c14-b313-0de5d379f193",
   "metadata": {},
   "outputs": [],
   "source": [
    "def extract_mean_from_buffer(raster, geom):\n",
    "    data_points = pd.Series(geom.exterior.coords)\n",
    "    values_from_raster = data_points.apply(lambda row: raster.sel(x=row[0], y=row[1], method=\"nearest\").item()).values\n",
    "    return values_from_raster.mean()"
   ]
  },
  {
   "cell_type": "code",
   "execution_count": 14,
   "id": "89e5efd8-dcd9-4861-9a9b-7a209e815e4a",
   "metadata": {},
   "outputs": [],
   "source": [
    "points_dask['extracted_mean'] = points_dask['points_buffer'].apply(\n",
    "    lambda x: extract_mean_from_buffer(myraster, x), meta=float\n",
    ") * myraster.attrs['scale_factor'] + myraster.attrs['add_offset']"
   ]
  },
  {
   "cell_type": "code",
   "execution_count": null,
   "id": "000fc98d-f99b-41ed-aed6-b8abab6beea4",
   "metadata": {},
   "outputs": [],
   "source": [
    "%%time\n",
    "points_dask = points_dask.compute()"
   ]
  },
  {
   "cell_type": "code",
   "execution_count": 16,
   "id": "ddf6a35e-a290-4895-86cc-d197d345cb07",
   "metadata": {},
   "outputs": [],
   "source": [
    "client.close()"
   ]
  },
  {
   "cell_type": "code",
   "execution_count": null,
   "id": "d7773bec-d0c7-4f23-b04a-ddc69493b507",
   "metadata": {},
   "outputs": [],
   "source": [
    "points_dask.sample(20)"
   ]
  }
 ],
 "metadata": {
  "kernelspec": {
   "display_name": "Python 3 (ipykernel)",
   "language": "python",
   "name": "python3"
  },
  "language_info": {
   "codemirror_mode": {
    "name": "ipython",
    "version": 3
   },
   "file_extension": ".py",
   "mimetype": "text/x-python",
   "name": "python",
   "nbconvert_exporter": "python",
   "pygments_lexer": "ipython3",
   "version": "3.9.7"
  }
 },
 "nbformat": 4,
 "nbformat_minor": 5
}
